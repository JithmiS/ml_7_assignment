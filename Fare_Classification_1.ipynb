{
  "nbformat": 4,
  "nbformat_minor": 0,
  "metadata": {
    "colab": {
      "name": "Fare Classification_1.ipynb",
      "provenance": [],
      "authorship_tag": "ABX9TyO/3I/C54PhLQapMnG/2Dui",
      "include_colab_link": true
    },
    "kernelspec": {
      "name": "python3",
      "display_name": "Python 3"
    }
  },
  "cells": [
    {
      "cell_type": "markdown",
      "metadata": {
        "id": "view-in-github",
        "colab_type": "text"
      },
      "source": [
        "<a href=\"https://colab.research.google.com/github/JithmiS/ml_7_assignment/blob/master/Fare_Classification_1.ipynb\" target=\"_parent\"><img src=\"https://colab.research.google.com/assets/colab-badge.svg\" alt=\"Open In Colab\"/></a>"
      ]
    },
    {
      "cell_type": "code",
      "metadata": {
        "id": "0hYRYV-oeB6p",
        "colab_type": "code",
        "colab": {
          "base_uri": "https://localhost:8080/",
          "height": 71
        },
        "outputId": "d395d138-fcc7-458b-e3b9-00045e2a65ae"
      },
      "source": [
        "import tensorflow as tf\n",
        "import pandas as pd\n",
        "import numpy as np\n",
        "import matplotlib.pyplot as plt\n",
        "import seaborn as sns\n",
        "from sklearn.model_selection import train_test_split\n",
        "from sklearn.preprocessing import MinMaxScaler, Normalizer\n",
        "from sklearn.decomposition import PCA as sklearnPCA\n",
        "\n",
        "# Supress unnecessary warnings so that presentation looks clean\n",
        "import warnings\n",
        "warnings.filterwarnings(\"ignore\")"
      ],
      "execution_count": null,
      "outputs": [
        {
          "output_type": "stream",
          "text": [
            "/usr/local/lib/python3.6/dist-packages/statsmodels/tools/_testing.py:19: FutureWarning: pandas.util.testing is deprecated. Use the functions in the public API at pandas.testing instead.\n",
            "  import pandas.util.testing as tm\n"
          ],
          "name": "stderr"
        }
      ]
    },
    {
      "cell_type": "code",
      "metadata": {
        "id": "0dTXyyTafMKv",
        "colab_type": "code",
        "colab": {}
      },
      "source": [
        "train_csv = pd.read_csv('/content/train.csv', parse_dates = ['pickup_time','drop_time']).drop(columns='tripid')"
      ],
      "execution_count": null,
      "outputs": []
    },
    {
      "cell_type": "code",
      "metadata": {
        "id": "6_xXrvDkfQDk",
        "colab_type": "code",
        "colab": {}
      },
      "source": [
        "test = pd.read_csv('/content/test.csv', parse_dates = ['pickup_time','drop_time'])"
      ],
      "execution_count": null,
      "outputs": []
    },
    {
      "cell_type": "code",
      "metadata": {
        "id": "OEyBUx8CfTyK",
        "colab_type": "code",
        "colab": {}
      },
      "source": [
        "train_csv['fare'] = train_csv.fare.fillna(train_csv.fare.mean())\n",
        "train_csv['additional_fare'] = train_csv.additional_fare.fillna(train_csv.additional_fare.mean())\n",
        "train_csv['duration'] = train_csv.duration.fillna(train_csv.duration.mean())\n",
        "train_csv['meter_waiting_till_pickup'] = train_csv.meter_waiting_till_pickup.fillna(train_csv.meter_waiting_till_pickup.mean())\n",
        "train_csv['meter_waiting'] = train_csv.meter_waiting.fillna(train_csv.meter_waiting.mean())\n",
        "train_csv['meter_waiting_fare'] = train_csv.meter_waiting_fare.fillna(train_csv.meter_waiting_fare.mean())"
      ],
      "execution_count": null,
      "outputs": []
    },
    {
      "cell_type": "code",
      "metadata": {
        "id": "WHiTlgxzfads",
        "colab_type": "code",
        "colab": {}
      },
      "source": [
        "# Absolute difference time\n",
        "train_csv['abs_time'] = (train_csv['drop_time'] - train_csv['pickup_time']).abs()\n",
        "test['abs_time'] = (test['drop_time'] - test['pickup_time']).abs()"
      ],
      "execution_count": null,
      "outputs": []
    },
    {
      "cell_type": "code",
      "metadata": {
        "id": "KG4VGEPAggOL",
        "colab_type": "code",
        "colab": {}
      },
      "source": [
        "# Absolute difference in latitude and longitude\n",
        "train_csv['abs_lat_diff'] = (train_csv['drop_lat'] - train_csv['pick_lat']).abs()\n",
        "train_csv['abs_lon_diff'] = (train_csv['drop_lon'] - train_csv['pick_lon']).abs()"
      ],
      "execution_count": null,
      "outputs": []
    },
    {
      "cell_type": "code",
      "metadata": {
        "id": "t4Iv1a3TgRqk",
        "colab_type": "code",
        "colab": {}
      },
      "source": [
        "train_csv['label'] = train_csv['label'].map({'correct':1,'incorrect':0})"
      ],
      "execution_count": null,
      "outputs": []
    },
    {
      "cell_type": "code",
      "metadata": {
        "id": "uICQrImUgwe1",
        "colab_type": "code",
        "colab": {}
      },
      "source": [
        "train_csv = train_csv.drop(['pickup_time', 'drop_time', 'pick_lat','pick_lon', 'drop_lat', 'drop_lon'], axis=1)"
      ],
      "execution_count": null,
      "outputs": []
    },
    {
      "cell_type": "code",
      "metadata": {
        "id": "qfP5cq7ihEry",
        "colab_type": "code",
        "colab": {}
      },
      "source": [
        "# Create absolute differences\n",
        "test['abs_lat_diff'] = (test['drop_lat'] - test['pick_lat']).abs()\n",
        "test['abs_lon_diff'] = (test['drop_lon'] - test['pick_lon']).abs()"
      ],
      "execution_count": null,
      "outputs": []
    },
    {
      "cell_type": "code",
      "metadata": {
        "id": "a5thHirkKw4h",
        "colab_type": "code",
        "colab": {}
      },
      "source": [
        "# Save the id for submission\n",
        "test_id = list(test.pop('tripid'))"
      ],
      "execution_count": null,
      "outputs": []
    },
    {
      "cell_type": "code",
      "metadata": {
        "id": "4GTdsz5rhg_Z",
        "colab_type": "code",
        "colab": {}
      },
      "source": [
        "test = test.drop(['pickup_time', 'drop_time', 'pick_lat','pick_lon', 'drop_lat', 'drop_lon'], axis=1)\n",
        "train_csv['time'] = (train_csv['abs_time'].dt.seconds.astype(int))\n",
        "test['time'] = (test['abs_time'].dt.seconds.astype(int))\n",
        "train_csv['distance'] = ((((train_csv['abs_lat_diff'])**2 + (train_csv['abs_lon_diff'])**2)**0.5)).abs()\n",
        "test['distance'] = ((((test['abs_lat_diff'])**2 + (test['abs_lon_diff'])**2)**0.5)).abs()\n",
        "train_csv = train_csv.drop(['abs_lat_diff','abs_lon_diff'], axis=1)\n",
        "test = test.drop(['abs_lat_diff','abs_lon_diff'], axis=1)"
      ],
      "execution_count": null,
      "outputs": []
    },
    {
      "cell_type": "code",
      "metadata": {
        "id": "QwQvnSaMGPKN",
        "colab_type": "code",
        "colab": {
          "base_uri": "https://localhost:8080/",
          "height": 631
        },
        "outputId": "d9e49974-83c2-4fc9-a349-5e3c65eeacd1"
      },
      "source": [
        "corr = train_csv.iloc[:,1:].corr()\n",
        "colormap = sns.diverging_palette(220, 10, as_cmap = True)\n",
        "plt.figure(figsize=(9,9))\n",
        "sns.heatmap(corr, cbar = True,  square = True, annot=True, fmt= '.2f',annot_kws={'size': 8},\n",
        "            cmap = colormap, linewidths=0.1, linecolor='white')\n",
        "plt.title('Correlation of Features', y=1.05, size=15)"
      ],
      "execution_count": null,
      "outputs": [
        {
          "output_type": "execute_result",
          "data": {
            "text/plain": [
              "Text(0.5, 1.05, 'Correlation of Features')"
            ]
          },
          "metadata": {
            "tags": []
          },
          "execution_count": 44
        },
        {
          "output_type": "display_data",
          "data": {
            "image/png": "[encoded data removed]",
            "text/plain": [
              "<Figure size 648x648 with 2 Axes>"
            ]
          },
          "metadata": {
            "tags": [],
            "needs_background": "light"
          }
        }
      ]
    },
    {
      "cell_type": "code",
      "metadata": {
        "id": "W96-vsIuqvBF",
        "colab_type": "code",
        "colab": {
          "base_uri": "https://localhost:8080/",
          "height": 439
        },
        "outputId": "d3e72034-c682-489f-cf51-540ced3ff84a"
      },
      "source": [
        "train_csv"
      ],
      "execution_count": null,
      "outputs": [
        {
          "output_type": "execute_result",
          "data": {
            "text/html": [
              "<div>\n",
              "<style scoped>\n",
              "    .dataframe tbody tr th:only-of-type {\n",
              "        vertical-align: middle;\n",
              "    }\n",
              "\n",
              "    .dataframe tbody tr th {\n",
              "        vertical-align: top;\n",
              "    }\n",
              "\n",
              "    .dataframe thead th {\n",
              "        text-align: right;\n",
              "    }\n",
              "</style>\n",
              "<table border=\"1\" class=\"dataframe\">\n",
              "  <thead>\n",
              "    <tr style=\"text-align: right;\">\n",
              "      <th></th>\n",
              "      <th>additional_fare</th>\n",
              "      <th>duration</th>\n",
              "      <th>meter_waiting</th>\n",
              "      <th>meter_waiting_fare</th>\n",
              "      <th>meter_waiting_till_pickup</th>\n",
              "      <th>fare</th>\n",
              "      <th>label</th>\n",
              "      <th>abs_time</th>\n",
              "      <th>time</th>\n",
              "      <th>distance</th>\n",
              "    </tr>\n",
              "  </thead>\n",
              "  <tbody>\n",
              "    <tr>\n",
              "      <th>0</th>\n",
              "      <td>10.500000</td>\n",
              "      <td>834.000000</td>\n",
              "      <td>56.000000</td>\n",
              "      <td>0.000000</td>\n",
              "      <td>64.000000</td>\n",
              "      <td>270.32</td>\n",
              "      <td>1</td>\n",
              "      <td>00:14:00</td>\n",
              "      <td>14</td>\n",
              "      <td>45.869471</td>\n",
              "    </tr>\n",
              "    <tr>\n",
              "      <th>1</th>\n",
              "      <td>10.500000</td>\n",
              "      <td>791.000000</td>\n",
              "      <td>47.000000</td>\n",
              "      <td>0.000000</td>\n",
              "      <td>134.000000</td>\n",
              "      <td>197.85</td>\n",
              "      <td>1</td>\n",
              "      <td>00:13:00</td>\n",
              "      <td>13</td>\n",
              "      <td>28.500449</td>\n",
              "    </tr>\n",
              "    <tr>\n",
              "      <th>2</th>\n",
              "      <td>10.500000</td>\n",
              "      <td>1087.000000</td>\n",
              "      <td>80.000000</td>\n",
              "      <td>0.000000</td>\n",
              "      <td>61.000000</td>\n",
              "      <td>301.64</td>\n",
              "      <td>1</td>\n",
              "      <td>00:18:00</td>\n",
              "      <td>18</td>\n",
              "      <td>57.018769</td>\n",
              "    </tr>\n",
              "    <tr>\n",
              "      <th>3</th>\n",
              "      <td>10.500000</td>\n",
              "      <td>598.000000</td>\n",
              "      <td>271.000000</td>\n",
              "      <td>15.663800</td>\n",
              "      <td>68.000000</td>\n",
              "      <td>82.30</td>\n",
              "      <td>1</td>\n",
              "      <td>00:10:00</td>\n",
              "      <td>10</td>\n",
              "      <td>7.805665</td>\n",
              "    </tr>\n",
              "    <tr>\n",
              "      <th>4</th>\n",
              "      <td>13.719651</td>\n",
              "      <td>1702.858077</td>\n",
              "      <td>629.074231</td>\n",
              "      <td>32.057666</td>\n",
              "      <td>112.466832</td>\n",
              "      <td>358.39</td>\n",
              "      <td>1</td>\n",
              "      <td>00:17:00</td>\n",
              "      <td>17</td>\n",
              "      <td>73.716938</td>\n",
              "    </tr>\n",
              "    <tr>\n",
              "      <th>...</th>\n",
              "      <td>...</td>\n",
              "      <td>...</td>\n",
              "      <td>...</td>\n",
              "      <td>...</td>\n",
              "      <td>...</td>\n",
              "      <td>...</td>\n",
              "      <td>...</td>\n",
              "      <td>...</td>\n",
              "      <td>...</td>\n",
              "      <td>...</td>\n",
              "    </tr>\n",
              "    <tr>\n",
              "      <th>17171</th>\n",
              "      <td>10.500000</td>\n",
              "      <td>838.000000</td>\n",
              "      <td>93.000000</td>\n",
              "      <td>5.421900</td>\n",
              "      <td>451.000000</td>\n",
              "      <td>198.26</td>\n",
              "      <td>1</td>\n",
              "      <td>00:14:00</td>\n",
              "      <td>14</td>\n",
              "      <td>19.086969</td>\n",
              "    </tr>\n",
              "    <tr>\n",
              "      <th>17172</th>\n",
              "      <td>10.500000</td>\n",
              "      <td>2151.000000</td>\n",
              "      <td>428.000000</td>\n",
              "      <td>0.000000</td>\n",
              "      <td>39.000000</td>\n",
              "      <td>581.23</td>\n",
              "      <td>1</td>\n",
              "      <td>00:36:00</td>\n",
              "      <td>36</td>\n",
              "      <td>98.307324</td>\n",
              "    </tr>\n",
              "    <tr>\n",
              "      <th>17173</th>\n",
              "      <td>10.500000</td>\n",
              "      <td>263.000000</td>\n",
              "      <td>9.000000</td>\n",
              "      <td>0.000000</td>\n",
              "      <td>110.000000</td>\n",
              "      <td>76.20</td>\n",
              "      <td>1</td>\n",
              "      <td>00:04:00</td>\n",
              "      <td>4</td>\n",
              "      <td>9.404919</td>\n",
              "    </tr>\n",
              "    <tr>\n",
              "      <th>17174</th>\n",
              "      <td>10.500000</td>\n",
              "      <td>858.000000</td>\n",
              "      <td>115.000000</td>\n",
              "      <td>0.000000</td>\n",
              "      <td>317.000000</td>\n",
              "      <td>133.31</td>\n",
              "      <td>1</td>\n",
              "      <td>00:14:00</td>\n",
              "      <td>14</td>\n",
              "      <td>26.056776</td>\n",
              "    </tr>\n",
              "    <tr>\n",
              "      <th>17175</th>\n",
              "      <td>10.500000</td>\n",
              "      <td>262.000000</td>\n",
              "      <td>21.000000</td>\n",
              "      <td>1.224300</td>\n",
              "      <td>23.000000</td>\n",
              "      <td>98.57</td>\n",
              "      <td>1</td>\n",
              "      <td>00:04:00</td>\n",
              "      <td>4</td>\n",
              "      <td>19.155302</td>\n",
              "    </tr>\n",
              "  </tbody>\n",
              "</table>\n",
              "<p>17176 rows × 10 columns</p>\n",
              "</div>"
            ],
            "text/plain": [
              "       additional_fare     duration  meter_waiting  ...  abs_time  time   distance\n",
              "0            10.500000   834.000000      56.000000  ...  00:14:00    14  45.869471\n",
              "1            10.500000   791.000000      47.000000  ...  00:13:00    13  28.500449\n",
              "2            10.500000  1087.000000      80.000000  ...  00:18:00    18  57.018769\n",
              "3            10.500000   598.000000     271.000000  ...  00:10:00    10   7.805665\n",
              "4            13.719651  1702.858077     629.074231  ...  00:17:00    17  73.716938\n",
              "...                ...          ...            ...  ...       ...   ...        ...\n",
              "17171        10.500000   838.000000      93.000000  ...  00:14:00    14  19.086969\n",
              "17172        10.500000  2151.000000     428.000000  ...  00:36:00    36  98.307324\n",
              "17173        10.500000   263.000000       9.000000  ...  00:04:00     4   9.404919\n",
              "17174        10.500000   858.000000     115.000000  ...  00:14:00    14  26.056776\n",
              "17175        10.500000   262.000000      21.000000  ...  00:04:00     4  19.155302\n",
              "\n",
              "[17176 rows x 10 columns]"
            ]
          },
          "metadata": {
            "tags": []
          },
          "execution_count": 70
        }
      ]
    },
    {
      "cell_type": "code",
      "metadata": {
        "id": "8Gn_eTSbmwzm",
        "colab_type": "code",
        "colab": {}
      },
      "source": [
        "train_csv = train_csv.drop(['abs_time'], axis=1)\n",
        "test = test.drop(['abs_time'], axis=1)"
      ],
      "execution_count": null,
      "outputs": []
    },
    {
      "cell_type": "code",
      "metadata": {
        "id": "O8RvC086cbXh",
        "colab_type": "code",
        "colab": {}
      },
      "source": [
        "train_csv = train_csv.drop(['meter_waiting_till_pickup'], axis=1)\n",
        "test = test.drop(['meter_waiting_till_pickup'], axis=1)"
      ],
      "execution_count": null,
      "outputs": []
    },
    {
      "cell_type": "code",
      "metadata": {
        "id": "0JD14xmisRFw",
        "colab_type": "code",
        "colab": {
          "base_uri": "https://localhost:8080/",
          "height": 204
        },
        "outputId": "95e68e9a-cee1-4bdf-b5e2-4819bfb162c2"
      },
      "source": [
        "train_csv.head()"
      ],
      "execution_count": null,
      "outputs": [
        {
          "output_type": "execute_result",
          "data": {
            "text/html": [
              "<div>\n",
              "<style scoped>\n",
              "    .dataframe tbody tr th:only-of-type {\n",
              "        vertical-align: middle;\n",
              "    }\n",
              "\n",
              "    .dataframe tbody tr th {\n",
              "        vertical-align: top;\n",
              "    }\n",
              "\n",
              "    .dataframe thead th {\n",
              "        text-align: right;\n",
              "    }\n",
              "</style>\n",
              "<table border=\"1\" class=\"dataframe\">\n",
              "  <thead>\n",
              "    <tr style=\"text-align: right;\">\n",
              "      <th></th>\n",
              "      <th>additional_fare</th>\n",
              "      <th>duration</th>\n",
              "      <th>meter_waiting</th>\n",
              "      <th>meter_waiting_fare</th>\n",
              "      <th>fare</th>\n",
              "      <th>label</th>\n",
              "      <th>time</th>\n",
              "      <th>distance</th>\n",
              "    </tr>\n",
              "  </thead>\n",
              "  <tbody>\n",
              "    <tr>\n",
              "      <th>0</th>\n",
              "      <td>10.500000</td>\n",
              "      <td>834.000000</td>\n",
              "      <td>56.000000</td>\n",
              "      <td>0.000000</td>\n",
              "      <td>270.32</td>\n",
              "      <td>1</td>\n",
              "      <td>840</td>\n",
              "      <td>0.045869</td>\n",
              "    </tr>\n",
              "    <tr>\n",
              "      <th>1</th>\n",
              "      <td>10.500000</td>\n",
              "      <td>791.000000</td>\n",
              "      <td>47.000000</td>\n",
              "      <td>0.000000</td>\n",
              "      <td>197.85</td>\n",
              "      <td>1</td>\n",
              "      <td>780</td>\n",
              "      <td>0.028500</td>\n",
              "    </tr>\n",
              "    <tr>\n",
              "      <th>2</th>\n",
              "      <td>10.500000</td>\n",
              "      <td>1087.000000</td>\n",
              "      <td>80.000000</td>\n",
              "      <td>0.000000</td>\n",
              "      <td>301.64</td>\n",
              "      <td>1</td>\n",
              "      <td>1080</td>\n",
              "      <td>0.057019</td>\n",
              "    </tr>\n",
              "    <tr>\n",
              "      <th>3</th>\n",
              "      <td>10.500000</td>\n",
              "      <td>598.000000</td>\n",
              "      <td>271.000000</td>\n",
              "      <td>15.663800</td>\n",
              "      <td>82.30</td>\n",
              "      <td>1</td>\n",
              "      <td>600</td>\n",
              "      <td>0.007806</td>\n",
              "    </tr>\n",
              "    <tr>\n",
              "      <th>4</th>\n",
              "      <td>13.719651</td>\n",
              "      <td>1702.858077</td>\n",
              "      <td>629.074231</td>\n",
              "      <td>32.057666</td>\n",
              "      <td>358.39</td>\n",
              "      <td>1</td>\n",
              "      <td>1020</td>\n",
              "      <td>0.073717</td>\n",
              "    </tr>\n",
              "  </tbody>\n",
              "</table>\n",
              "</div>"
            ],
            "text/plain": [
              "   additional_fare     duration  meter_waiting  ...  label  time  distance\n",
              "0        10.500000   834.000000      56.000000  ...      1   840  0.045869\n",
              "1        10.500000   791.000000      47.000000  ...      1   780  0.028500\n",
              "2        10.500000  1087.000000      80.000000  ...      1  1080  0.057019\n",
              "3        10.500000   598.000000     271.000000  ...      1   600  0.007806\n",
              "4        13.719651  1702.858077     629.074231  ...      1  1020  0.073717\n",
              "\n",
              "[5 rows x 8 columns]"
            ]
          },
          "metadata": {
            "tags": []
          },
          "execution_count": 14
        }
      ]
    },
    {
      "cell_type": "code",
      "metadata": {
        "id": "GtIreG0AiITd",
        "colab_type": "code",
        "colab": {}
      },
      "source": [
        "predictors = train_csv.drop(['label'], axis=1)\n",
        "target = train_csv['label']\n",
        "\n",
        "X_train,X_test,Y_train,Y_test = train_test_split(predictors,target,test_size=0.20,random_state=0)"
      ],
      "execution_count": null,
      "outputs": []
    },
    {
      "cell_type": "code",
      "metadata": {
        "id": "QUsBWp1ZUqvH",
        "colab_type": "code",
        "colab": {
          "base_uri": "https://localhost:8080/",
          "height": 419
        },
        "outputId": "ffd6d61a-8c56-4e64-dcdb-a38555745bdb"
      },
      "source": [
        "X_train"
      ],
      "execution_count": null,
      "outputs": [
        {
          "output_type": "execute_result",
          "data": {
            "text/html": [
              "<div>\n",
              "<style scoped>\n",
              "    .dataframe tbody tr th:only-of-type {\n",
              "        vertical-align: middle;\n",
              "    }\n",
              "\n",
              "    .dataframe tbody tr th {\n",
              "        vertical-align: top;\n",
              "    }\n",
              "\n",
              "    .dataframe thead th {\n",
              "        text-align: right;\n",
              "    }\n",
              "</style>\n",
              "<table border=\"1\" class=\"dataframe\">\n",
              "  <thead>\n",
              "    <tr style=\"text-align: right;\">\n",
              "      <th></th>\n",
              "      <th>additional_fare</th>\n",
              "      <th>duration</th>\n",
              "      <th>meter_waiting</th>\n",
              "      <th>meter_waiting_fare</th>\n",
              "      <th>fare</th>\n",
              "      <th>time</th>\n",
              "      <th>distance</th>\n",
              "    </tr>\n",
              "  </thead>\n",
              "  <tbody>\n",
              "    <tr>\n",
              "      <th>12974</th>\n",
              "      <td>10.5</td>\n",
              "      <td>1220.0</td>\n",
              "      <td>301.0</td>\n",
              "      <td>0.0000</td>\n",
              "      <td>230.71</td>\n",
              "      <td>1260</td>\n",
              "      <td>0.044885</td>\n",
              "    </tr>\n",
              "    <tr>\n",
              "      <th>6263</th>\n",
              "      <td>5.0</td>\n",
              "      <td>1380.0</td>\n",
              "      <td>738.0</td>\n",
              "      <td>43.0254</td>\n",
              "      <td>211.22</td>\n",
              "      <td>1380</td>\n",
              "      <td>0.000215</td>\n",
              "    </tr>\n",
              "    <tr>\n",
              "      <th>6042</th>\n",
              "      <td>10.5</td>\n",
              "      <td>453.0</td>\n",
              "      <td>74.0</td>\n",
              "      <td>4.3142</td>\n",
              "      <td>86.72</td>\n",
              "      <td>480</td>\n",
              "      <td>0.011898</td>\n",
              "    </tr>\n",
              "    <tr>\n",
              "      <th>14959</th>\n",
              "      <td>10.5</td>\n",
              "      <td>2315.0</td>\n",
              "      <td>284.0</td>\n",
              "      <td>0.0000</td>\n",
              "      <td>545.34</td>\n",
              "      <td>2340</td>\n",
              "      <td>0.111772</td>\n",
              "    </tr>\n",
              "    <tr>\n",
              "      <th>4402</th>\n",
              "      <td>10.5</td>\n",
              "      <td>763.0</td>\n",
              "      <td>67.0</td>\n",
              "      <td>0.0000</td>\n",
              "      <td>208.39</td>\n",
              "      <td>780</td>\n",
              "      <td>0.043374</td>\n",
              "    </tr>\n",
              "    <tr>\n",
              "      <th>...</th>\n",
              "      <td>...</td>\n",
              "      <td>...</td>\n",
              "      <td>...</td>\n",
              "      <td>...</td>\n",
              "      <td>...</td>\n",
              "      <td>...</td>\n",
              "      <td>...</td>\n",
              "    </tr>\n",
              "    <tr>\n",
              "      <th>9225</th>\n",
              "      <td>10.5</td>\n",
              "      <td>758.0</td>\n",
              "      <td>319.0</td>\n",
              "      <td>7.1672</td>\n",
              "      <td>162.75</td>\n",
              "      <td>780</td>\n",
              "      <td>0.014577</td>\n",
              "    </tr>\n",
              "    <tr>\n",
              "      <th>13123</th>\n",
              "      <td>10.5</td>\n",
              "      <td>418.0</td>\n",
              "      <td>13.0</td>\n",
              "      <td>0.0000</td>\n",
              "      <td>154.11</td>\n",
              "      <td>420</td>\n",
              "      <td>0.030418</td>\n",
              "    </tr>\n",
              "    <tr>\n",
              "      <th>9845</th>\n",
              "      <td>10.5</td>\n",
              "      <td>721.0</td>\n",
              "      <td>90.0</td>\n",
              "      <td>0.0000</td>\n",
              "      <td>125.65</td>\n",
              "      <td>720</td>\n",
              "      <td>0.009007</td>\n",
              "    </tr>\n",
              "    <tr>\n",
              "      <th>10799</th>\n",
              "      <td>10.5</td>\n",
              "      <td>496.0</td>\n",
              "      <td>12.0</td>\n",
              "      <td>0.0000</td>\n",
              "      <td>401.66</td>\n",
              "      <td>540</td>\n",
              "      <td>0.026959</td>\n",
              "    </tr>\n",
              "    <tr>\n",
              "      <th>2732</th>\n",
              "      <td>10.5</td>\n",
              "      <td>407.0</td>\n",
              "      <td>50.0</td>\n",
              "      <td>0.0000</td>\n",
              "      <td>125.85</td>\n",
              "      <td>420</td>\n",
              "      <td>0.018597</td>\n",
              "    </tr>\n",
              "  </tbody>\n",
              "</table>\n",
              "<p>13740 rows × 7 columns</p>\n",
              "</div>"
            ],
            "text/plain": [
              "       additional_fare  duration  meter_waiting  ...    fare  time  distance\n",
              "12974             10.5    1220.0          301.0  ...  230.71  1260  0.044885\n",
              "6263               5.0    1380.0          738.0  ...  211.22  1380  0.000215\n",
              "6042              10.5     453.0           74.0  ...   86.72   480  0.011898\n",
              "14959             10.5    2315.0          284.0  ...  545.34  2340  0.111772\n",
              "4402              10.5     763.0           67.0  ...  208.39   780  0.043374\n",
              "...                ...       ...            ...  ...     ...   ...       ...\n",
              "9225              10.5     758.0          319.0  ...  162.75   780  0.014577\n",
              "13123             10.5     418.0           13.0  ...  154.11   420  0.030418\n",
              "9845              10.5     721.0           90.0  ...  125.65   720  0.009007\n",
              "10799             10.5     496.0           12.0  ...  401.66   540  0.026959\n",
              "2732              10.5     407.0           50.0  ...  125.85   420  0.018597\n",
              "\n",
              "[13740 rows x 7 columns]"
            ]
          },
          "metadata": {
            "tags": []
          },
          "execution_count": 50
        }
      ]
    },
    {
      "cell_type": "code",
      "metadata": {
        "id": "M7znsuwNsb7_",
        "colab_type": "code",
        "colab": {
          "base_uri": "https://localhost:8080/",
          "height": 204
        },
        "outputId": "6221f433-05d6-4346-dca7-01ce70f4a459"
      },
      "source": [
        "test.head()"
      ],
      "execution_count": null,
      "outputs": [
        {
          "output_type": "execute_result",
          "data": {
            "text/html": [
              "<div>\n",
              "<style scoped>\n",
              "    .dataframe tbody tr th:only-of-type {\n",
              "        vertical-align: middle;\n",
              "    }\n",
              "\n",
              "    .dataframe tbody tr th {\n",
              "        vertical-align: top;\n",
              "    }\n",
              "\n",
              "    .dataframe thead th {\n",
              "        text-align: right;\n",
              "    }\n",
              "</style>\n",
              "<table border=\"1\" class=\"dataframe\">\n",
              "  <thead>\n",
              "    <tr style=\"text-align: right;\">\n",
              "      <th></th>\n",
              "      <th>additional_fare</th>\n",
              "      <th>duration</th>\n",
              "      <th>meter_waiting</th>\n",
              "      <th>meter_waiting_fare</th>\n",
              "      <th>fare</th>\n",
              "      <th>time</th>\n",
              "    </tr>\n",
              "  </thead>\n",
              "  <tbody>\n",
              "    <tr>\n",
              "      <th>0</th>\n",
              "      <td>10.5</td>\n",
              "      <td>924</td>\n",
              "      <td>42</td>\n",
              "      <td>2.4486</td>\n",
              "      <td>289.27</td>\n",
              "      <td>15</td>\n",
              "    </tr>\n",
              "    <tr>\n",
              "      <th>1</th>\n",
              "      <td>10.5</td>\n",
              "      <td>4249</td>\n",
              "      <td>20</td>\n",
              "      <td>0.0000</td>\n",
              "      <td>1912.70</td>\n",
              "      <td>71</td>\n",
              "    </tr>\n",
              "    <tr>\n",
              "      <th>2</th>\n",
              "      <td>10.5</td>\n",
              "      <td>1552</td>\n",
              "      <td>255</td>\n",
              "      <td>2.6588</td>\n",
              "      <td>394.00</td>\n",
              "      <td>26</td>\n",
              "    </tr>\n",
              "    <tr>\n",
              "      <th>3</th>\n",
              "      <td>10.5</td>\n",
              "      <td>462</td>\n",
              "      <td>16</td>\n",
              "      <td>0.0000</td>\n",
              "      <td>154.32</td>\n",
              "      <td>8</td>\n",
              "    </tr>\n",
              "    <tr>\n",
              "      <th>4</th>\n",
              "      <td>10.5</td>\n",
              "      <td>814</td>\n",
              "      <td>392</td>\n",
              "      <td>12.3692</td>\n",
              "      <td>147.47</td>\n",
              "      <td>14</td>\n",
              "    </tr>\n",
              "  </tbody>\n",
              "</table>\n",
              "</div>"
            ],
            "text/plain": [
              "   additional_fare  duration  meter_waiting  meter_waiting_fare     fare  time\n",
              "0             10.5       924             42              2.4486   289.27    15\n",
              "1             10.5      4249             20              0.0000  1912.70    71\n",
              "2             10.5      1552            255              2.6588   394.00    26\n",
              "3             10.5       462             16              0.0000   154.32     8\n",
              "4             10.5       814            392             12.3692   147.47    14"
            ]
          },
          "metadata": {
            "tags": []
          },
          "execution_count": 57
        }
      ]
    },
    {
      "cell_type": "markdown",
      "metadata": {
        "id": "hZYSMFrJJ1ug",
        "colab_type": "text"
      },
      "source": [
        "# Decision Tree"
      ]
    },
    {
      "cell_type": "code",
      "metadata": {
        "id": "wbYgAk2LJ0fl",
        "colab_type": "code",
        "colab": {}
      },
      "source": [
        "from sklearn.tree import DecisionTreeClassifier\n",
        "\n",
        "max_accuracy = 0\n",
        "\n",
        "\n",
        "for x in range(200):\n",
        "    dt = DecisionTreeClassifier(random_state=x)\n",
        "    dt.fit(X_train,Y_train)\n",
        "    Y_pred_dt = dt.predict(X_test)\n",
        "    current_accuracy = round(accuracy_score(Y_pred_dt,Y_test)*100,2)\n",
        "    if(current_accuracy>max_accuracy):\n",
        "        max_accuracy = current_accuracy\n",
        "        best_x = x\n",
        "        \n",
        "#print(max_accuracy)\n",
        "#print(best_x)\n",
        "\n",
        "\n",
        "dt = DecisionTreeClassifier(random_state=best_x)\n",
        "dt.fit(X_train,Y_train)\n",
        "Y_pred_dt = dt.predict(X_test)\n"
      ],
      "execution_count": null,
      "outputs": []
    },
    {
      "cell_type": "code",
      "metadata": {
        "id": "JwniktueFWH8",
        "colab_type": "code",
        "colab": {}
      },
      "source": [
        "import xgboost as xgb\n",
        "from sklearn.metrics import accuracy_score\n",
        "\n",
        "xgb_model = xgb.XGBClassifier(objective=\"binary:logistic\", random_state=42)\n",
        "xgb_model.fit(X_train, Y_train)\n",
        "\n",
        "Y_pred_xgb = xgb_model.predict(X_test)"
      ],
      "execution_count": null,
      "outputs": []
    },
    {
      "cell_type": "code",
      "metadata": {
        "id": "UtlQdC50LVkJ",
        "colab_type": "code",
        "colab": {
          "base_uri": "https://localhost:8080/",
          "height": 34
        },
        "outputId": "d1d36de2-5e01-42c5-df38-a3099e85e352"
      },
      "source": [
        "Y_pred_xgb"
      ],
      "execution_count": null,
      "outputs": [
        {
          "output_type": "execute_result",
          "data": {
            "text/plain": [
              "array([1, 1, 1, ..., 1, 1, 1])"
            ]
          },
          "metadata": {
            "tags": []
          },
          "execution_count": 27
        }
      ]
    },
    {
      "cell_type": "code",
      "metadata": {
        "id": "taIrSo6TGEwF",
        "colab_type": "code",
        "colab": {
          "base_uri": "https://localhost:8080/",
          "height": 34
        },
        "outputId": "7b99b413-a046-4c54-f550-a95591eb6b48"
      },
      "source": [
        "score_xgb = round(accuracy_score(Y_pred_xgb,Y_test)*100,2)\n",
        "\n",
        "print(\"The accuracy score achieved using XGBoost is: \"+str(score_xgb)+\" %\")"
      ],
      "execution_count": null,
      "outputs": [
        {
          "output_type": "stream",
          "text": [
            "The accuracy score achieved using XGBoost is: 94.18 %\n"
          ],
          "name": "stdout"
        }
      ]
    },
    {
      "cell_type": "code",
      "metadata": {
        "id": "jN8a9WaLGwo8",
        "colab_type": "code",
        "colab": {
          "base_uri": "https://localhost:8080/",
          "height": 68
        },
        "outputId": "6413ec74-96a3-4f51-89aa-be850d417f71"
      },
      "source": [
        "from xgboost import XGBClassifier\n",
        "from sklearn.metrics import confusion_matrix, precision_score, recall_score, f1_score\n",
        "import time\n",
        "\n",
        "xgb = XGBClassifier(n_estimators=100)\n",
        "training_start = time.perf_counter()\n",
        "xgb.fit(X_train, Y_train)\n",
        "training_end = time.perf_counter()\n",
        "prediction_start = time.perf_counter()\n",
        "preds = xgb.predict(X_test)\n",
        "prediction_end = time.perf_counter()\n",
        "acc_xgb = (preds == Y_test).sum().astype(float) / len(preds)*100\n",
        "xgb_train_time = training_end-training_start\n",
        "xgb_prediction_time = prediction_end-prediction_start\n",
        "print(\"XGBoost's prediction accuracy is: %3.2f\" % (acc_xgb))\n",
        "print(\"Time consumed for training: %4.3f\" % (xgb_train_time))\n",
        "print(\"Time consumed for prediction: %6.5f seconds\" % (xgb_prediction_time))"
      ],
      "execution_count": null,
      "outputs": [
        {
          "output_type": "stream",
          "text": [
            "XGBoost's prediction accuracy is: 93.77\n",
            "Time consumed for training: 0.601\n",
            "Time consumed for prediction: 0.01099 seconds\n"
          ],
          "name": "stdout"
        }
      ]
    },
    {
      "cell_type": "code",
      "metadata": {
        "id": "GX7SD-pdRF4M",
        "colab_type": "code",
        "colab": {
          "base_uri": "https://localhost:8080/",
          "height": 34
        },
        "outputId": "86381945-54c5-4fd3-9a9b-117ec96194b4"
      },
      "source": [
        "pred = xgb.predict(test)\n",
        "pred"
      ],
      "execution_count": null,
      "outputs": [
        {
          "output_type": "execute_result",
          "data": {
            "text/plain": [
              "array([1, 1, 1, ..., 1, 1, 1])"
            ]
          },
          "metadata": {
            "tags": []
          },
          "execution_count": 102
        }
      ]
    },
    {
      "cell_type": "code",
      "metadata": {
        "id": "pHZX_q3xHuxn",
        "colab_type": "code",
        "colab": {
          "base_uri": "https://localhost:8080/",
          "height": 51
        },
        "outputId": "78ad647d-3d9d-4ec7-c663-c384075e3348"
      },
      "source": [
        "import xgboost as xgb\n",
        "from xgboost import XGBClassifier\n",
        "\n",
        "from sklearn.metrics import roc_auc_score\n",
        "\n",
        "my_model = xgb.XGBClassifier(base_score=0.5, booster='gbtree', colsample_bylevel=1,\n",
        "       colsample_bytree=1, gamma=0, learning_rate=0.1, max_delta_step=0,\n",
        "       max_depth=4, min_child_weight=1, missing=None, n_estimators=200,\n",
        "       n_jobs=1, nthread=None, objective= 'binary:logistic', random_state=72,\n",
        "       reg_alpha=0, reg_lambda=1, scale_pos_weight=1, seed=None,\n",
        "       silent=True, subsample=1)\n",
        "\n",
        "# Add silent=True to avoid printing out updates with each cycle\n",
        "my_model.fit(X_train, Y_train, verbose=False)\n",
        "\n",
        "\n",
        "# Performance sur le train\n",
        "train_y_pred = my_model.predict(X_train)\n",
        "auc = roc_auc_score(Y_train, train_y_pred)\n",
        "print(\"Performance sur le train : \", auc)\n",
        "\n",
        "# Performance sur le test\n",
        "test_y_pred = my_model.predict(X_test)\n",
        "auc = roc_auc_score(Y_test, test_y_pred)\n",
        "print(\"Performance sur le test : \", auc)"
      ],
      "execution_count": null,
      "outputs": [
        {
          "output_type": "stream",
          "text": [
            "Performance sur le train :  0.8133938753207259\n",
            "Performance sur le test :  0.7714800758064437\n"
          ],
          "name": "stdout"
        }
      ]
    },
    {
      "cell_type": "code",
      "metadata": {
        "id": "TL1QzZxov9jt",
        "colab_type": "code",
        "colab": {
          "base_uri": "https://localhost:8080/",
          "height": 915
        },
        "outputId": "c68210a5-3165-4beb-91bb-3cbaaac042f7"
      },
      "source": [
        "from xgboost import XGBClassifier\n",
        "from sklearn.model_selection import GridSearchCV\n",
        "from sklearn.model_selection import RandomizedSearchCV\n",
        "from sklearn.model_selection import StratifiedKFold\n",
        "\n",
        "model = XGBClassifier(learning_rate =0.11, \n",
        " n_estimators=340, max_depth=4,\n",
        " min_child_weight=6, gamma=0.1, subsample=0.8, colsample_bytree=0.75,\n",
        " objective= 'binary:logistic', nthread=4, scale_pos_weight=1, \n",
        " reg_alpha=1, reg_lambda=1, seed=27)\n",
        "\n",
        "n_estimators = range(100, 750, 20)\n",
        "param_grid = dict(n_estimators=n_estimators)\n",
        "kfold = StratifiedKFold(n_splits=10, shuffle=True, random_state=7)\n",
        "grid_search = GridSearchCV(model, param_grid, scoring=\"neg_log_loss\", n_jobs=-1, cv=kfold)\n",
        "grid_result = grid_search.fit(X_train,Y_train)\n",
        "\n",
        "# summarize results\n",
        "print(\"Best: %f using %s\" % (grid_result.best_score_, grid_result.best_params_))\n",
        "means = grid_result.cv_results_['mean_test_score']\n",
        "stds = grid_result.cv_results_['std_test_score']\n",
        "params = grid_result.cv_results_['params']\n",
        "for mean, stdev, param in zip(means, stds, params):\n",
        "\tprint(\"%f (%f) with: %r\" % (mean, stdev, param))\n",
        " \n",
        "# plot\n",
        "plt.errorbar(n_estimators, means, yerr=stds)\n",
        "plt.title(\"XGBoost n_estimators vs Log Loss\")\n",
        "plt.xlabel('n_estimators')\n",
        "plt.ylabel('Log Loss')\n",
        "plt.savefig('n_estimators.png')"
      ],
      "execution_count": null,
      "outputs": [
        {
          "output_type": "stream",
          "text": [
            "Best: -0.150815 using {'n_estimators': 360}\n",
            "-0.161972 (0.007553) with: {'n_estimators': 100}\n",
            "-0.158295 (0.007610) with: {'n_estimators': 120}\n",
            "-0.155916 (0.007616) with: {'n_estimators': 140}\n",
            "-0.154932 (0.007915) with: {'n_estimators': 160}\n",
            "-0.153646 (0.008127) with: {'n_estimators': 180}\n",
            "-0.152808 (0.008262) with: {'n_estimators': 200}\n",
            "-0.152317 (0.008755) with: {'n_estimators': 220}\n",
            "-0.151910 (0.008828) with: {'n_estimators': 240}\n",
            "-0.152064 (0.009083) with: {'n_estimators': 260}\n",
            "-0.151793 (0.009632) with: {'n_estimators': 280}\n",
            "-0.151501 (0.009855) with: {'n_estimators': 300}\n",
            "-0.151415 (0.010127) with: {'n_estimators': 320}\n",
            "-0.151203 (0.010285) with: {'n_estimators': 340}\n",
            "-0.150815 (0.010520) with: {'n_estimators': 360}\n",
            "-0.151101 (0.010638) with: {'n_estimators': 380}\n",
            "-0.151414 (0.010789) with: {'n_estimators': 400}\n",
            "-0.151576 (0.011339) with: {'n_estimators': 420}\n",
            "-0.151873 (0.011374) with: {'n_estimators': 440}\n",
            "-0.152044 (0.011536) with: {'n_estimators': 460}\n",
            "-0.152520 (0.011776) with: {'n_estimators': 480}\n",
            "-0.152488 (0.012159) with: {'n_estimators': 500}\n",
            "-0.152657 (0.012259) with: {'n_estimators': 520}\n",
            "-0.152816 (0.012302) with: {'n_estimators': 540}\n",
            "-0.152968 (0.012370) with: {'n_estimators': 560}\n",
            "-0.153172 (0.012420) with: {'n_estimators': 580}\n",
            "-0.153465 (0.012469) with: {'n_estimators': 600}\n",
            "-0.153640 (0.012287) with: {'n_estimators': 620}\n",
            "-0.154022 (0.012477) with: {'n_estimators': 640}\n",
            "-0.154266 (0.012485) with: {'n_estimators': 660}\n",
            "-0.154600 (0.012732) with: {'n_estimators': 680}\n",
            "-0.154912 (0.012964) with: {'n_estimators': 700}\n",
            "-0.155314 (0.013156) with: {'n_estimators': 720}\n",
            "-0.155841 (0.013283) with: {'n_estimators': 740}\n"
          ],
          "name": "stdout"
        },
        {
          "output_type": "display_data",
          "data": {
            "image/png": "[encoded data removed]",
            "text/plain": [
              "<Figure size 432x288 with 1 Axes>"
            ]
          },
          "metadata": {
            "tags": [],
            "needs_background": "light"
          }
        }
      ]
    },
    {
      "cell_type": "markdown",
      "metadata": {
        "id": "evTzo93LjKAu",
        "colab_type": "text"
      },
      "source": [
        "# XGBoost Parameter Tuning"
      ]
    },
    {
      "cell_type": "markdown",
      "metadata": {
        "id": "gT4VM7qckbql",
        "colab_type": "text"
      },
      "source": [
        "Tune **max_depth** and **min_child_weight**"
      ]
    },
    {
      "cell_type": "code",
      "metadata": {
        "id": "RIw2rUksjQj4",
        "colab_type": "code",
        "colab": {
          "base_uri": "https://localhost:8080/",
          "height": 1000
        },
        "outputId": "d1d80925-e102-4a74-92c5-07bc79266b5a"
      },
      "source": [
        "from xgboost import XGBClassifier\n",
        "from sklearn.model_selection import GridSearchCV\n",
        "from sklearn.model_selection import RandomizedSearchCV\n",
        "from sklearn.model_selection import StratifiedKFold\n",
        "\n",
        "param_test1 = {\n",
        " 'max_depth':range(3,10,2),\n",
        " 'min_child_weight':range(1,6,2)\n",
        "}\n",
        "\n",
        "gsearch1 = GridSearchCV(estimator = XGBClassifier( learning_rate =0.11, \n",
        " n_estimators=360, max_depth=4,\n",
        " min_child_weight=6, gamma=0.1, subsample=0.8, colsample_bytree=0.75,\n",
        " objective= 'binary:logistic', nthread=4, scale_pos_weight=1, \n",
        " reg_alpha=1, reg_lambda=1, seed=27), \n",
        "\n",
        " param_grid = param_test1, scoring='roc_auc',n_jobs=4,iid=False, cv=5)\n",
        "gsearch1.fit(X_train,Y_train)\n",
        "gsearch1.cv_results_, gsearch1.best_params_, gsearch1.best_score_"
      ],
      "execution_count": null,
      "outputs": [
        {
          "output_type": "execute_result",
          "data": {
            "text/plain": [
              "({'mean_fit_time': array([ 6.92378459,  6.77534695,  6.90897431, 10.95583296, 10.64486933,\n",
              "         10.3590189 , 15.39748435, 14.4996213 , 14.23569584, 19.25953879,\n",
              "         17.6206995 , 14.77405176]),\n",
              "  'mean_score_time': array([0.08229113, 0.07956419, 0.076157  , 0.13775048, 0.13472772,\n",
              "         0.12820292, 0.17531853, 0.18178086, 0.1647882 , 0.21931787,\n",
              "         0.21804371, 0.13705921]),\n",
              "  'mean_test_score': array([0.92739193, 0.92813643, 0.9281737 , 0.9273661 , 0.92567545,\n",
              "         0.92826784, 0.92477609, 0.92550143, 0.92618416, 0.92352674,\n",
              "         0.92355703, 0.92583686]),\n",
              "  'param_max_depth': masked_array(data=[3, 3, 3, 5, 5, 5, 7, 7, 7, 9, 9, 9],\n",
              "               mask=[False, False, False, False, False, False, False, False,\n",
              "                     False, False, False, False],\n",
              "         fill_value='?',\n",
              "              dtype=object),\n",
              "  'param_min_child_weight': masked_array(data=[1, 3, 5, 1, 3, 5, 1, 3, 5, 1, 3, 5],\n",
              "               mask=[False, False, False, False, False, False, False, False,\n",
              "                     False, False, False, False],\n",
              "         fill_value='?',\n",
              "              dtype=object),\n",
              "  'params': [{'max_depth': 3, 'min_child_weight': 1},\n",
              "   {'max_depth': 3, 'min_child_weight': 3},\n",
              "   {'max_depth': 3, 'min_child_weight': 5},\n",
              "   {'max_depth': 5, 'min_child_weight': 1},\n",
              "   {'max_depth': 5, 'min_child_weight': 3},\n",
              "   {'max_depth': 5, 'min_child_weight': 5},\n",
              "   {'max_depth': 7, 'min_child_weight': 1},\n",
              "   {'max_depth': 7, 'min_child_weight': 3},\n",
              "   {'max_depth': 7, 'min_child_weight': 5},\n",
              "   {'max_depth': 9, 'min_child_weight': 1},\n",
              "   {'max_depth': 9, 'min_child_weight': 3},\n",
              "   {'max_depth': 9, 'min_child_weight': 5}],\n",
              "  'rank_test_score': array([ 4,  3,  2,  5,  8,  1, 10,  9,  6, 12, 11,  7], dtype=int32),\n",
              "  'split0_test_score': array([0.9202439 , 0.92236426, 0.91927207, 0.92211332, 0.92113852,\n",
              "         0.92283124, 0.91807306, 0.92185124, 0.91953043, 0.91954528,\n",
              "         0.92036788, 0.92045401]),\n",
              "  'split1_test_score': array([0.92530796, 0.92651959, 0.92707715, 0.92305619, 0.92071831,\n",
              "         0.9261172 , 0.92125137, 0.92306659, 0.92271988, 0.91812874,\n",
              "         0.91717993, 0.9211697 ]),\n",
              "  'split2_test_score': array([0.92687298, 0.92710313, 0.92939721, 0.92692347, 0.92730878,\n",
              "         0.93110775, 0.92632507, 0.92412454, 0.92625306, 0.92576083,\n",
              "         0.92718925, 0.93025619]),\n",
              "  'split3_test_score': array([0.93649328, 0.93544943, 0.93738418, 0.93771159, 0.93566176,\n",
              "         0.93807315, 0.93277226, 0.93236838, 0.93527422, 0.93177296,\n",
              "         0.92991839, 0.93409674]),\n",
              "  'split4_test_score': array([0.92804155, 0.92924576, 0.9277379 , 0.92702592, 0.9235499 ,\n",
              "         0.92320987, 0.92545867, 0.92609641, 0.92714322, 0.92242588,\n",
              "         0.92312969, 0.92320765]),\n",
              "  'std_fit_time': array([0.25664255, 0.20101664, 0.30701999, 0.12710825, 0.20784378,\n",
              "         0.22538182, 0.34608058, 0.26743769, 0.27944618, 0.34789322,\n",
              "         0.5030442 , 2.32202216]),\n",
              "  'std_score_time': array([0.03193178, 0.00594952, 0.02548623, 0.02574264, 0.01854787,\n",
              "         0.01357911, 0.0325122 , 0.03559539, 0.02409779, 0.0422715 ,\n",
              "         0.04013332, 0.05979567]),\n",
              "  'std_test_score': array([0.00527187, 0.00428277, 0.0057786 , 0.0055409 , 0.00551487,\n",
              "         0.00572668, 0.00498314, 0.0037056 , 0.00528823, 0.00488249,\n",
              "         0.0045756 , 0.00539308])},\n",
              " {'max_depth': 5, 'min_child_weight': 5},\n",
              " 0.9282678418701892)"
            ]
          },
          "metadata": {
            "tags": []
          },
          "execution_count": 52
        }
      ]
    },
    {
      "cell_type": "code",
      "metadata": {
        "id": "K1J8HrcaoqF3",
        "colab_type": "code",
        "colab": {
          "base_uri": "https://localhost:8080/",
          "height": 837
        },
        "outputId": "cbd1a8c6-39e3-464b-aa45-8710e4139c11"
      },
      "source": [
        "from sklearn.model_selection import GridSearchCV\n",
        "\n",
        "param_test2 = {\n",
        " 'max_depth':[4,5,6],\n",
        " 'min_child_weight':[4,5,6]\n",
        "}\n",
        "\n",
        "gsearch2 = GridSearchCV(estimator = XGBClassifier( learning_rate =0.11, \n",
        " n_estimators=360, max_depth=5,\n",
        " min_child_weight=5, gamma=0.1, subsample=0.8, colsample_bytree=0.75,\n",
        " objective= 'binary:logistic', nthread=4, scale_pos_weight=1, \n",
        " reg_alpha=1, reg_lambda=1, seed=27), \n",
        "\n",
        " param_grid = param_test2, scoring='roc_auc',n_jobs=4,iid=False, cv=5)\n",
        "\n",
        "gsearch2.fit(X_train,Y_train)\n",
        "gsearch2.cv_results_, gsearch2.best_params_, gsearch2.best_score_"
      ],
      "execution_count": null,
      "outputs": [
        {
          "output_type": "execute_result",
          "data": {
            "text/plain": [
              "({'mean_fit_time': array([ 8.36043692,  8.65411839,  8.59126973, 10.48239012, 10.36269813,\n",
              "         10.27960267, 12.55528121, 12.26987042, 10.60799737]),\n",
              "  'mean_score_time': array([0.11261744, 0.11457586, 0.116996  , 0.12641392, 0.13587222,\n",
              "         0.12003131, 0.17625012, 0.13784924, 0.10501552]),\n",
              "  'mean_test_score': array([0.92836451, 0.9285859 , 0.92843622, 0.92773419, 0.92826784,\n",
              "         0.9286591 , 0.92667921, 0.92675954, 0.92693579]),\n",
              "  'param_max_depth': masked_array(data=[4, 4, 4, 5, 5, 5, 6, 6, 6],\n",
              "               mask=[False, False, False, False, False, False, False, False,\n",
              "                     False],\n",
              "         fill_value='?',\n",
              "              dtype=object),\n",
              "  'param_min_child_weight': masked_array(data=[4, 5, 6, 4, 5, 6, 4, 5, 6],\n",
              "               mask=[False, False, False, False, False, False, False, False,\n",
              "                     False],\n",
              "         fill_value='?',\n",
              "              dtype=object),\n",
              "  'params': [{'max_depth': 4, 'min_child_weight': 4},\n",
              "   {'max_depth': 4, 'min_child_weight': 5},\n",
              "   {'max_depth': 4, 'min_child_weight': 6},\n",
              "   {'max_depth': 5, 'min_child_weight': 4},\n",
              "   {'max_depth': 5, 'min_child_weight': 5},\n",
              "   {'max_depth': 5, 'min_child_weight': 6},\n",
              "   {'max_depth': 6, 'min_child_weight': 4},\n",
              "   {'max_depth': 6, 'min_child_weight': 5},\n",
              "   {'max_depth': 6, 'min_child_weight': 6}],\n",
              "  'rank_test_score': array([4, 2, 3, 6, 5, 1, 9, 8, 7], dtype=int32),\n",
              "  'split0_test_score': array([0.92267088, 0.92395081, 0.9223546 , 0.92475708, 0.92283124,\n",
              "         0.92593604, 0.92136867, 0.9202194 , 0.92192697]),\n",
              "  'split1_test_score': array([0.92602959, 0.92510528, 0.92651068, 0.92145627, 0.9261172 ,\n",
              "         0.92344002, 0.92347863, 0.92453213, 0.92390923]),\n",
              "  'split2_test_score': array([0.92831476, 0.93009138, 0.92785817, 0.9306326 , 0.93110775,\n",
              "         0.92802002, 0.92918191, 0.92949521, 0.92967933]),\n",
              "  'split3_test_score': array([0.93760914, 0.93872648, 0.93966342, 0.93654228, 0.93807315,\n",
              "         0.94080526, 0.93478051, 0.93565434, 0.93651109]),\n",
              "  'split4_test_score': array([0.92719816, 0.92505553, 0.92579424, 0.92528271, 0.92320987,\n",
              "         0.92509414, 0.92458632, 0.92389661, 0.92265232]),\n",
              "  'std_fit_time': array([0.32399818, 0.16858881, 0.38515633, 0.27731347, 0.25282692,\n",
              "         0.30061466, 0.31126358, 0.39333299, 2.50373924]),\n",
              "  'std_score_time': array([0.02409601, 0.00785875, 0.03545836, 0.02460064, 0.03536592,\n",
              "         0.01307786, 0.02024857, 0.03279372, 0.04253894]),\n",
              "  'std_test_score': array([0.0049939 , 0.00549837, 0.00590013, 0.00529657, 0.00572668,\n",
              "         0.00624981, 0.00479   , 0.00533915, 0.00551017])},\n",
              " {'max_depth': 5, 'min_child_weight': 6},\n",
              " 0.9286590979283474)"
            ]
          },
          "metadata": {
            "tags": []
          },
          "execution_count": 53
        }
      ]
    },
    {
      "cell_type": "markdown",
      "metadata": {
        "id": "aJ7ioMtJuQ89",
        "colab_type": "text"
      },
      "source": [
        "Tune **Gamma**"
      ]
    },
    {
      "cell_type": "code",
      "metadata": {
        "id": "RKXCZdtgtcdZ",
        "colab_type": "code",
        "colab": {
          "base_uri": "https://localhost:8080/",
          "height": 455
        },
        "outputId": "858db660-ae98-4c78-c3be-1c001c88e98b"
      },
      "source": [
        "param_test3 = {\n",
        " 'gamma':[i/10.0 for i in range(0,5)]\n",
        "}\n",
        "gsearch3 = GridSearchCV(estimator = XGBClassifier( learning_rate =0.11, \n",
        " n_estimators=360, max_depth=5,\n",
        " min_child_weight=6, gamma=0.1, subsample=0.8, colsample_bytree=0.75,\n",
        " objective= 'binary:logistic', nthread=4, scale_pos_weight=1, \n",
        " reg_alpha=1, reg_lambda=1, seed=27), \n",
        "\n",
        " param_grid = param_test3, scoring='roc_auc',n_jobs=4,iid=False, cv=5)\n",
        "gsearch3.fit(X_train,Y_train)\n",
        "gsearch3.cv_results_, gsearch3.best_params_, gsearch3.best_score_"
      ],
      "execution_count": null,
      "outputs": [
        {
          "output_type": "execute_result",
          "data": {
            "text/plain": [
              "({'mean_fit_time': array([10.35997181, 10.48445172, 10.28521018, 10.31985736,  8.86204281]),\n",
              "  'mean_score_time': array([0.13713412, 0.12993898, 0.1430676 , 0.13385215, 0.09495034]),\n",
              "  'mean_test_score': array([0.92801037, 0.9286591 , 0.92878175, 0.92835055, 0.92746558]),\n",
              "  'param_gamma': masked_array(data=[0.0, 0.1, 0.2, 0.3, 0.4],\n",
              "               mask=[False, False, False, False, False],\n",
              "         fill_value='?',\n",
              "              dtype=object),\n",
              "  'params': [{'gamma': 0.0},\n",
              "   {'gamma': 0.1},\n",
              "   {'gamma': 0.2},\n",
              "   {'gamma': 0.3},\n",
              "   {'gamma': 0.4}],\n",
              "  'rank_test_score': array([4, 2, 1, 3, 5], dtype=int32),\n",
              "  'split0_test_score': array([0.92333015, 0.92593604, 0.92434875, 0.92280228, 0.92141024]),\n",
              "  'split1_test_score': array([0.92322918, 0.92344002, 0.92374739, 0.92454623, 0.92437622]),\n",
              "  'split2_test_score': array([0.9290557 , 0.92802002, 0.92970606, 0.92960806, 0.9286637 ]),\n",
              "  'split3_test_score': array([0.93907096, 0.94080526, 0.93937387, 0.937647  , 0.93841021]),\n",
              "  'split4_test_score': array([0.92536587, 0.92509414, 0.92673266, 0.92714916, 0.92446754]),\n",
              "  'std_fit_time': array([0.18062575, 0.08086815, 0.5354549 , 0.26573971, 2.74379029]),\n",
              "  'std_score_time': array([0.02688408, 0.01776115, 0.01854127, 0.01286737, 0.0442146 ]),\n",
              "  'std_test_score': array([0.00591924, 0.00624981, 0.00569636, 0.00519047, 0.00594003])},\n",
              " {'gamma': 0.2},\n",
              " 0.9287817459374704)"
            ]
          },
          "metadata": {
            "tags": []
          },
          "execution_count": 54
        }
      ]
    },
    {
      "cell_type": "code",
      "metadata": {
        "id": "Slv2tNEj4thS",
        "colab_type": "code",
        "colab": {
          "base_uri": "https://localhost:8080/",
          "height": 54
        },
        "outputId": "e777744d-07d2-4109-fecf-1d391dbf50f6"
      },
      "source": [
        "from xgboost import XGBClassifier\n",
        "from sklearn.model_selection import GridSearchCV\n",
        "from sklearn.model_selection import RandomizedSearchCV\n",
        "from sklearn.model_selection import StratifiedKFold\n",
        "\n",
        "model = XGBClassifier(learning_rate =0.11, \n",
        " n_estimators=360, max_depth=5,\n",
        " min_child_weight=6, gamma=0.03, subsample=0.8, colsample_bytree=0.75,\n",
        " objective= 'binary:logistic', nthread=4, scale_pos_weight=1, \n",
        " reg_alpha=1, reg_lambda=1, seed=27)\n",
        "\n",
        "model.fit(X_train, Y_train, verbose=False)\n",
        "\n",
        "\n",
        "# Performance sur le train\n",
        "train_y_pred = model.predict(X_train)\n",
        "auc = roc_auc_score(Y_train, train_y_pred)\n",
        "print(\"Performance sur le train : \", auc)\n",
        "\n",
        "# Performance sur le test\n",
        "test_y_pred = model.predict(X_test)\n",
        "auc = roc_auc_score(Y_test, test_y_pred)\n",
        "print(\"Performance sur le test : \", auc)\n",
        "\n"
      ],
      "execution_count": null,
      "outputs": [
        {
          "output_type": "stream",
          "text": [
            "Performance sur le train :  0.870083982704552\n",
            "Performance sur le test :  0.8060215118285055\n"
          ],
          "name": "stdout"
        }
      ]
    },
    {
      "cell_type": "markdown",
      "metadata": {
        "id": "hxND6llZyKPF",
        "colab_type": "text"
      },
      "source": [
        "Tune subsample and colsample_bytree"
      ]
    },
    {
      "cell_type": "code",
      "metadata": {
        "id": "24UbSINTyIEt",
        "colab_type": "code",
        "colab": {
          "base_uri": "https://localhost:8080/",
          "height": 1000
        },
        "outputId": "436c9f7e-45fd-4483-e6fa-a1cef98f7f1a"
      },
      "source": [
        "param_test4 = {\n",
        " 'subsample':[i/10.0 for i in range(6,12)],\n",
        " 'colsample_bytree':[i/10.0 for i in range(6,12)]\n",
        "}\n",
        "gsearch4 = GridSearchCV(estimator = XGBClassifier( learning_rate =0.11, \n",
        " n_estimators=360, max_depth=5,\n",
        " min_child_weight=6, gamma=0.03, subsample=0.8, colsample_bytree=0.75,\n",
        " objective= 'binary:logistic', nthread=4, scale_pos_weight=1, \n",
        " reg_alpha=1, reg_lambda=1, seed=27), \n",
        "\n",
        " param_grid = param_test4, scoring='roc_auc',n_jobs=4,iid=False, cv=5)\n",
        "gsearch4.fit(X_train, Y_train)\n",
        "gsearch4.cv_results_, gsearch4.best_params_, gsearch4.best_score_"
      ],
      "execution_count": null,
      "outputs": [
        {
          "output_type": "execute_result",
          "data": {
            "text/plain": [
              "({'mean_fit_time': array([ 9.41201992,  9.31939888,  9.49306254,  9.06080389,  8.80438995,\n",
              "          0.04369555,  9.68970547,  9.41239123,  9.42590098,  9.23341041,\n",
              "          8.97515621,  0.05229292, 10.36294746, 10.49870973, 10.32272468,\n",
              "         10.10856318,  9.73859644,  0.03477645, 11.45654411, 11.42140169,\n",
              "         11.38384452, 11.0679945 , 10.5893167 ,  0.0487195 , 12.37861071,\n",
              "         12.33928413, 12.25075197, 11.94183688,  9.87260032,  0.04355097,\n",
              "          0.04094462,  0.03459191,  0.02603602,  0.0329617 ,  0.02507539,\n",
              "          0.01880507]),\n",
              "  'mean_score_time': array([0.12671571, 0.12328877, 0.13145666, 0.11894445, 0.13028808,\n",
              "         0.        , 0.12710629, 0.12733951, 0.14992018, 0.12111931,\n",
              "         0.12844095, 0.        , 0.11578646, 0.14959154, 0.17780943,\n",
              "         0.12345567, 0.12687578, 0.        , 0.15112724, 0.13060722,\n",
              "         0.13290896, 0.14252148, 0.13501272, 0.        , 0.11764393,\n",
              "         0.13083916, 0.12652106, 0.13031025, 0.09925838, 0.        ,\n",
              "         0.        , 0.        , 0.        , 0.        , 0.        ,\n",
              "         0.        ]),\n",
              "  'mean_test_score': array([0.92595535, 0.92710669, 0.92757472, 0.92696608, 0.92846147,\n",
              "                nan, 0.92595535, 0.92710669, 0.92757472, 0.92696608,\n",
              "         0.92846147,        nan, 0.92731101, 0.92812396, 0.92914954,\n",
              "         0.92744049, 0.92868508,        nan, 0.92709868, 0.92912074,\n",
              "         0.92792306, 0.92935193, 0.92847156,        nan, 0.92756328,\n",
              "         0.92754264, 0.92722489, 0.92752705, 0.92901249,        nan,\n",
              "                nan,        nan,        nan,        nan,        nan,\n",
              "                nan]),\n",
              "  'param_colsample_bytree': masked_array(data=[0.6, 0.6, 0.6, 0.6, 0.6, 0.6, 0.7, 0.7, 0.7, 0.7, 0.7,\n",
              "                     0.7, 0.8, 0.8, 0.8, 0.8, 0.8, 0.8, 0.9, 0.9, 0.9, 0.9,\n",
              "                     0.9, 0.9, 1.0, 1.0, 1.0, 1.0, 1.0, 1.0, 1.1, 1.1, 1.1,\n",
              "                     1.1, 1.1, 1.1],\n",
              "               mask=[False, False, False, False, False, False, False, False,\n",
              "                     False, False, False, False, False, False, False, False,\n",
              "                     False, False, False, False, False, False, False, False,\n",
              "                     False, False, False, False, False, False, False, False,\n",
              "                     False, False, False, False],\n",
              "         fill_value='?',\n",
              "              dtype=object),\n",
              "  'param_subsample': masked_array(data=[0.6, 0.7, 0.8, 0.9, 1.0, 1.1, 0.6, 0.7, 0.8, 0.9, 1.0,\n",
              "                     1.1, 0.6, 0.7, 0.8, 0.9, 1.0, 1.1, 0.6, 0.7, 0.8, 0.9,\n",
              "                     1.0, 1.1, 0.6, 0.7, 0.8, 0.9, 1.0, 1.1, 0.6, 0.7, 0.8,\n",
              "                     0.9, 1.0, 1.1],\n",
              "               mask=[False, False, False, False, False, False, False, False,\n",
              "                     False, False, False, False, False, False, False, False,\n",
              "                     False, False, False, False, False, False, False, False,\n",
              "                     False, False, False, False, False, False, False, False,\n",
              "                     False, False, False, False],\n",
              "         fill_value='?',\n",
              "              dtype=object),\n",
              "  'params': [{'colsample_bytree': 0.6, 'subsample': 0.6},\n",
              "   {'colsample_bytree': 0.6, 'subsample': 0.7},\n",
              "   {'colsample_bytree': 0.6, 'subsample': 0.8},\n",
              "   {'colsample_bytree': 0.6, 'subsample': 0.9},\n",
              "   {'colsample_bytree': 0.6, 'subsample': 1.0},\n",
              "   {'colsample_bytree': 0.6, 'subsample': 1.1},\n",
              "   {'colsample_bytree': 0.7, 'subsample': 0.6},\n",
              "   {'colsample_bytree': 0.7, 'subsample': 0.7},\n",
              "   {'colsample_bytree': 0.7, 'subsample': 0.8},\n",
              "   {'colsample_bytree': 0.7, 'subsample': 0.9},\n",
              "   {'colsample_bytree': 0.7, 'subsample': 1.0},\n",
              "   {'colsample_bytree': 0.7, 'subsample': 1.1},\n",
              "   {'colsample_bytree': 0.8, 'subsample': 0.6},\n",
              "   {'colsample_bytree': 0.8, 'subsample': 0.7},\n",
              "   {'colsample_bytree': 0.8, 'subsample': 0.8},\n",
              "   {'colsample_bytree': 0.8, 'subsample': 0.9},\n",
              "   {'colsample_bytree': 0.8, 'subsample': 1.0},\n",
              "   {'colsample_bytree': 0.8, 'subsample': 1.1},\n",
              "   {'colsample_bytree': 0.9, 'subsample': 0.6},\n",
              "   {'colsample_bytree': 0.9, 'subsample': 0.7},\n",
              "   {'colsample_bytree': 0.9, 'subsample': 0.8},\n",
              "   {'colsample_bytree': 0.9, 'subsample': 0.9},\n",
              "   {'colsample_bytree': 0.9, 'subsample': 1.0},\n",
              "   {'colsample_bytree': 0.9, 'subsample': 1.1},\n",
              "   {'colsample_bytree': 1.0, 'subsample': 0.6},\n",
              "   {'colsample_bytree': 1.0, 'subsample': 0.7},\n",
              "   {'colsample_bytree': 1.0, 'subsample': 0.8},\n",
              "   {'colsample_bytree': 1.0, 'subsample': 0.9},\n",
              "   {'colsample_bytree': 1.0, 'subsample': 1.0},\n",
              "   {'colsample_bytree': 1.0, 'subsample': 1.1},\n",
              "   {'colsample_bytree': 1.1, 'subsample': 0.6},\n",
              "   {'colsample_bytree': 1.1, 'subsample': 0.7},\n",
              "   {'colsample_bytree': 1.1, 'subsample': 0.8},\n",
              "   {'colsample_bytree': 1.1, 'subsample': 0.9},\n",
              "   {'colsample_bytree': 1.1, 'subsample': 1.0},\n",
              "   {'colsample_bytree': 1.1, 'subsample': 1.1}],\n",
              "  'rank_test_score': array([24, 19, 11, 22,  7, 34, 24, 19, 11, 22,  7, 33, 17,  9,  2, 16,  5,\n",
              "         30, 21,  3, 10,  1,  6, 31, 13, 14, 18, 15,  4, 35, 27, 29, 28, 26,\n",
              "         32, 36], dtype=int32),\n",
              "  'split0_test_score': array([0.9192394 , 0.92271988, 0.91925574, 0.92144737, 0.92210218,\n",
              "                nan, 0.9192394 , 0.92271988, 0.91925574, 0.92144737,\n",
              "         0.92210218,        nan, 0.92196112, 0.92460711, 0.92296339,\n",
              "         0.91943095, 0.92325516,        nan, 0.91986749, 0.92143549,\n",
              "         0.92078735, 0.92443413, 0.92607636,        nan, 0.92116153,\n",
              "         0.92225067, 0.92227368, 0.9217822 , 0.92490928,        nan,\n",
              "                nan,        nan,        nan,        nan,        nan,\n",
              "                nan]),\n",
              "  'split1_test_score': array([0.92305248, 0.92053716, 0.92622113, 0.92464869, 0.92744984,\n",
              "                nan, 0.92305248, 0.92053716, 0.92622113, 0.92464869,\n",
              "         0.92744984,        nan, 0.92341924, 0.92278372, 0.92678537,\n",
              "         0.92598653, 0.9247259 ,        nan, 0.92521441, 0.92577271,\n",
              "         0.92474817, 0.92746989, 0.92488626,        nan, 0.922267  ,\n",
              "         0.92030849, 0.92398793, 0.92325887, 0.92839197,        nan,\n",
              "                nan,        nan,        nan,        nan,        nan,\n",
              "                nan]),\n",
              "  'split2_test_score': array([0.92830882, 0.92581726, 0.92835337, 0.92769261, 0.92963776,\n",
              "                nan, 0.92830882, 0.92581726, 0.92835337, 0.92769261,\n",
              "         0.92963776,        nan, 0.93144184, 0.93171134, 0.92959247,\n",
              "         0.93214566, 0.92915518,        nan, 0.92840757, 0.92981148,\n",
              "         0.93092363, 0.93331423, 0.93141437,        nan, 0.92855753,\n",
              "         0.929173  , 0.92911064, 0.93084493, 0.92941132,        nan,\n",
              "                nan,        nan,        nan,        nan,        nan,\n",
              "                nan]),\n",
              "  'split3_test_score': array([0.93292668, 0.93739161, 0.93616513, 0.93425859, 0.93598323,\n",
              "                nan, 0.93292668, 0.93739161, 0.93616513, 0.93425859,\n",
              "         0.93598323,        nan, 0.93289996, 0.93500546, 0.93969757,\n",
              "         0.93537074, 0.93815259,        nan, 0.93383689, 0.93519998,\n",
              "         0.93751708, 0.9368437 , 0.93514207,        nan, 0.9344093 ,\n",
              "         0.93632252, 0.93654599, 0.93784894, 0.93870643,        nan,\n",
              "                nan,        nan,        nan,        nan,        nan,\n",
              "                nan]),\n",
              "  'split4_test_score': array([0.92624935, 0.92906758, 0.92787822, 0.92678315, 0.92713431,\n",
              "                nan, 0.92624935, 0.92906758, 0.92787822, 0.92678315,\n",
              "         0.92713431,        nan, 0.92683289, 0.92651216, 0.92670891,\n",
              "         0.92426857, 0.92813658,        nan, 0.92816702, 0.93338402,\n",
              "         0.92563908, 0.92469769, 0.92483875,        nan, 0.93142105,\n",
              "         0.92965855, 0.9242062 , 0.92390033, 0.92364345,        nan,\n",
              "                nan,        nan,        nan,        nan,        nan,\n",
              "                nan]),\n",
              "  'std_fit_time': array([4.38439036e-01, 2.83684774e-01, 4.50898627e-01, 3.19926016e-01,\n",
              "         1.16353092e-01, 2.91328901e-02, 2.63623460e-01, 4.14454342e-01,\n",
              "         2.82282887e-01, 3.67044979e-01, 3.03411903e-01, 3.77155358e-02,\n",
              "         3.06789337e-01, 2.98292956e-01, 2.94823693e-01, 1.56917441e-01,\n",
              "         1.61505315e-01, 1.67623773e-02, 3.01746507e-01, 1.75715400e-01,\n",
              "         2.24005736e-01, 1.43530355e-01, 1.10181370e-01, 1.98715762e-02,\n",
              "         2.13752784e-01, 3.06511903e-01, 3.81953413e-01, 1.37523875e-01,\n",
              "         3.09202720e+00, 1.97537217e-02, 1.63111881e-02, 1.23456810e-02,\n",
              "         1.32377789e-02, 1.13615443e-02, 2.56316964e-03, 7.38011859e-03]),\n",
              "  'std_score_time': array([0.0054204 , 0.01589199, 0.02607694, 0.0252649 , 0.0203761 ,\n",
              "         0.        , 0.016993  , 0.02854026, 0.02569805, 0.02704725,\n",
              "         0.02440791, 0.        , 0.01795548, 0.01747778, 0.02393213,\n",
              "         0.02514355, 0.03120832, 0.        , 0.01479535, 0.02905407,\n",
              "         0.03145171, 0.0272943 , 0.034629  , 0.        , 0.01583408,\n",
              "         0.01289814, 0.02675378, 0.02968331, 0.03638149, 0.        ,\n",
              "         0.        , 0.        , 0.        , 0.        , 0.        ,\n",
              "         0.        ]),\n",
              "  'std_test_score': array([0.00464231, 0.0058939 , 0.00539502, 0.00423246, 0.00449857,\n",
              "                nan, 0.00464231, 0.0058939 , 0.00539502, 0.00423246,\n",
              "         0.00449857,        nan, 0.00429642, 0.00455431, 0.00567929,\n",
              "         0.00568076, 0.00520221,        nan, 0.00456286, 0.00501761,\n",
              "         0.00578383, 0.00492372, 0.00412176,        nan, 0.00513365,\n",
              "         0.00573689, 0.00518736, 0.00603197, 0.0052949 ,        nan,\n",
              "                nan,        nan,        nan,        nan,        nan,\n",
              "                nan])},\n",
              " {'colsample_bytree': 0.9, 'subsample': 0.9},\n",
              " 0.9293519255440463)"
            ]
          },
          "metadata": {
            "tags": []
          },
          "execution_count": 59
        }
      ]
    },
    {
      "cell_type": "code",
      "metadata": {
        "id": "g6iDKclTzCOU",
        "colab_type": "code",
        "colab": {
          "base_uri": "https://localhost:8080/",
          "height": 1000
        },
        "outputId": "e5646437-cc5a-4c6e-b446-644cd5f9684a"
      },
      "source": [
        "param_test4 = {\n",
        " 'subsample':[i/100.0 for i in range(75,110,5)],\n",
        " 'colsample_bytree':[i/100.0 for i in range(75,110,5)]\n",
        "}\n",
        "gsearch4 = GridSearchCV(estimator = XGBClassifier( learning_rate =0.11, \n",
        " n_estimators=360, max_depth=5,\n",
        " min_child_weight=6, gamma=0.03, subsample=0.9, colsample_bytree=0.9,\n",
        " objective= 'binary:logistic', nthread=4, scale_pos_weight=1, \n",
        " reg_alpha=1, reg_lambda=1, seed=27), \n",
        "\n",
        " param_grid = param_test4, scoring='roc_auc',n_jobs=4,iid=False, cv=5)\n",
        "gsearch4.fit(X_train, Y_train)\n",
        "gsearch4.cv_results_, gsearch4.best_params_, gsearch4.best_score_"
      ],
      "execution_count": null,
      "outputs": [
        {
          "output_type": "execute_result",
          "data": {
            "text/plain": [
              "({'mean_fit_time': array([10.36622863, 10.41220202, 10.27724891, 10.09375987,  9.99242449,\n",
              "          9.5901248 ,  0.08745122, 10.51006184, 10.20225892, 10.25075588,\n",
              "         10.15087223,  9.80606599,  9.90023293,  0.0391027 , 10.51771684,\n",
              "         10.3056994 , 10.20059161, 10.13928666,  9.89683151,  9.73598943,\n",
              "          0.020401  , 11.39628592, 11.23088989, 11.28253732, 11.11463623,\n",
              "         10.93866382, 10.29806428,  0.08688383, 11.31692653, 11.33020954,\n",
              "         11.20781603, 10.97981529, 11.00653768, 10.55554142,  0.02563128,\n",
              "         12.35832229, 12.13579674, 12.15366464, 12.08416014, 11.50949082,\n",
              "         10.18039136,  0.04662933,  0.03009481,  0.02569876,  0.02986135,\n",
              "          0.01930118,  0.0332191 ,  0.02505941,  0.04364166]),\n",
              "  'mean_score_time': array([0.13167648, 0.13765893, 0.14145546, 0.11736302, 0.12489653,\n",
              "         0.13058329, 0.        , 0.13675332, 0.15151715, 0.15017958,\n",
              "         0.1353765 , 0.13107285, 0.12634258, 0.        , 0.13739524,\n",
              "         0.13831453, 0.1331367 , 0.13058343, 0.11763821, 0.11404333,\n",
              "         0.        , 0.14037032, 0.12384272, 0.12591195, 0.14267092,\n",
              "         0.11866045, 0.13415518, 0.        , 0.13355103, 0.13921528,\n",
              "         0.12208776, 0.12834945, 0.13549609, 0.13174567, 0.        ,\n",
              "         0.11908894, 0.13060369, 0.1316124 , 0.14530005, 0.14201617,\n",
              "         0.08963432, 0.        , 0.        , 0.        , 0.        ,\n",
              "         0.        , 0.        , 0.        , 0.        ]),\n",
              "  'mean_test_score': array([0.92895948, 0.92914954, 0.92745831, 0.92744049, 0.92769083,\n",
              "         0.92868508,        nan, 0.92895948, 0.92914954, 0.92745831,\n",
              "         0.92744049, 0.92769083, 0.92868508,        nan, 0.92895948,\n",
              "         0.92914954, 0.92745831, 0.92744049, 0.92769083, 0.92868508,\n",
              "                nan, 0.92706423, 0.92792306, 0.92772573, 0.92935193,\n",
              "         0.92856555, 0.92847156,        nan, 0.92706423, 0.92792306,\n",
              "         0.92772573, 0.92935193, 0.92856555, 0.92847156,        nan,\n",
              "         0.92762936, 0.92722489, 0.92907426, 0.92752705, 0.92878086,\n",
              "         0.92901249,        nan,        nan,        nan,        nan,\n",
              "                nan,        nan,        nan,        nan]),\n",
              "  'param_colsample_bytree': masked_array(data=[0.75, 0.75, 0.75, 0.75, 0.75, 0.75, 0.75, 0.8, 0.8,\n",
              "                     0.8, 0.8, 0.8, 0.8, 0.8, 0.85, 0.85, 0.85, 0.85, 0.85,\n",
              "                     0.85, 0.85, 0.9, 0.9, 0.9, 0.9, 0.9, 0.9, 0.9, 0.95,\n",
              "                     0.95, 0.95, 0.95, 0.95, 0.95, 0.95, 1.0, 1.0, 1.0, 1.0,\n",
              "                     1.0, 1.0, 1.0, 1.05, 1.05, 1.05, 1.05, 1.05, 1.05,\n",
              "                     1.05],\n",
              "               mask=[False, False, False, False, False, False, False, False,\n",
              "                     False, False, False, False, False, False, False, False,\n",
              "                     False, False, False, False, False, False, False, False,\n",
              "                     False, False, False, False, False, False, False, False,\n",
              "                     False, False, False, False, False, False, False, False,\n",
              "                     False, False, False, False, False, False, False, False,\n",
              "                     False],\n",
              "         fill_value='?',\n",
              "              dtype=object),\n",
              "  'param_subsample': masked_array(data=[0.75, 0.8, 0.85, 0.9, 0.95, 1.0, 1.05, 0.75, 0.8, 0.85,\n",
              "                     0.9, 0.95, 1.0, 1.05, 0.75, 0.8, 0.85, 0.9, 0.95, 1.0,\n",
              "                     1.05, 0.75, 0.8, 0.85, 0.9, 0.95, 1.0, 1.05, 0.75, 0.8,\n",
              "                     0.85, 0.9, 0.95, 1.0, 1.05, 0.75, 0.8, 0.85, 0.9, 0.95,\n",
              "                     1.0, 1.05, 0.75, 0.8, 0.85, 0.9, 0.95, 1.0, 1.05],\n",
              "               mask=[False, False, False, False, False, False, False, False,\n",
              "                     False, False, False, False, False, False, False, False,\n",
              "                     False, False, False, False, False, False, False, False,\n",
              "                     False, False, False, False, False, False, False, False,\n",
              "                     False, False, False, False, False, False, False, False,\n",
              "                     False, False, False, False, False, False, False, False,\n",
              "                     False],\n",
              "         fill_value='?',\n",
              "              dtype=object),\n",
              "  'params': [{'colsample_bytree': 0.75, 'subsample': 0.75},\n",
              "   {'colsample_bytree': 0.75, 'subsample': 0.8},\n",
              "   {'colsample_bytree': 0.75, 'subsample': 0.85},\n",
              "   {'colsample_bytree': 0.75, 'subsample': 0.9},\n",
              "   {'colsample_bytree': 0.75, 'subsample': 0.95},\n",
              "   {'colsample_bytree': 0.75, 'subsample': 1.0},\n",
              "   {'colsample_bytree': 0.75, 'subsample': 1.05},\n",
              "   {'colsample_bytree': 0.8, 'subsample': 0.75},\n",
              "   {'colsample_bytree': 0.8, 'subsample': 0.8},\n",
              "   {'colsample_bytree': 0.8, 'subsample': 0.85},\n",
              "   {'colsample_bytree': 0.8, 'subsample': 0.9},\n",
              "   {'colsample_bytree': 0.8, 'subsample': 0.95},\n",
              "   {'colsample_bytree': 0.8, 'subsample': 1.0},\n",
              "   {'colsample_bytree': 0.8, 'subsample': 1.05},\n",
              "   {'colsample_bytree': 0.85, 'subsample': 0.75},\n",
              "   {'colsample_bytree': 0.85, 'subsample': 0.8},\n",
              "   {'colsample_bytree': 0.85, 'subsample': 0.85},\n",
              "   {'colsample_bytree': 0.85, 'subsample': 0.9},\n",
              "   {'colsample_bytree': 0.85, 'subsample': 0.95},\n",
              "   {'colsample_bytree': 0.85, 'subsample': 1.0},\n",
              "   {'colsample_bytree': 0.85, 'subsample': 1.05},\n",
              "   {'colsample_bytree': 0.9, 'subsample': 0.75},\n",
              "   {'colsample_bytree': 0.9, 'subsample': 0.8},\n",
              "   {'colsample_bytree': 0.9, 'subsample': 0.85},\n",
              "   {'colsample_bytree': 0.9, 'subsample': 0.9},\n",
              "   {'colsample_bytree': 0.9, 'subsample': 0.95},\n",
              "   {'colsample_bytree': 0.9, 'subsample': 1.0},\n",
              "   {'colsample_bytree': 0.9, 'subsample': 1.05},\n",
              "   {'colsample_bytree': 0.95, 'subsample': 0.75},\n",
              "   {'colsample_bytree': 0.95, 'subsample': 0.8},\n",
              "   {'colsample_bytree': 0.95, 'subsample': 0.85},\n",
              "   {'colsample_bytree': 0.95, 'subsample': 0.9},\n",
              "   {'colsample_bytree': 0.95, 'subsample': 0.95},\n",
              "   {'colsample_bytree': 0.95, 'subsample': 1.0},\n",
              "   {'colsample_bytree': 0.95, 'subsample': 1.05},\n",
              "   {'colsample_bytree': 1.0, 'subsample': 0.75},\n",
              "   {'colsample_bytree': 1.0, 'subsample': 0.8},\n",
              "   {'colsample_bytree': 1.0, 'subsample': 0.85},\n",
              "   {'colsample_bytree': 1.0, 'subsample': 0.9},\n",
              "   {'colsample_bytree': 1.0, 'subsample': 0.95},\n",
              "   {'colsample_bytree': 1.0, 'subsample': 1.0},\n",
              "   {'colsample_bytree': 1.0, 'subsample': 1.05},\n",
              "   {'colsample_bytree': 1.05, 'subsample': 0.75},\n",
              "   {'colsample_bytree': 1.05, 'subsample': 0.8},\n",
              "   {'colsample_bytree': 1.05, 'subsample': 0.85},\n",
              "   {'colsample_bytree': 1.05, 'subsample': 0.9},\n",
              "   {'colsample_bytree': 1.05, 'subsample': 0.95},\n",
              "   {'colsample_bytree': 1.05, 'subsample': 1.0},\n",
              "   {'colsample_bytree': 1.05, 'subsample': 1.05}],\n",
              "  'rank_test_score': array([ 8,  3, 28, 31, 23, 12, 40,  8,  3, 28, 31, 23, 12, 41,  8,  3, 28,\n",
              "         31, 23, 12, 39, 35, 19, 21,  1, 15, 17, 37, 35, 19, 21,  1, 15, 17,\n",
              "         48, 26, 34,  6, 27, 11,  7, 42, 43, 44, 45, 46, 47, 38, 49],\n",
              "        dtype=int32),\n",
              "  'split0_test_score': array([0.92114297, 0.92296339, 0.9201407 , 0.91943095, 0.92360187,\n",
              "         0.92325516,        nan, 0.92114297, 0.92296339, 0.9201407 ,\n",
              "         0.91943095, 0.92360187, 0.92325516,        nan, 0.92114297,\n",
              "         0.92296339, 0.9201407 , 0.91943095, 0.92360187, 0.92325516,\n",
              "                nan, 0.92285203, 0.92078735, 0.92374367, 0.92443413,\n",
              "         0.92517209, 0.92607636,        nan, 0.92285203, 0.92078735,\n",
              "         0.92374367, 0.92443413, 0.92517209, 0.92607636,        nan,\n",
              "         0.920748  , 0.92227368, 0.92402802, 0.9217822 , 0.92334574,\n",
              "         0.92490928,        nan,        nan,        nan,        nan,\n",
              "                nan,        nan,        nan,        nan]),\n",
              "  'split1_test_score': array([0.92427451, 0.92678537, 0.9248729 , 0.92598653, 0.92325887,\n",
              "         0.9247259 ,        nan, 0.92427451, 0.92678537, 0.9248729 ,\n",
              "         0.92598653, 0.92325887, 0.9247259 ,        nan, 0.92427451,\n",
              "         0.92678537, 0.9248729 , 0.92598653, 0.92325887, 0.9247259 ,\n",
              "                nan, 0.92030255, 0.92474817, 0.92186461, 0.92746989,\n",
              "         0.92404287, 0.92488626,        nan, 0.92030255, 0.92474817,\n",
              "         0.92186461, 0.92746989, 0.92404287, 0.92488626,        nan,\n",
              "         0.92094994, 0.92398793, 0.92604592, 0.92325887, 0.92447051,\n",
              "         0.92839197,        nan,        nan,        nan,        nan,\n",
              "                nan,        nan,        nan,        nan]),\n",
              "  'split2_test_score': array([0.93346568, 0.92959247, 0.92891909, 0.93214566, 0.93199123,\n",
              "         0.92915518,        nan, 0.93346568, 0.92959247, 0.92891909,\n",
              "         0.93214566, 0.93199123, 0.92915518,        nan, 0.93346568,\n",
              "         0.92959247, 0.92891909, 0.93214566, 0.93199123, 0.92915518,\n",
              "                nan, 0.93065636, 0.93092363, 0.93072912, 0.93331423,\n",
              "         0.92986939, 0.93141437,        nan, 0.93065636, 0.93092363,\n",
              "         0.93072912, 0.93331423, 0.92986939, 0.93141437,        nan,\n",
              "         0.93076624, 0.92911064, 0.93033712, 0.93084493, 0.9312696 ,\n",
              "         0.92941132,        nan,        nan,        nan,        nan,\n",
              "                nan,        nan,        nan,        nan]),\n",
              "  'split3_test_score': array([0.93669076, 0.93969757, 0.93813106, 0.93537074, 0.93515989,\n",
              "         0.93815259,        nan, 0.93669076, 0.93969757, 0.93813106,\n",
              "         0.93537074, 0.93515989, 0.93815259,        nan, 0.93669076,\n",
              "         0.93969757, 0.93813106, 0.93537074, 0.93515989, 0.93815259,\n",
              "                nan, 0.93458674, 0.93751708, 0.93579986, 0.9368437 ,\n",
              "         0.93597804, 0.93514207,        nan, 0.93458674, 0.93751708,\n",
              "         0.93579986, 0.9368437 , 0.93597804, 0.93514207,        nan,\n",
              "         0.93694912, 0.93654599, 0.93803529, 0.93784894, 0.93758464,\n",
              "         0.93870643,        nan,        nan,        nan,        nan,\n",
              "                nan,        nan,        nan,        nan]),\n",
              "  'split4_test_score': array([0.92922349, 0.92670891, 0.92522777, 0.92426857, 0.92444229,\n",
              "         0.92813658,        nan, 0.92922349, 0.92670891, 0.92522777,\n",
              "         0.92426857, 0.92444229, 0.92813658,        nan, 0.92922349,\n",
              "         0.92670891, 0.92522777, 0.92426857, 0.92444229, 0.92813658,\n",
              "                nan, 0.92692347, 0.92563908, 0.92649138, 0.92469769,\n",
              "         0.92776537, 0.92483875,        nan, 0.92692347, 0.92563908,\n",
              "         0.92649138, 0.92469769, 0.92776537, 0.92483875,        nan,\n",
              "         0.92873349, 0.9242062 , 0.92692495, 0.92390033, 0.9272338 ,\n",
              "         0.92364345,        nan,        nan,        nan,        nan,\n",
              "                nan,        nan,        nan,        nan]),\n",
              "  'std_fit_time': array([0.32239088, 0.30514438, 0.17111499, 0.40333492, 0.27000127,\n",
              "         0.47111419, 0.01638697, 0.32936516, 0.15148899, 0.30587044,\n",
              "         0.32630928, 0.394226  , 0.20711534, 0.0116428 , 0.35691612,\n",
              "         0.48756624, 0.25147165, 0.59428741, 0.43084307, 0.31324497,\n",
              "         0.00388969, 0.23798956, 0.34143352, 0.13185409, 0.28840225,\n",
              "         0.18715087, 0.13308078, 0.02831598, 0.45767378, 0.1357032 ,\n",
              "         0.33277705, 0.31950946, 0.11726599, 0.25052059, 0.01332407,\n",
              "         0.28145588, 0.23696805, 0.14262157, 0.10987167, 0.62364808,\n",
              "         1.95648767, 0.0360701 , 0.00875786, 0.0049331 , 0.01808208,\n",
              "         0.00276148, 0.01860257, 0.00851427, 0.01341425]),\n",
              "  'std_score_time': array([0.01454574, 0.00963584, 0.03098198, 0.03108249, 0.01493099,\n",
              "         0.02383156, 0.        , 0.02236259, 0.01846907, 0.02274938,\n",
              "         0.02549377, 0.01555818, 0.00949777, 0.        , 0.0136317 ,\n",
              "         0.01754236, 0.02073334, 0.01145877, 0.02436411, 0.01507507,\n",
              "         0.        , 0.02468506, 0.0108423 , 0.01230418, 0.02634234,\n",
              "         0.02279733, 0.01942787, 0.        , 0.01598907, 0.00781975,\n",
              "         0.02063307, 0.02362328, 0.02268837, 0.01097555, 0.        ,\n",
              "         0.01469836, 0.02880861, 0.02826357, 0.02599029, 0.02782717,\n",
              "         0.03695459, 0.        , 0.        , 0.        , 0.        ,\n",
              "         0.        , 0.        , 0.        , 0.        ]),\n",
              "  'std_test_score': array([0.00571306, 0.00567929, 0.00602077, 0.00568076, 0.00492331,\n",
              "         0.00520221,        nan, 0.00571306, 0.00567929, 0.00602077,\n",
              "         0.00568076, 0.00492331, 0.00520221,        nan, 0.00571306,\n",
              "         0.00567929, 0.00602077, 0.00568076, 0.00492331, 0.00520221,\n",
              "                nan, 0.00515702, 0.00578383, 0.00501886, 0.00492372,\n",
              "         0.00422505, 0.00412176,        nan, 0.00515702, 0.00578383,\n",
              "         0.00501886, 0.00492372, 0.00422505, 0.00412176,        nan,\n",
              "         0.00616254, 0.00518736, 0.00492239, 0.00603197, 0.00518099,\n",
              "         0.0052949 ,        nan,        nan,        nan,        nan,\n",
              "                nan,        nan,        nan,        nan])},\n",
              " {'colsample_bytree': 0.9, 'subsample': 0.9},\n",
              " 0.9293519255440463)"
            ]
          },
          "metadata": {
            "tags": []
          },
          "execution_count": 60
        }
      ]
    },
    {
      "cell_type": "markdown",
      "metadata": {
        "id": "UEvOEORUzprM",
        "colab_type": "text"
      },
      "source": [
        "Tuning Regularization Parameters"
      ]
    },
    {
      "cell_type": "code",
      "metadata": {
        "id": "hq1m_OEbzsVO",
        "colab_type": "code",
        "colab": {
          "base_uri": "https://localhost:8080/",
          "height": 435
        },
        "outputId": "61813def-4e0c-41cd-d380-aaccd83646c9"
      },
      "source": [
        "param_test6 = {\n",
        " 'reg_alpha':[1e-5, 1e-2, 0.1, 1, 100]\n",
        "}\n",
        "gsearch6 = GridSearchCV(estimator = XGBClassifier( learning_rate =0.11, \n",
        " n_estimators=360, max_depth=5,\n",
        " min_child_weight=6, gamma=0.03, subsample=0.9, colsample_bytree=0.9,\n",
        " objective= 'binary:logistic', nthread=4, scale_pos_weight=1, \n",
        " reg_alpha=1, reg_lambda=1, seed=27), \n",
        "\n",
        " param_grid = param_test6, scoring='roc_auc',n_jobs=4,iid=False, cv=5)\n",
        "\n",
        "gsearch6.fit(X_train, Y_train)\n",
        "gsearch6.cv_results_, gsearch6.best_params_, gsearch6.best_score_"
      ],
      "execution_count": null,
      "outputs": [
        {
          "output_type": "execute_result",
          "data": {
            "text/plain": [
              "({'mean_fit_time': array([11.07138186, 11.07887702, 11.20926065, 11.23835864,  3.92673397]),\n",
              "  'mean_score_time': array([0.11374106, 0.13949709, 0.1126389 , 0.14168906, 0.02190833]),\n",
              "  'mean_test_score': array([0.92755913, 0.92732022, 0.92664224, 0.92935193, 0.86319773]),\n",
              "  'param_reg_alpha': masked_array(data=[1e-05, 0.01, 0.1, 1, 100],\n",
              "               mask=[False, False, False, False, False],\n",
              "         fill_value='?',\n",
              "              dtype=object),\n",
              "  'params': [{'reg_alpha': 1e-05},\n",
              "   {'reg_alpha': 0.01},\n",
              "   {'reg_alpha': 0.1},\n",
              "   {'reg_alpha': 1},\n",
              "   {'reg_alpha': 100}],\n",
              "  'rank_test_score': array([2, 3, 4, 1, 5], dtype=int32),\n",
              "  'split0_test_score': array([0.92254466, 0.92134343, 0.92339993, 0.92443413, 0.82996769]),\n",
              "  'split1_test_score': array([0.92289286, 0.92426857, 0.92197745, 0.92746989, 0.87517818]),\n",
              "  'split2_test_score': array([0.92947591, 0.92913143, 0.92878249, 0.93331423, 0.87878709]),\n",
              "  'split3_test_score': array([0.93556525, 0.9368927 , 0.93466098, 0.9368437 , 0.86527725]),\n",
              "  'split4_test_score': array([0.92731695, 0.92496496, 0.92439032, 0.92469769, 0.86677843]),\n",
              "  'std_fit_time': array([0.14282189, 0.35930336, 0.2097106 , 0.17750986, 0.89448025]),\n",
              "  'std_score_time': array([0.01354353, 0.0139944 , 0.01503426, 0.01567953, 0.01124196]),\n",
              "  'std_test_score': array([0.00479061, 0.00539434, 0.00460922, 0.00492372, 0.01736629])},\n",
              " {'reg_alpha': 1},\n",
              " 0.9293519255440463)"
            ]
          },
          "metadata": {
            "tags": []
          },
          "execution_count": 61
        }
      ]
    },
    {
      "cell_type": "code",
      "metadata": {
        "id": "arAoxM_90XGt",
        "colab_type": "code",
        "colab": {
          "base_uri": "https://localhost:8080/",
          "height": 435
        },
        "outputId": "e07e76ba-e097-453e-eed3-57cca60f32dd"
      },
      "source": [
        "#reg_lambda=1\n",
        "param_test7 = {\n",
        " 'reg_alpha':[0.5,0.75,1,1.25,1.5]\n",
        "}\n",
        "gsearch7 = GridSearchCV(estimator = XGBClassifier( learning_rate =0.11, \n",
        " n_estimators=360, max_depth=5,\n",
        " min_child_weight=6, gamma=0.03, subsample=0.9, colsample_bytree=0.9,\n",
        " objective= 'binary:logistic', nthread=4, scale_pos_weight=1, \n",
        " reg_alpha=1, reg_lambda=1, seed=27), \n",
        "\n",
        " param_grid = param_test7, scoring='roc_auc',n_jobs=4,iid=False, cv=5)\n",
        "\n",
        "\n",
        "gsearch7.fit(X_train, Y_train)\n",
        "gsearch7.cv_results_, gsearch7.best_params_, gsearch7.best_score_"
      ],
      "execution_count": null,
      "outputs": [
        {
          "output_type": "execute_result",
          "data": {
            "text/plain": [
              "({'mean_fit_time': array([10.85836997, 11.01512723, 11.54575653, 11.34798412,  9.83777757]),\n",
              "  'mean_score_time': array([0.13388605, 0.12439737, 0.13441877, 0.1335937 , 0.09458413]),\n",
              "  'mean_test_score': array([0.92804408, 0.92860787, 0.92935193, 0.92876571, 0.92919498]),\n",
              "  'param_reg_alpha': masked_array(data=[0.5, 0.75, 1, 1.25, 1.5],\n",
              "               mask=[False, False, False, False, False],\n",
              "         fill_value='?',\n",
              "              dtype=object),\n",
              "  'params': [{'reg_alpha': 0.5},\n",
              "   {'reg_alpha': 0.75},\n",
              "   {'reg_alpha': 1},\n",
              "   {'reg_alpha': 1.25},\n",
              "   {'reg_alpha': 1.5}],\n",
              "  'rank_test_score': array([5, 4, 1, 3, 2], dtype=int32),\n",
              "  'split0_test_score': array([0.92191658, 0.92254392, 0.92443413, 0.92109694, 0.92304654]),\n",
              "  'split1_test_score': array([0.92489591, 0.92301536, 0.92746989, 0.92455663, 0.92808016]),\n",
              "  'split2_test_score': array([0.93010771, 0.9312889 , 0.93331423, 0.93278117, 0.93380571]),\n",
              "  'split3_test_score': array([0.93748812, 0.93695284, 0.9368437 , 0.93803529, 0.93520221]),\n",
              "  'split4_test_score': array([0.92581206, 0.92923834, 0.92469769, 0.92735852, 0.92584027]),\n",
              "  'std_fit_time': array([0.27919404, 0.38711418, 0.26954645, 0.24044707, 2.59818915]),\n",
              "  'std_score_time': array([0.02388512, 0.02288018, 0.0288666 , 0.02274848, 0.04531843]),\n",
              "  'std_test_score': array([0.00540162, 0.0053902 , 0.00492372, 0.00600925, 0.00463995])},\n",
              " {'reg_alpha': 1},\n",
              " 0.9293519255440463)"
            ]
          },
          "metadata": {
            "tags": []
          },
          "execution_count": 63
        }
      ]
    },
    {
      "cell_type": "code",
      "metadata": {
        "id": "18di6_wc1-fC",
        "colab_type": "code",
        "colab": {
          "base_uri": "https://localhost:8080/",
          "height": 435
        },
        "outputId": "a7a02c73-9e6d-4ece-e587-fc1e0086a545"
      },
      "source": [
        "#reg_lambda=1\n",
        "param_test8 = {\n",
        " 'reg_lambda':[0.5,0.75,1,1.25,1.5]\n",
        "}\n",
        "gsearch8 = GridSearchCV(estimator = XGBClassifier( learning_rate =0.11, \n",
        " n_estimators=360, max_depth=5,\n",
        " min_child_weight=6, gamma=0.03, subsample=0.9, colsample_bytree=0.9,\n",
        " objective= 'binary:logistic', nthread=4, scale_pos_weight=1, \n",
        " reg_alpha=1, reg_lambda=1, seed=27), \n",
        "\n",
        " param_grid = param_test8, scoring='roc_auc',n_jobs=4,iid=False, cv=5)\n",
        "\n",
        "\n",
        "gsearch8.fit(X_train, Y_train)\n",
        "gsearch8.cv_results_, gsearch8.best_params_, gsearch8.best_score_"
      ],
      "execution_count": null,
      "outputs": [
        {
          "output_type": "execute_result",
          "data": {
            "text/plain": [
              "({'mean_fit_time': array([8.05205898, 7.8306807 , 8.12936192, 8.06452904, 7.08247995]),\n",
              "  'mean_score_time': array([0.11390443, 0.09058571, 0.10103331, 0.1154079 , 0.07776346]),\n",
              "  'mean_test_score': array([0.92948823, 0.92840207, 0.92999486, 0.92954228, 0.92870543]),\n",
              "  'param_reg_lambda': masked_array(data=[0.5, 0.75, 1, 1.25, 1.5],\n",
              "               mask=[False, False, False, False, False],\n",
              "         fill_value='?',\n",
              "              dtype=object),\n",
              "  'params': [{'reg_lambda': 0.5},\n",
              "   {'reg_lambda': 0.75},\n",
              "   {'reg_lambda': 1},\n",
              "   {'reg_lambda': 1.25},\n",
              "   {'reg_lambda': 1.5}],\n",
              "  'rank_test_score': array([3, 5, 1, 2, 4], dtype=int32),\n",
              "  'split0_test_score': array([0.92174136, 0.92281194, 0.92380975, 0.92356252, 0.92038645]),\n",
              "  'split1_test_score': array([0.92655077, 0.92685516, 0.92677424, 0.92670816, 0.92695316]),\n",
              "  'split2_test_score': array([0.93110701, 0.93136611, 0.9300936 , 0.93032227, 0.92987533]),\n",
              "  'split3_test_score': array([0.93988317, 0.937892  , 0.93968569, 0.93808651, 0.93888239]),\n",
              "  'split4_test_score': array([0.92815885, 0.92308515, 0.92961103, 0.92903194, 0.9274298 ]),\n",
              "  'std_fit_time': array([0.36388971, 0.51552922, 0.222864  , 0.34487173, 1.6461004 ]),\n",
              "  'std_score_time': array([0.01487826, 0.0148124 , 0.01226773, 0.0207903 , 0.04323259]),\n",
              "  'std_test_score': array([0.00601806, 0.00567021, 0.00534223, 0.00485103, 0.00598067])},\n",
              " {'reg_lambda': 1},\n",
              " 0.9299948624441698)"
            ]
          },
          "metadata": {
            "tags": []
          },
          "execution_count": 86
        }
      ]
    },
    {
      "cell_type": "code",
      "metadata": {
        "id": "ajWe6pwuuI8h",
        "colab_type": "code",
        "colab": {
          "base_uri": "https://localhost:8080/",
          "height": 654
        },
        "outputId": "f735e1fc-58b1-45ff-bc6c-eacfe3a116f8"
      },
      "source": [
        "#reg_lambda=1\n",
        "param_test8 = {\n",
        " 'colsample_bylevel':[i/10.0 for i in range(6,12)]\n",
        "}\n",
        "gsearch8 = GridSearchCV(estimator = XGBClassifier( learning_rate =0.11, \n",
        " n_estimators=360, max_depth=5,\n",
        " min_child_weight=6, gamma=0.03, subsample=0.9, colsample_bytree=0.9,\n",
        " objective= 'binary:logistic', nthread=2, scale_pos_weight=1, \n",
        " reg_alpha=1, reg_lambda=1, seed=27, booster='gbtree', nrounds=100, eta=0.1, \n",
        " colsample_bylevel = 0.7), \n",
        "\n",
        " param_grid = param_test8, scoring='roc_auc',n_jobs=4,iid=False, cv=5)\n",
        "\n",
        "\n",
        "gsearch8.fit(X_train, Y_train)\n",
        "gsearch8.cv_results_, gsearch8.best_params_, gsearch8.best_score_"
      ],
      "execution_count": null,
      "outputs": [
        {
          "output_type": "execute_result",
          "data": {
            "text/plain": [
              "({'mean_fit_time': array([5.40549471e+01, 4.16566921e+01, 3.96261737e+01, 4.62183784e+01,\n",
              "         3.97706204e+01, 4.33899403e-02]),\n",
              "  'mean_score_time': array([0.15598192, 0.14504862, 0.15131021, 0.14943938, 0.10939856,\n",
              "         0.        ]),\n",
              "  'mean_test_score': array([0.92757071, 0.92956262, 0.92956262, 0.92810495, 0.92935193,\n",
              "                nan]),\n",
              "  'param_colsample_bylevel': masked_array(data=[0.6, 0.7, 0.8, 0.9, 1.0, 1.1],\n",
              "               mask=[False, False, False, False, False, False],\n",
              "         fill_value='?',\n",
              "              dtype=object),\n",
              "  'params': [{'colsample_bylevel': 0.6},\n",
              "   {'colsample_bylevel': 0.7},\n",
              "   {'colsample_bylevel': 0.8},\n",
              "   {'colsample_bylevel': 0.9},\n",
              "   {'colsample_bylevel': 1.0},\n",
              "   {'colsample_bylevel': 1.1}],\n",
              "  'rank_test_score': array([5, 1, 1, 4, 3, 6], dtype=int32),\n",
              "  'split0_test_score': array([0.92257436, 0.92374516, 0.92374516, 0.92254318, 0.92443413,\n",
              "                nan]),\n",
              "  'split1_test_score': array([0.92557671, 0.9278604 , 0.9278604 , 0.92432351, 0.92746989,\n",
              "                nan]),\n",
              "  'split2_test_score': array([0.92788861, 0.93189917, 0.93189917, 0.9325384 , 0.93331423,\n",
              "                nan]),\n",
              "  'split3_test_score': array([0.93674496, 0.93873465, 0.93873465, 0.93576125, 0.9368437 ,\n",
              "                nan]),\n",
              "  'split4_test_score': array([0.9250689 , 0.92557374, 0.92557374, 0.92535844, 0.92469769,\n",
              "                nan]),\n",
              "  'std_fit_time': array([1.23755650e+01, 1.31543415e+01, 2.27883593e+01, 9.13098718e+00,\n",
              "         1.19038923e+01, 1.22629449e-02]),\n",
              "  'std_score_time': array([0.01710898, 0.0099774 , 0.01056032, 0.00742071, 0.04821894,\n",
              "         0.        ]),\n",
              "  'std_test_score': array([0.00488808, 0.00533361, 0.00533361, 0.00511958, 0.00492372,\n",
              "                nan])},\n",
              " {'colsample_bylevel': 0.7},\n",
              " 0.929562624726789)"
            ]
          },
          "metadata": {
            "tags": []
          },
          "execution_count": 69
        }
      ]
    },
    {
      "cell_type": "code",
      "metadata": {
        "id": "DKxLxgrtsxZW",
        "colab_type": "code",
        "colab": {}
      },
      "source": [
        ""
      ],
      "execution_count": null,
      "outputs": []
    },
    {
      "cell_type": "code",
      "metadata": {
        "id": "1tPWQLWs2hvZ",
        "colab_type": "code",
        "colab": {
          "base_uri": "https://localhost:8080/",
          "height": 54
        },
        "outputId": "8bde6c04-f2f6-4708-fd2d-0f92a0847a19"
      },
      "source": [
        "from xgboost import XGBClassifier\n",
        "from sklearn.model_selection import GridSearchCV\n",
        "from sklearn.model_selection import RandomizedSearchCV\n",
        "from sklearn.model_selection import StratifiedKFold\n",
        "\n",
        "from sklearn.metrics import roc_auc_score\n",
        "\n",
        "model = XGBClassifier(learning_rate =0.12, \n",
        " n_estimators=360, max_depth=5,\n",
        " min_child_weight=6, gamma=0.03, subsample=0.9, colsample_bytree=0.9,\n",
        " objective= 'binary:logistic', nthread=2, scale_pos_weight=1, \n",
        " reg_alpha=1, reg_lambda=1, booster='gbtree', nrounds=50, eta=0.2, \n",
        " colsample_bylevel = 0.7)\n",
        "\n",
        "model.fit(X_train, Y_train, verbose=False)\n",
        "\n",
        "\n",
        "# Performance sur le train\n",
        "train_y_pred = model.predict(X_train)\n",
        "auc = roc_auc_score(Y_train, train_y_pred)\n",
        "print(\"Performance sur le train : \", auc)\n",
        "\n",
        "# Performance sur le test\n",
        "test_y_pred = model.predict(X_test)\n",
        "auc = roc_auc_score(Y_test, test_y_pred)\n",
        "print(\"Performance sur le test : \", auc)\n",
        "\n"
      ],
      "execution_count": null,
      "outputs": [
        {
          "output_type": "stream",
          "text": [
            "Performance sur le train :  0.8699586619785232\n",
            "Performance sur le test :  0.8120915277798613\n"
          ],
          "name": "stdout"
        }
      ]
    },
    {
      "cell_type": "markdown",
      "metadata": {
        "id": "knAw7wMAWAaD",
        "colab_type": "text"
      },
      "source": [
        "base_score=0.5, \n",
        "booster='gbtree', \n",
        "colsample_bylevel=1, \n",
        "max_delta_step=0,\n",
        "missing=None,\n",
        "n_jobs=1,\n",
        "random_state=72,\n",
        "silent=True,\n",
        "\n"
      ]
    },
    {
      "cell_type": "code",
      "metadata": {
        "id": "KZy_85LZWxvR",
        "colab_type": "code",
        "colab": {
          "base_uri": "https://localhost:8080/",
          "height": 35
        },
        "outputId": "2d826459-42de-4f09-ae60-24c144735b86"
      },
      "source": [
        "result = model.predict(test)\n",
        "result"
      ],
      "execution_count": null,
      "outputs": [
        {
          "output_type": "execute_result",
          "data": {
            "text/plain": [
              "array([1, 1, 1, ..., 1, 1, 1])"
            ]
          },
          "metadata": {
            "tags": []
          },
          "execution_count": 73
        }
      ]
    },
    {
      "cell_type": "code",
      "metadata": {
        "id": "hK0wg2DZQI73",
        "colab_type": "code",
        "colab": {}
      },
      "source": [
        "test_csv_2 = pd.read_csv('/content/test.csv')\n",
        "summission = pd.concat([test_csv_2['tripid'], pd.DataFrame(result)], axis=1)\n",
        "summission.columns = ['tripid', 'prediction']\n",
        "summission.to_csv('submission_tuned_2.csv', encoding='utf-8', index = False)"
      ],
      "execution_count": null,
      "outputs": []
    }
  ]
}
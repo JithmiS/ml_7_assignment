{
  "nbformat": 4,
  "nbformat_minor": 0,
  "metadata": {
    "colab": {
      "name": "ENSEMBLE_FINAL.ipynb",
      "provenance": [],
      "authorship_tag": "ABX9TyMSebvNaPCgjd/lNC8zhO1+",
      "include_colab_link": true
    },
    "kernelspec": {
      "name": "python3",
      "display_name": "Python 3"
    }
  },
  "cells": [
    {
      "cell_type": "markdown",
      "metadata": {
        "id": "view-in-github",
        "colab_type": "text"
      },
      "source": [
        "<a href=\"https://colab.research.google.com/github/JithmiS/ml_7_assignment/blob/master/ENSEMBLE_FINAL.ipynb\" target=\"_parent\"><img src=\"https://colab.research.google.com/assets/colab-badge.svg\" alt=\"Open In Colab\"/></a>"
      ]
    },
    {
      "cell_type": "code",
      "metadata": {
        "id": "0hYRYV-oeB6p",
        "colab_type": "code",
        "colab": {}
      },
      "source": [
        "import tensorflow as tf\n",
        "import pandas as pd\n",
        "import numpy as np\n",
        "import matplotlib.pyplot as plt\n",
        "import seaborn as sns\n",
        "from sklearn.model_selection import train_test_split\n",
        "from sklearn.preprocessing import MinMaxScaler, Normalizer\n",
        "from sklearn.decomposition import PCA as sklearnPCA\n",
        "\n",
        "# Supress unnecessary warnings so that presentation looks clean\n",
        "import warnings\n",
        "warnings.filterwarnings(\"ignore\")"
      ],
      "execution_count": 90,
      "outputs": []
    },
    {
      "cell_type": "code",
      "metadata": {
        "id": "0dTXyyTafMKv",
        "colab_type": "code",
        "colab": {}
      },
      "source": [
        "train_csv = pd.read_csv('/content/train.csv', parse_dates = ['pickup_time','drop_time']).drop(columns='tripid')"
      ],
      "execution_count": 92,
      "outputs": []
    },
    {
      "cell_type": "code",
      "metadata": {
        "id": "6_xXrvDkfQDk",
        "colab_type": "code",
        "colab": {}
      },
      "source": [
        "test = pd.read_csv('/content/test.csv', parse_dates = ['pickup_time','drop_time'])"
      ],
      "execution_count": 91,
      "outputs": []
    },
    {
      "cell_type": "code",
      "metadata": {
        "id": "OEyBUx8CfTyK",
        "colab_type": "code",
        "colab": {}
      },
      "source": [
        "train_csv['fare'] = train_csv.fare.fillna(train_csv.fare.mean())\n",
        "train_csv['additional_fare'] = train_csv.additional_fare.fillna(train_csv.additional_fare.mean())\n",
        "train_csv['duration'] = train_csv.duration.fillna(train_csv.duration.mean())\n",
        "train_csv['meter_waiting_till_pickup'] = train_csv.meter_waiting_till_pickup.fillna(train_csv.meter_waiting_till_pickup.mean())\n",
        "train_csv['meter_waiting'] = train_csv.meter_waiting.fillna(train_csv.meter_waiting.mean())\n",
        "train_csv['meter_waiting_fare'] = train_csv.meter_waiting_fare.fillna(train_csv.meter_waiting_fare.mean())"
      ],
      "execution_count": 93,
      "outputs": []
    },
    {
      "cell_type": "code",
      "metadata": {
        "id": "WHiTlgxzfads",
        "colab_type": "code",
        "colab": {}
      },
      "source": [
        "# Absolute difference time\n",
        "train_csv['abs_time'] = (train_csv['drop_time'] - train_csv['pickup_time']).abs()\n",
        "test['abs_time'] = (test['drop_time'] - test['pickup_time']).abs()"
      ],
      "execution_count": 94,
      "outputs": []
    },
    {
      "cell_type": "code",
      "metadata": {
        "id": "KG4VGEPAggOL",
        "colab_type": "code",
        "colab": {}
      },
      "source": [
        "#Absolute difference in latitude and longitude\n",
        "train_csv['abs_lat_diff'] = (train_csv['drop_lat'] - train_csv['pick_lat']).abs()\n",
        "train_csv['abs_lon_diff'] = (train_csv['drop_lon'] - train_csv['pick_lon']).abs()"
      ],
      "execution_count": 95,
      "outputs": []
    },
    {
      "cell_type": "code",
      "metadata": {
        "id": "t4Iv1a3TgRqk",
        "colab_type": "code",
        "colab": {}
      },
      "source": [
        "train_csv['label'] = train_csv['label'].map({'correct':1,'incorrect':0})"
      ],
      "execution_count": 96,
      "outputs": []
    },
    {
      "cell_type": "code",
      "metadata": {
        "id": "uICQrImUgwe1",
        "colab_type": "code",
        "colab": {}
      },
      "source": [
        "train_csv = train_csv.drop(['pickup_time', 'drop_time', 'pick_lat','pick_lon', 'drop_lat', 'drop_lon'], axis=1)"
      ],
      "execution_count": 97,
      "outputs": []
    },
    {
      "cell_type": "code",
      "metadata": {
        "id": "qfP5cq7ihEry",
        "colab_type": "code",
        "colab": {}
      },
      "source": [
        "# Create absolute differences\n",
        "test['abs_lat_diff'] = (test['drop_lat'] - test['pick_lat']).abs()\n",
        "test['abs_lon_diff'] = (test['drop_lon'] - test['pick_lon']).abs()"
      ],
      "execution_count": 98,
      "outputs": []
    },
    {
      "cell_type": "code",
      "metadata": {
        "id": "a5thHirkKw4h",
        "colab_type": "code",
        "colab": {}
      },
      "source": [
        "# Save the id for submission\n",
        "test_id = list(test.pop('tripid'))"
      ],
      "execution_count": 99,
      "outputs": []
    },
    {
      "cell_type": "code",
      "metadata": {
        "id": "4GTdsz5rhg_Z",
        "colab_type": "code",
        "colab": {}
      },
      "source": [
        "test = test.drop(['pickup_time', 'drop_time', 'pick_lat','pick_lon', 'drop_lat', 'drop_lon'], axis=1)\n",
        "train_csv['time'] = (train_csv['abs_time'].dt.seconds.astype(int))\n",
        "test['time'] = (test['abs_time'].dt.seconds.astype(int))\n",
        "train_csv['distance'] = ((((train_csv['abs_lat_diff'])**2 + (train_csv['abs_lon_diff'])**2)**0.5)).abs()\n",
        "test['distance'] = ((((test['abs_lat_diff'])**2 + (test['abs_lon_diff'])**2)**0.5)).abs()\n",
        "train_csv = train_csv.drop(['abs_lat_diff','abs_lon_diff'], axis=1)\n",
        "test = test.drop(['abs_lat_diff','abs_lon_diff'], axis=1)"
      ],
      "execution_count": 100,
      "outputs": []
    },
    {
      "cell_type": "code",
      "metadata": {
        "id": "8Gn_eTSbmwzm",
        "colab_type": "code",
        "colab": {}
      },
      "source": [
        "train_csv = train_csv.drop(['abs_time'], axis=1)\n",
        "test = test.drop(['abs_time'], axis=1)"
      ],
      "execution_count": 101,
      "outputs": []
    },
    {
      "cell_type": "code",
      "metadata": {
        "id": "O8RvC086cbXh",
        "colab_type": "code",
        "colab": {}
      },
      "source": [
        "train_csv = train_csv.drop(['meter_waiting_till_pickup'], axis=1)\n",
        "test = test.drop(['meter_waiting_till_pickup'], axis=1)"
      ],
      "execution_count": 102,
      "outputs": []
    },
    {
      "cell_type": "code",
      "metadata": {
        "id": "GtIreG0AiITd",
        "colab_type": "code",
        "colab": {}
      },
      "source": [
        "#predictors = train_csv.drop(['label'], axis=1)\n",
        "#target = train_csv['label']\n",
        "\n",
        "#X_train,X_test,Y_train,Y_test = train_test_split(predictors,target,test_size=0.20,random_state=0)"
      ],
      "execution_count": 30,
      "outputs": []
    },
    {
      "cell_type": "code",
      "metadata": {
        "id": "vl4TO8j3Cw0O",
        "colab_type": "code",
        "colab": {}
      },
      "source": [
        "#X_train"
      ],
      "execution_count": 31,
      "outputs": []
    },
    {
      "cell_type": "code",
      "metadata": {
        "id": "cgfdJ8mZqJ9L",
        "colab_type": "code",
        "colab": {
          "base_uri": "https://localhost:8080/",
          "height": 119
        },
        "outputId": "c6bb77f5-4b27-464b-a96f-c68d81d0b741"
      },
      "source": [
        "X_1 = train_csv.drop(['label'], axis=1)\n",
        "y_1 = train_csv['label']\n",
        "\n",
        "X_train1,X_test1,y_train1,y_test1=train_test_split(X_1,y_1,random_state=10)\n",
        "print(y_train1.value_counts())\n",
        "print(y_test1.value_counts())"
      ],
      "execution_count": 45,
      "outputs": [
        {
          "output_type": "stream",
          "text": [
            "1    11608\n",
            "0     1274\n",
            "Name: label, dtype: int64\n",
            "1    3887\n",
            "0     407\n",
            "Name: label, dtype: int64\n"
          ],
          "name": "stdout"
        }
      ]
    },
    {
      "cell_type": "code",
      "metadata": {
        "id": "sEagHybLqegs",
        "colab_type": "code",
        "colab": {
          "base_uri": "https://localhost:8080/",
          "height": 347
        },
        "outputId": "d4894eec-095c-49e6-90e2-71ca00c339e5"
      },
      "source": [
        "plt.figure(figsize=(10,15))\n",
        "\n",
        "plt.subplot('121')\n",
        "plt.pie(y_train1.value_counts(),labels=y_train1.unique(),autopct = '%1.2f%%')\n",
        "plt.title('Training Dataset')\n",
        "\n",
        "plt.subplot('122')\n",
        "plt.pie(y_test1.value_counts(),labels=y_test1.unique(),autopct = '%1.2f%%')\n",
        "plt.title('Test Dataset')\n",
        "\n",
        "plt.tight_layout()"
      ],
      "execution_count": 46,
      "outputs": [
        {
          "output_type": "display_data",
          "data": {
            "image/png": "[encoded data removed]",
            "text/plain": [
              "<Figure size 720x1080 with 2 Axes>"
            ]
          },
          "metadata": {
            "tags": []
          }
        }
      ]
    },
    {
      "cell_type": "code",
      "metadata": {
        "id": "3pWJqeKinr6p",
        "colab_type": "code",
        "colab": {
          "base_uri": "https://localhost:8080/",
          "height": 119
        },
        "outputId": "374def47-4ef4-40f0-9653-d3e31f722ba1"
      },
      "source": [
        "from sklearn.model_selection import StratifiedShuffleSplit \n",
        "\n",
        "X = train_csv.drop(['label'], axis=1)\n",
        "y = train_csv['label']\n",
        "\n",
        "splitter=StratifiedShuffleSplit(n_splits=1,random_state=12)\n",
        "\n",
        "for train,test in splitter.split(X,y):     #this will splits the index\n",
        "    X_train = X.iloc[train]\n",
        "    Y_train = y.iloc[train]\n",
        "    X_test = X.iloc[test]\n",
        "    Y_test = y.iloc[test]\n",
        "print(Y_train.value_counts())  \n",
        "print(Y_test.value_counts())"
      ],
      "execution_count": 33,
      "outputs": [
        {
          "output_type": "stream",
          "text": [
            "1    13945\n",
            "0     1513\n",
            "Name: label, dtype: int64\n",
            "1    1550\n",
            "0     168\n",
            "Name: label, dtype: int64\n"
          ],
          "name": "stdout"
        }
      ]
    },
    {
      "cell_type": "code",
      "metadata": {
        "id": "SWcWFxIBolfb",
        "colab_type": "code",
        "colab": {
          "base_uri": "https://localhost:8080/",
          "height": 347
        },
        "outputId": "4aaca856-0ad7-4fd7-c83d-6536db1552cf"
      },
      "source": [
        "plt.figure(figsize=(10,15))\n",
        "\n",
        "plt.subplot('121')\n",
        "plt.pie(Y_train.value_counts(),labels=Y_train.unique(),autopct = '%1.2f%%')\n",
        "plt.title('Training Dataset')\n",
        "\n",
        "plt.subplot('122')\n",
        "plt.pie(Y_test.value_counts(),labels=Y_test.unique(),autopct = '%1.2f%%')\n",
        "plt.title('Test Dataset')\n",
        "\n",
        "plt.tight_layout()"
      ],
      "execution_count": 42,
      "outputs": [
        {
          "output_type": "display_data",
          "data": {
            "image/png": "[encoded data removed]",
            "text/plain": [
              "<Figure size 720x1080 with 2 Axes>"
            ]
          },
          "metadata": {
            "tags": []
          }
        }
      ]
    },
    {
      "cell_type": "code",
      "metadata": {
        "id": "KKu4oR_8y12j",
        "colab_type": "code",
        "colab": {}
      },
      "source": [
        "from sklearn.preprocessing import StandardScaler\n",
        "\n",
        "feature_scaler = StandardScaler()\n",
        "X_train = feature_scaler.fit_transform(X_train)\n",
        "X_test = feature_scaler.transform(X_test)"
      ],
      "execution_count": 50,
      "outputs": []
    },
    {
      "cell_type": "markdown",
      "metadata": {
        "id": "Oa7X1nChsOg_",
        "colab_type": "text"
      },
      "source": [
        "# Models"
      ]
    },
    {
      "cell_type": "code",
      "metadata": {
        "id": "tCBPGqDc9q47",
        "colab_type": "code",
        "colab": {}
      },
      "source": [
        "# Classification Models\n",
        "from sklearn.ensemble import RandomForestClassifier, ExtraTreesClassifier, VotingClassifier, AdaBoostClassifier, GradientBoostingClassifier\n",
        "from sklearn.tree import DecisionTreeClassifier\n",
        "from sklearn.linear_model import SGDClassifier, LogisticRegression\n",
        "from sklearn.svm import SVC, LinearSVC\n",
        "from sklearn.neighbors import KNeighborsClassifier\n",
        "\n",
        "# Hyperparameter Tuning\n",
        "from sklearn.model_selection import cross_val_score, GridSearchCV, RandomizedSearchCV, StratifiedKFold\n",
        "\n",
        "# Performance Measures\n",
        "from sklearn.metrics import accuracy_score\n",
        "\n",
        "# Global Variables\n",
        "rnd_state = 42\n",
        "skfold = StratifiedKFold(n_splits=5)"
      ],
      "execution_count": 63,
      "outputs": []
    },
    {
      "cell_type": "markdown",
      "metadata": {
        "id": "IrQpziQcvrPh",
        "colab_type": "text"
      },
      "source": [
        "XGBoost Classifier (Stratified K-Fold cross validation)"
      ]
    },
    {
      "cell_type": "code",
      "metadata": {
        "id": "noToJp4fzpBH",
        "colab_type": "code",
        "colab": {
          "base_uri": "https://localhost:8080/",
          "height": 568
        },
        "outputId": "915dad42-d238-40ed-c082-d6a41c14fc1a"
      },
      "source": [
        "from xgboost import XGBClassifier\n",
        "from sklearn.model_selection import GridSearchCV\n",
        "from sklearn.model_selection import StratifiedKFold\n",
        "\n",
        "model = XGBClassifier(learning_rate =0.1, \n",
        " n_estimators=340, max_depth=4,\n",
        " min_child_weight=6, gamma=0.1, subsample=0.8, colsample_bytree=0.8,\n",
        " objective= 'binary:logistic', nthread=4, scale_pos_weight=1, \n",
        " reg_alpha=1, reg_lambda=1, seed=27)\n",
        "\n",
        "n_estimators = range(100,400, 20)\n",
        "param_grid = dict(n_estimators=n_estimators)\n",
        "kfold = StratifiedKFold(n_splits=10, shuffle=True, random_state=7)\n",
        "grid_search = GridSearchCV(model, param_grid, scoring=\"neg_log_loss\", n_jobs=-1, cv=kfold)\n",
        "grid_result = grid_search.fit(X_train,Y_train)\n",
        "\n",
        "XGBest = grid_search.best_estimator_\n",
        "\n",
        "# summarize results\n",
        "print(\"Best: %f using %s\" % (grid_result.best_score_, grid_result.best_params_))\n",
        "means = grid_result.cv_results_['mean_test_score']\n",
        "stds = grid_result.cv_results_['std_test_score']\n",
        "params = grid_result.cv_results_['params']\n",
        "for mean, stdev, param in zip(means, stds, params):\n",
        "\tprint(\"%f (%f) with: %r\" % (mean, stdev, param))\n",
        " \n",
        "# plot\n",
        "plt.errorbar(n_estimators, means, yerr=stds)\n",
        "plt.title(\"XGBoost n_estimators vs Log Loss\")\n",
        "plt.xlabel('n_estimators')\n",
        "plt.ylabel('Log Loss')\n",
        "plt.savefig('n_estimators.png')"
      ],
      "execution_count": 53,
      "outputs": [
        {
          "output_type": "stream",
          "text": [
            "Best: -0.149372 using {'n_estimators': 360}\n",
            "-0.161177 (0.003242) with: {'n_estimators': 100}\n",
            "-0.157695 (0.003619) with: {'n_estimators': 120}\n",
            "-0.155564 (0.003366) with: {'n_estimators': 140}\n",
            "-0.153627 (0.003615) with: {'n_estimators': 160}\n",
            "-0.152719 (0.003468) with: {'n_estimators': 180}\n",
            "-0.151632 (0.003556) with: {'n_estimators': 200}\n",
            "-0.150900 (0.003312) with: {'n_estimators': 220}\n",
            "-0.150363 (0.003497) with: {'n_estimators': 240}\n",
            "-0.150012 (0.003735) with: {'n_estimators': 260}\n",
            "-0.149939 (0.003735) with: {'n_estimators': 280}\n",
            "-0.149832 (0.003989) with: {'n_estimators': 300}\n",
            "-0.149646 (0.004282) with: {'n_estimators': 320}\n",
            "-0.149535 (0.004292) with: {'n_estimators': 340}\n",
            "-0.149372 (0.004348) with: {'n_estimators': 360}\n",
            "-0.149394 (0.004255) with: {'n_estimators': 380}\n"
          ],
          "name": "stdout"
        },
        {
          "output_type": "display_data",
          "data": {
            "image/png": "[encoded data removed]",
            "text/plain": [
              "<Figure size 432x288 with 1 Axes>"
            ]
          },
          "metadata": {
            "tags": [],
            "needs_background": "light"
          }
        }
      ]
    },
    {
      "cell_type": "markdown",
      "metadata": {
        "id": "v_6oLBGC21hd",
        "colab_type": "text"
      },
      "source": [
        "Hyperparameter tuning"
      ]
    },
    {
      "cell_type": "code",
      "metadata": {
        "id": "2TsGu9V2r7Lp",
        "colab_type": "code",
        "colab": {
          "base_uri": "https://localhost:8080/",
          "height": 1000
        },
        "outputId": "d1898932-013c-4122-9654-978cbdbbd9a9"
      },
      "source": [
        "param_test1 = {\n",
        " 'max_depth':range(3,10,2),\n",
        " 'min_child_weight':range(1,6,2)\n",
        "}\n",
        "\n",
        "gsearch1 = GridSearchCV(estimator = XGBClassifier( learning_rate =0.11, \n",
        " n_estimators=360, max_depth=4,\n",
        " min_child_weight=6, gamma=0.1, subsample=0.8, colsample_bytree=0.75,\n",
        " objective= 'binary:logistic', nthread=4, scale_pos_weight=1, \n",
        " reg_alpha=1, reg_lambda=1, seed=27), \n",
        "\n",
        "param_grid = param_test1, scoring='roc_auc',n_jobs=4,iid=False, cv=5)\n",
        "gsearch1.fit(X_train,Y_train)\n",
        "gsearch1.cv_results_, gsearch1.best_params_, gsearch1.best_score_"
      ],
      "execution_count": 54,
      "outputs": [
        {
          "output_type": "execute_result",
          "data": {
            "text/plain": [
              "({'mean_fit_time': array([ 7.17274966,  7.57990117,  7.61784201, 12.17629681, 11.79960337,\n",
              "         11.65318565, 17.21173644, 16.33741584, 15.55216155, 21.81792617,\n",
              "         20.00987015, 16.14267735]),\n",
              "  'mean_score_time': array([0.1164227 , 0.09331036, 0.09966674, 0.1397994 , 0.14728146,\n",
              "         0.14670134, 0.22601976, 0.2190053 , 0.197299  , 0.26107335,\n",
              "         0.2281909 , 0.18611822]),\n",
              "  'mean_test_score': array([0.93082526, 0.93196183, 0.93159819, 0.9307031 , 0.93042848,\n",
              "         0.92997395, 0.92646468, 0.92740038, 0.92689362, 0.9271663 ,\n",
              "         0.92599891, 0.92658572]),\n",
              "  'param_max_depth': masked_array(data=[3, 3, 3, 5, 5, 5, 7, 7, 7, 9, 9, 9],\n",
              "               mask=[False, False, False, False, False, False, False, False,\n",
              "                     False, False, False, False],\n",
              "         fill_value='?',\n",
              "              dtype=object),\n",
              "  'param_min_child_weight': masked_array(data=[1, 3, 5, 1, 3, 5, 1, 3, 5, 1, 3, 5],\n",
              "               mask=[False, False, False, False, False, False, False, False,\n",
              "                     False, False, False, False],\n",
              "         fill_value='?',\n",
              "              dtype=object),\n",
              "  'params': [{'max_depth': 3, 'min_child_weight': 1},\n",
              "   {'max_depth': 3, 'min_child_weight': 3},\n",
              "   {'max_depth': 3, 'min_child_weight': 5},\n",
              "   {'max_depth': 5, 'min_child_weight': 1},\n",
              "   {'max_depth': 5, 'min_child_weight': 3},\n",
              "   {'max_depth': 5, 'min_child_weight': 5},\n",
              "   {'max_depth': 7, 'min_child_weight': 1},\n",
              "   {'max_depth': 7, 'min_child_weight': 3},\n",
              "   {'max_depth': 7, 'min_child_weight': 5},\n",
              "   {'max_depth': 9, 'min_child_weight': 1},\n",
              "   {'max_depth': 9, 'min_child_weight': 3},\n",
              "   {'max_depth': 9, 'min_child_weight': 5}],\n",
              "  'rank_test_score': array([ 3,  1,  2,  4,  5,  6, 11,  7,  9,  8, 12, 10], dtype=int32),\n",
              "  'split0_test_score': array([0.9469971 , 0.94601256, 0.94302345, 0.94273472, 0.94188035,\n",
              "         0.94181526, 0.93700736, 0.94033254, 0.93837057, 0.93692216,\n",
              "         0.9397604 , 0.93937818]),\n",
              "  'split1_test_score': array([0.92275524, 0.92290315, 0.92339542, 0.92797731, 0.92860211,\n",
              "         0.92440954, 0.9233546 , 0.92434505, 0.92393739, 0.92584434,\n",
              "         0.92269075, 0.92451072]),\n",
              "  'split2_test_score': array([0.93476494, 0.93666064, 0.9382475 , 0.93236513, 0.93153087,\n",
              "         0.93156046, 0.92824356, 0.93105576, 0.92847549, 0.92841455,\n",
              "         0.92669753, 0.92678155]),\n",
              "  'split3_test_score': array([0.91130601, 0.9113998 , 0.91202964, 0.91092074, 0.91066726,\n",
              "         0.91305483, 0.90492035, 0.90760533, 0.90981422, 0.90900926,\n",
              "         0.9068811 , 0.90620258]),\n",
              "  'split4_test_score': array([0.93830303, 0.94283301, 0.94129492, 0.93951759, 0.93946179,\n",
              "         0.93902963, 0.93879752, 0.93366323, 0.93387041, 0.9356412 ,\n",
              "         0.9339648 , 0.93605555]),\n",
              "  'std_fit_time': array([0.75147953, 0.23121503, 0.15250297, 0.22701752, 0.23265521,\n",
              "         0.49410709, 0.30046045, 0.39554277, 0.23461564, 0.82240013,\n",
              "         0.31081982, 3.12247569]),\n",
              "  'std_score_time': array([0.01393978, 0.01527448, 0.03366491, 0.03680264, 0.01819062,\n",
              "         0.01119951, 0.04197745, 0.01884726, 0.01908159, 0.02286886,\n",
              "         0.04037041, 0.09077642]),\n",
              "  'std_test_score': array([0.01248273, 0.01298107, 0.01199158, 0.01117129, 0.01102545,\n",
              "         0.01041113, 0.01216752, 0.01114455, 0.00983202, 0.00999985,\n",
              "         0.0112228 , 0.01160294])},\n",
              " {'max_depth': 3, 'min_child_weight': 3},\n",
              " 0.931961833865957)"
            ]
          },
          "metadata": {
            "tags": []
          },
          "execution_count": 54
        }
      ]
    },
    {
      "cell_type": "code",
      "metadata": {
        "id": "qED60Sn-45U_",
        "colab_type": "code",
        "colab": {
          "base_uri": "https://localhost:8080/",
          "height": 1000
        },
        "outputId": "aee64c5c-e697-403a-e4af-cb4062e03475"
      },
      "source": [
        "param_test3 = {\n",
        " 'gamma':[i/10.0 for i in range(0,5)],\n",
        " 'subsample':[i/10.0 for i in range(6,12)],\n",
        " 'colsample_bytree':[i/10.0 for i in range(6,12)]\n",
        "}\n",
        "\n",
        "gsearch3 = GridSearchCV(estimator = XGBClassifier( learning_rate =0.11, \n",
        " n_estimators=360, max_depth=3,\n",
        " min_child_weight=3, gamma=0.1, subsample=0.8, colsample_bytree=0.75,\n",
        " objective= 'binary:logistic', nthread=4, scale_pos_weight=1, \n",
        " reg_alpha=1, reg_lambda=1, seed=27), \n",
        "\n",
        " param_grid = param_test3, scoring='roc_auc',n_jobs=4,iid=False, cv=5)\n",
        "\n",
        "\n",
        "gsearch3.fit(X_train,Y_train)\n",
        "xgb_clf = gsearch3.best_estimator_\n",
        "\n",
        "gsearch3.cv_results_, gsearch3.best_params_, gsearch3.best_score_"
      ],
      "execution_count": 61,
      "outputs": [
        {
          "output_type": "execute_result",
          "data": {
            "text/plain": [
              "({'mean_fit_time': array([ 7.21735754,  7.08107138,  7.00083795,  7.0198554 ,  6.58344197,\n",
              "          0.03273931,  7.24438567,  7.17336173,  7.03449001,  6.92917614,\n",
              "          6.65549965,  0.02111664,  7.30126572,  7.23547153,  7.05032597,\n",
              "          6.92733188,  6.53363023,  0.02722669,  7.35663619,  7.16557164,\n",
              "          6.94144406,  7.04809885,  6.671311  ,  0.02562137,  7.17070637,\n",
              "          7.16741986,  7.13835258,  6.91885157,  6.55919938,  0.02984929,\n",
              "          7.2616159 ,  7.20362864,  7.05751991,  6.91036496,  6.6742259 ,\n",
              "          0.05523515,  7.23142357,  7.24810886,  7.01389503,  7.05639305,\n",
              "          6.46787238,  0.04022226,  7.36317401,  7.25705795,  6.98821511,\n",
              "          7.79635496,  9.17905993,  0.03050723,  7.28786969,  7.157897  ,\n",
              "          7.13216567,  6.93603902,  6.5985199 ,  0.01419244,  7.21159587,\n",
              "          7.28516083,  7.02086978,  6.99416862,  6.52462964,  0.04200983,\n",
              "          7.81565256,  7.85531268,  7.59206138,  7.6240624 ,  7.16510577,\n",
              "          0.01869459,  7.84267445,  7.75138102,  7.65396676,  7.44569077,\n",
              "          7.32046204,  0.0118206 ,  7.82712507,  7.79428701,  7.68853765,\n",
              "          7.44237456,  7.21145172,  0.04889402,  7.91157732,  7.77370505,\n",
              "          7.53112712,  7.46602178,  7.09392242,  0.01173725,  7.84550843,\n",
              "          7.76574059,  7.54635625,  7.52261291,  7.24114995,  0.03007793,\n",
              "          8.35923138,  8.28836956,  8.17625303,  8.12813892,  7.85311441,\n",
              "          0.04897966,  8.34022927,  8.3643712 ,  8.20522504,  8.04206891,\n",
              "          7.75329113,  0.03415589,  8.35096874,  8.31313272,  8.17140603,\n",
              "          8.04352379,  7.83182182,  0.02567902,  8.47479815,  8.22175412,\n",
              "          8.32140999,  7.95105786,  7.84471998,  0.01685061,  8.4007247 ,\n",
              "          8.35011077,  8.14935641,  8.03281374,  7.70913434,  0.05254664,\n",
              "         11.10592628, 10.10324187,  8.74078159,  8.62293739,  8.28761172,\n",
              "          0.04882145,  9.04306288,  8.88635077,  8.78767319,  8.81218739,\n",
              "          8.31656551,  0.05409331,  8.93862009,  8.87445931,  8.89599986,\n",
              "          8.59815273,  8.34559155,  0.02525835,  9.03193598,  8.90850749,\n",
              "          8.78395171,  8.57169199,  8.30150795,  0.01747861,  9.02051706,\n",
              "          8.80823975,  8.73818817,  8.81643362,  7.7489656 ,  0.01620569,\n",
              "          0.05464478,  0.04893188,  0.0330544 ,  0.03641663,  0.02836494,\n",
              "          0.0478621 ,  0.03353572,  0.03928342,  0.02087116,  0.01567764,\n",
              "          0.05301332,  0.04222941,  0.02858162,  0.01923618,  0.02092719,\n",
              "          0.01754322,  0.02049613,  0.03934989,  0.01770716,  0.02235799,\n",
              "          0.02524309,  0.03202357,  0.02143555,  0.02937746,  0.03003206,\n",
              "          0.02545724,  0.02163286,  0.02285748,  0.02020226,  0.01652665]),\n",
              "  'mean_score_time': array([0.10283804, 0.08492532, 0.1076263 , 0.08322954, 0.07875276,\n",
              "         0.        , 0.08009672, 0.10590963, 0.09152493, 0.09309745,\n",
              "         0.09629126, 0.        , 0.09466043, 0.08637066, 0.10548062,\n",
              "         0.09632463, 0.08343234, 0.        , 0.10158935, 0.0964705 ,\n",
              "         0.07534332, 0.07102056, 0.10481243, 0.        , 0.10498042,\n",
              "         0.08111181, 0.09122248, 0.10012169, 0.07875934, 0.        ,\n",
              "         0.08445153, 0.08926558, 0.0967577 , 0.09490232, 0.09578352,\n",
              "         0.        , 0.0971817 , 0.10180697, 0.100879  , 0.09497948,\n",
              "         0.08820195, 0.        , 0.10344801, 0.09388599, 0.09075871,\n",
              "         0.13849807, 0.13628368, 0.        , 0.10394754, 0.11683507,\n",
              "         0.09815774, 0.09964933, 0.09445252, 0.        , 0.10921855,\n",
              "         0.08157911, 0.07927427, 0.10336518, 0.09428439, 0.        ,\n",
              "         0.0832377 , 0.09546499, 0.0870306 , 0.0900444 , 0.08734803,\n",
              "         0.        , 0.09452553, 0.09628015, 0.10395303, 0.0931128 ,\n",
              "         0.09183617, 0.        , 0.1021359 , 0.09146185, 0.09520779,\n",
              "         0.09298501, 0.09804831, 0.        , 0.10246282, 0.08539023,\n",
              "         0.10386753, 0.10257759, 0.10619488, 0.        , 0.09164071,\n",
              "         0.10935183, 0.08155565, 0.09673209, 0.08660083, 0.        ,\n",
              "         0.10054321, 0.0907814 , 0.1000421 , 0.10751638, 0.09751496,\n",
              "         0.        , 0.10414   , 0.09092536, 0.09426327, 0.10842137,\n",
              "         0.1024724 , 0.        , 0.10831881, 0.09726825, 0.09171143,\n",
              "         0.1016592 , 0.08784847, 0.        , 0.09579611, 0.10781579,\n",
              "         0.0892879 , 0.09415059, 0.09513955, 0.        , 0.09084773,\n",
              "         0.09544063, 0.10321803, 0.11084857, 0.0976264 , 0.        ,\n",
              "         0.15344653, 0.08814611, 0.10193424, 0.08909979, 0.08363843,\n",
              "         0.        , 0.08714032, 0.09282312, 0.09398298, 0.10925183,\n",
              "         0.09422717, 0.        , 0.0906601 , 0.10086102, 0.09877615,\n",
              "         0.0858624 , 0.09044156, 0.        , 0.07429433, 0.08634949,\n",
              "         0.08100896, 0.09418855, 0.08863401, 0.        , 0.09667063,\n",
              "         0.09286599, 0.09709592, 0.10515413, 0.07549725, 0.        ,\n",
              "         0.        , 0.        , 0.        , 0.        , 0.        ,\n",
              "         0.        , 0.        , 0.        , 0.        , 0.        ,\n",
              "         0.        , 0.        , 0.        , 0.        , 0.        ,\n",
              "         0.        , 0.        , 0.        , 0.        , 0.        ,\n",
              "         0.        , 0.        , 0.        , 0.        , 0.        ,\n",
              "         0.        , 0.        , 0.        , 0.        , 0.        ]),\n",
              "  'mean_test_score': array([0.92834301, 0.92872202, 0.92998961, 0.92942181, 0.92783406,\n",
              "                nan, 0.92778654, 0.92920038, 0.92906988, 0.93029953,\n",
              "         0.93011512,        nan, 0.92804497, 0.92901006, 0.93024707,\n",
              "         0.9297852 , 0.92941096,        nan, 0.92798138, 0.92809664,\n",
              "         0.93011065, 0.93067896, 0.92978208,        nan, 0.92832894,\n",
              "         0.92866048, 0.93044437, 0.93004582, 0.92960665,        nan,\n",
              "         0.92834301, 0.92872202, 0.92998961, 0.92942181, 0.92783406,\n",
              "                nan, 0.92778654, 0.92920038, 0.92906988, 0.93029953,\n",
              "         0.93011512,        nan, 0.92804497, 0.92901006, 0.93024707,\n",
              "         0.9297852 , 0.92941096,        nan, 0.92798138, 0.92809664,\n",
              "         0.93011065, 0.93067896, 0.92978208,        nan, 0.92832894,\n",
              "         0.92866048, 0.93044437, 0.93004582, 0.92960665,        nan,\n",
              "         0.93013458, 0.93025752, 0.93247239, 0.93085678, 0.93066146,\n",
              "                nan, 0.93062337, 0.9294928 , 0.93196183, 0.93073734,\n",
              "         0.93013562,        nan, 0.93063016, 0.9305962 , 0.93145364,\n",
              "         0.93190124, 0.92977864,        nan, 0.9301635 , 0.93179192,\n",
              "         0.93197051, 0.9319023 , 0.92930267,        nan, 0.9307714 ,\n",
              "         0.93110185, 0.93227914, 0.93082369, 0.92936438,        nan,\n",
              "         0.93120963, 0.93049075, 0.93213497, 0.93216027, 0.93092694,\n",
              "                nan, 0.93224724, 0.93153215, 0.93240631, 0.93193601,\n",
              "         0.93120527,        nan, 0.93185361, 0.93097599, 0.93212664,\n",
              "         0.93150012, 0.93160728,        nan, 0.93057499, 0.93088621,\n",
              "         0.93240231, 0.93203713, 0.93252772,        nan, 0.93161486,\n",
              "         0.932379  , 0.93224157, 0.93203024, 0.93130886,        nan,\n",
              "         0.93293097, 0.93385773, 0.9317588 , 0.9322737 , 0.93077047,\n",
              "                nan, 0.9332345 , 0.93246845, 0.93205528, 0.93224279,\n",
              "         0.93136049,        nan, 0.93238388, 0.93266132, 0.93230709,\n",
              "         0.9323851 , 0.93222216,        nan, 0.93302052, 0.93247741,\n",
              "         0.93311217, 0.93172255, 0.93044801,        nan, 0.93249509,\n",
              "         0.93248828, 0.93234559, 0.93227501, 0.93012362,        nan,\n",
              "                nan,        nan,        nan,        nan,        nan,\n",
              "                nan,        nan,        nan,        nan,        nan,\n",
              "                nan,        nan,        nan,        nan,        nan,\n",
              "                nan,        nan,        nan,        nan,        nan,\n",
              "                nan,        nan,        nan,        nan,        nan,\n",
              "                nan,        nan,        nan,        nan,        nan]),\n",
              "  'param_colsample_bytree': masked_array(data=[0.6, 0.6, 0.6, 0.6, 0.6, 0.6, 0.6, 0.6, 0.6, 0.6, 0.6,\n",
              "                     0.6, 0.6, 0.6, 0.6, 0.6, 0.6, 0.6, 0.6, 0.6, 0.6, 0.6,\n",
              "                     0.6, 0.6, 0.6, 0.6, 0.6, 0.6, 0.6, 0.6, 0.7, 0.7, 0.7,\n",
              "                     0.7, 0.7, 0.7, 0.7, 0.7, 0.7, 0.7, 0.7, 0.7, 0.7, 0.7,\n",
              "                     0.7, 0.7, 0.7, 0.7, 0.7, 0.7, 0.7, 0.7, 0.7, 0.7, 0.7,\n",
              "                     0.7, 0.7, 0.7, 0.7, 0.7, 0.8, 0.8, 0.8, 0.8, 0.8, 0.8,\n",
              "                     0.8, 0.8, 0.8, 0.8, 0.8, 0.8, 0.8, 0.8, 0.8, 0.8, 0.8,\n",
              "                     0.8, 0.8, 0.8, 0.8, 0.8, 0.8, 0.8, 0.8, 0.8, 0.8, 0.8,\n",
              "                     0.8, 0.8, 0.9, 0.9, 0.9, 0.9, 0.9, 0.9, 0.9, 0.9, 0.9,\n",
              "                     0.9, 0.9, 0.9, 0.9, 0.9, 0.9, 0.9, 0.9, 0.9, 0.9, 0.9,\n",
              "                     0.9, 0.9, 0.9, 0.9, 0.9, 0.9, 0.9, 0.9, 0.9, 0.9, 1.0,\n",
              "                     1.0, 1.0, 1.0, 1.0, 1.0, 1.0, 1.0, 1.0, 1.0, 1.0, 1.0,\n",
              "                     1.0, 1.0, 1.0, 1.0, 1.0, 1.0, 1.0, 1.0, 1.0, 1.0, 1.0,\n",
              "                     1.0, 1.0, 1.0, 1.0, 1.0, 1.0, 1.0, 1.1, 1.1, 1.1, 1.1,\n",
              "                     1.1, 1.1, 1.1, 1.1, 1.1, 1.1, 1.1, 1.1, 1.1, 1.1, 1.1,\n",
              "                     1.1, 1.1, 1.1, 1.1, 1.1, 1.1, 1.1, 1.1, 1.1, 1.1, 1.1,\n",
              "                     1.1, 1.1, 1.1, 1.1],\n",
              "               mask=[False, False, False, False, False, False, False, False,\n",
              "                     False, False, False, False, False, False, False, False,\n",
              "                     False, False, False, False, False, False, False, False,\n",
              "                     False, False, False, False, False, False, False, False,\n",
              "                     False, False, False, False, False, False, False, False,\n",
              "                     False, False, False, False, False, False, False, False,\n",
              "                     False, False, False, False, False, False, False, False,\n",
              "                     False, False, False, False, False, False, False, False,\n",
              "                     False, False, False, False, False, False, False, False,\n",
              "                     False, False, False, False, False, False, False, False,\n",
              "                     False, False, False, False, False, False, False, False,\n",
              "                     False, False, False, False, False, False, False, False,\n",
              "                     False, False, False, False, False, False, False, False,\n",
              "                     False, False, False, False, False, False, False, False,\n",
              "                     False, False, False, False, False, False, False, False,\n",
              "                     False, False, False, False, False, False, False, False,\n",
              "                     False, False, False, False, False, False, False, False,\n",
              "                     False, False, False, False, False, False, False, False,\n",
              "                     False, False, False, False, False, False, False, False,\n",
              "                     False, False, False, False, False, False, False, False,\n",
              "                     False, False, False, False, False, False, False, False,\n",
              "                     False, False, False, False, False, False, False, False,\n",
              "                     False, False, False, False],\n",
              "         fill_value='?',\n",
              "              dtype=object),\n",
              "  'param_gamma': masked_array(data=[0.0, 0.0, 0.0, 0.0, 0.0, 0.0, 0.1, 0.1, 0.1, 0.1, 0.1,\n",
              "                     0.1, 0.2, 0.2, 0.2, 0.2, 0.2, 0.2, 0.3, 0.3, 0.3, 0.3,\n",
              "                     0.3, 0.3, 0.4, 0.4, 0.4, 0.4, 0.4, 0.4, 0.0, 0.0, 0.0,\n",
              "                     0.0, 0.0, 0.0, 0.1, 0.1, 0.1, 0.1, 0.1, 0.1, 0.2, 0.2,\n",
              "                     0.2, 0.2, 0.2, 0.2, 0.3, 0.3, 0.3, 0.3, 0.3, 0.3, 0.4,\n",
              "                     0.4, 0.4, 0.4, 0.4, 0.4, 0.0, 0.0, 0.0, 0.0, 0.0, 0.0,\n",
              "                     0.1, 0.1, 0.1, 0.1, 0.1, 0.1, 0.2, 0.2, 0.2, 0.2, 0.2,\n",
              "                     0.2, 0.3, 0.3, 0.3, 0.3, 0.3, 0.3, 0.4, 0.4, 0.4, 0.4,\n",
              "                     0.4, 0.4, 0.0, 0.0, 0.0, 0.0, 0.0, 0.0, 0.1, 0.1, 0.1,\n",
              "                     0.1, 0.1, 0.1, 0.2, 0.2, 0.2, 0.2, 0.2, 0.2, 0.3, 0.3,\n",
              "                     0.3, 0.3, 0.3, 0.3, 0.4, 0.4, 0.4, 0.4, 0.4, 0.4, 0.0,\n",
              "                     0.0, 0.0, 0.0, 0.0, 0.0, 0.1, 0.1, 0.1, 0.1, 0.1, 0.1,\n",
              "                     0.2, 0.2, 0.2, 0.2, 0.2, 0.2, 0.3, 0.3, 0.3, 0.3, 0.3,\n",
              "                     0.3, 0.4, 0.4, 0.4, 0.4, 0.4, 0.4, 0.0, 0.0, 0.0, 0.0,\n",
              "                     0.0, 0.0, 0.1, 0.1, 0.1, 0.1, 0.1, 0.1, 0.2, 0.2, 0.2,\n",
              "                     0.2, 0.2, 0.2, 0.3, 0.3, 0.3, 0.3, 0.3, 0.3, 0.4, 0.4,\n",
              "                     0.4, 0.4, 0.4, 0.4],\n",
              "               mask=[False, False, False, False, False, False, False, False,\n",
              "                     False, False, False, False, False, False, False, False,\n",
              "                     False, False, False, False, False, False, False, False,\n",
              "                     False, False, False, False, False, False, False, False,\n",
              "                     False, False, False, False, False, False, False, False,\n",
              "                     False, False, False, False, False, False, False, False,\n",
              "                     False, False, False, False, False, False, False, False,\n",
              "                     False, False, False, False, False, False, False, False,\n",
              "                     False, False, False, False, False, False, False, False,\n",
              "                     False, False, False, False, False, False, False, False,\n",
              "                     False, False, False, False, False, False, False, False,\n",
              "                     False, False, False, False, False, False, False, False,\n",
              "                     False, False, False, False, False, False, False, False,\n",
              "                     False, False, False, False, False, False, False, False,\n",
              "                     False, False, False, False, False, False, False, False,\n",
              "                     False, False, False, False, False, False, False, False,\n",
              "                     False, False, False, False, False, False, False, False,\n",
              "                     False, False, False, False, False, False, False, False,\n",
              "                     False, False, False, False, False, False, False, False,\n",
              "                     False, False, False, False, False, False, False, False,\n",
              "                     False, False, False, False, False, False, False, False,\n",
              "                     False, False, False, False, False, False, False, False,\n",
              "                     False, False, False, False],\n",
              "         fill_value='?',\n",
              "              dtype=object),\n",
              "  'param_subsample': masked_array(data=[0.6, 0.7, 0.8, 0.9, 1.0, 1.1, 0.6, 0.7, 0.8, 0.9, 1.0,\n",
              "                     1.1, 0.6, 0.7, 0.8, 0.9, 1.0, 1.1, 0.6, 0.7, 0.8, 0.9,\n",
              "                     1.0, 1.1, 0.6, 0.7, 0.8, 0.9, 1.0, 1.1, 0.6, 0.7, 0.8,\n",
              "                     0.9, 1.0, 1.1, 0.6, 0.7, 0.8, 0.9, 1.0, 1.1, 0.6, 0.7,\n",
              "                     0.8, 0.9, 1.0, 1.1, 0.6, 0.7, 0.8, 0.9, 1.0, 1.1, 0.6,\n",
              "                     0.7, 0.8, 0.9, 1.0, 1.1, 0.6, 0.7, 0.8, 0.9, 1.0, 1.1,\n",
              "                     0.6, 0.7, 0.8, 0.9, 1.0, 1.1, 0.6, 0.7, 0.8, 0.9, 1.0,\n",
              "                     1.1, 0.6, 0.7, 0.8, 0.9, 1.0, 1.1, 0.6, 0.7, 0.8, 0.9,\n",
              "                     1.0, 1.1, 0.6, 0.7, 0.8, 0.9, 1.0, 1.1, 0.6, 0.7, 0.8,\n",
              "                     0.9, 1.0, 1.1, 0.6, 0.7, 0.8, 0.9, 1.0, 1.1, 0.6, 0.7,\n",
              "                     0.8, 0.9, 1.0, 1.1, 0.6, 0.7, 0.8, 0.9, 1.0, 1.1, 0.6,\n",
              "                     0.7, 0.8, 0.9, 1.0, 1.1, 0.6, 0.7, 0.8, 0.9, 1.0, 1.1,\n",
              "                     0.6, 0.7, 0.8, 0.9, 1.0, 1.1, 0.6, 0.7, 0.8, 0.9, 1.0,\n",
              "                     1.1, 0.6, 0.7, 0.8, 0.9, 1.0, 1.1, 0.6, 0.7, 0.8, 0.9,\n",
              "                     1.0, 1.1, 0.6, 0.7, 0.8, 0.9, 1.0, 1.1, 0.6, 0.7, 0.8,\n",
              "                     0.9, 1.0, 1.1, 0.6, 0.7, 0.8, 0.9, 1.0, 1.1, 0.6, 0.7,\n",
              "                     0.8, 0.9, 1.0, 1.1],\n",
              "               mask=[False, False, False, False, False, False, False, False,\n",
              "                     False, False, False, False, False, False, False, False,\n",
              "                     False, False, False, False, False, False, False, False,\n",
              "                     False, False, False, False, False, False, False, False,\n",
              "                     False, False, False, False, False, False, False, False,\n",
              "                     False, False, False, False, False, False, False, False,\n",
              "                     False, False, False, False, False, False, False, False,\n",
              "                     False, False, False, False, False, False, False, False,\n",
              "                     False, False, False, False, False, False, False, False,\n",
              "                     False, False, False, False, False, False, False, False,\n",
              "                     False, False, False, False, False, False, False, False,\n",
              "                     False, False, False, False, False, False, False, False,\n",
              "                     False, False, False, False, False, False, False, False,\n",
              "                     False, False, False, False, False, False, False, False,\n",
              "                     False, False, False, False, False, False, False, False,\n",
              "                     False, False, False, False, False, False, False, False,\n",
              "                     False, False, False, False, False, False, False, False,\n",
              "                     False, False, False, False, False, False, False, False,\n",
              "                     False, False, False, False, False, False, False, False,\n",
              "                     False, False, False, False, False, False, False, False,\n",
              "                     False, False, False, False, False, False, False, False,\n",
              "                     False, False, False, False, False, False, False, False,\n",
              "                     False, False, False, False],\n",
              "         fill_value='?',\n",
              "              dtype=object),\n",
              "  'params': [{'colsample_bytree': 0.6, 'gamma': 0.0, 'subsample': 0.6},\n",
              "   {'colsample_bytree': 0.6, 'gamma': 0.0, 'subsample': 0.7},\n",
              "   {'colsample_bytree': 0.6, 'gamma': 0.0, 'subsample': 0.8},\n",
              "   {'colsample_bytree': 0.6, 'gamma': 0.0, 'subsample': 0.9},\n",
              "   {'colsample_bytree': 0.6, 'gamma': 0.0, 'subsample': 1.0},\n",
              "   {'colsample_bytree': 0.6, 'gamma': 0.0, 'subsample': 1.1},\n",
              "   {'colsample_bytree': 0.6, 'gamma': 0.1, 'subsample': 0.6},\n",
              "   {'colsample_bytree': 0.6, 'gamma': 0.1, 'subsample': 0.7},\n",
              "   {'colsample_bytree': 0.6, 'gamma': 0.1, 'subsample': 0.8},\n",
              "   {'colsample_bytree': 0.6, 'gamma': 0.1, 'subsample': 0.9},\n",
              "   {'colsample_bytree': 0.6, 'gamma': 0.1, 'subsample': 1.0},\n",
              "   {'colsample_bytree': 0.6, 'gamma': 0.1, 'subsample': 1.1},\n",
              "   {'colsample_bytree': 0.6, 'gamma': 0.2, 'subsample': 0.6},\n",
              "   {'colsample_bytree': 0.6, 'gamma': 0.2, 'subsample': 0.7},\n",
              "   {'colsample_bytree': 0.6, 'gamma': 0.2, 'subsample': 0.8},\n",
              "   {'colsample_bytree': 0.6, 'gamma': 0.2, 'subsample': 0.9},\n",
              "   {'colsample_bytree': 0.6, 'gamma': 0.2, 'subsample': 1.0},\n",
              "   {'colsample_bytree': 0.6, 'gamma': 0.2, 'subsample': 1.1},\n",
              "   {'colsample_bytree': 0.6, 'gamma': 0.3, 'subsample': 0.6},\n",
              "   {'colsample_bytree': 0.6, 'gamma': 0.3, 'subsample': 0.7},\n",
              "   {'colsample_bytree': 0.6, 'gamma': 0.3, 'subsample': 0.8},\n",
              "   {'colsample_bytree': 0.6, 'gamma': 0.3, 'subsample': 0.9},\n",
              "   {'colsample_bytree': 0.6, 'gamma': 0.3, 'subsample': 1.0},\n",
              "   {'colsample_bytree': 0.6, 'gamma': 0.3, 'subsample': 1.1},\n",
              "   {'colsample_bytree': 0.6, 'gamma': 0.4, 'subsample': 0.6},\n",
              "   {'colsample_bytree': 0.6, 'gamma': 0.4, 'subsample': 0.7},\n",
              "   {'colsample_bytree': 0.6, 'gamma': 0.4, 'subsample': 0.8},\n",
              "   {'colsample_bytree': 0.6, 'gamma': 0.4, 'subsample': 0.9},\n",
              "   {'colsample_bytree': 0.6, 'gamma': 0.4, 'subsample': 1.0},\n",
              "   {'colsample_bytree': 0.6, 'gamma': 0.4, 'subsample': 1.1},\n",
              "   {'colsample_bytree': 0.7, 'gamma': 0.0, 'subsample': 0.6},\n",
              "   {'colsample_bytree': 0.7, 'gamma': 0.0, 'subsample': 0.7},\n",
              "   {'colsample_bytree': 0.7, 'gamma': 0.0, 'subsample': 0.8},\n",
              "   {'colsample_bytree': 0.7, 'gamma': 0.0, 'subsample': 0.9},\n",
              "   {'colsample_bytree': 0.7, 'gamma': 0.0, 'subsample': 1.0},\n",
              "   {'colsample_bytree': 0.7, 'gamma': 0.0, 'subsample': 1.1},\n",
              "   {'colsample_bytree': 0.7, 'gamma': 0.1, 'subsample': 0.6},\n",
              "   {'colsample_bytree': 0.7, 'gamma': 0.1, 'subsample': 0.7},\n",
              "   {'colsample_bytree': 0.7, 'gamma': 0.1, 'subsample': 0.8},\n",
              "   {'colsample_bytree': 0.7, 'gamma': 0.1, 'subsample': 0.9},\n",
              "   {'colsample_bytree': 0.7, 'gamma': 0.1, 'subsample': 1.0},\n",
              "   {'colsample_bytree': 0.7, 'gamma': 0.1, 'subsample': 1.1},\n",
              "   {'colsample_bytree': 0.7, 'gamma': 0.2, 'subsample': 0.6},\n",
              "   {'colsample_bytree': 0.7, 'gamma': 0.2, 'subsample': 0.7},\n",
              "   {'colsample_bytree': 0.7, 'gamma': 0.2, 'subsample': 0.8},\n",
              "   {'colsample_bytree': 0.7, 'gamma': 0.2, 'subsample': 0.9},\n",
              "   {'colsample_bytree': 0.7, 'gamma': 0.2, 'subsample': 1.0},\n",
              "   {'colsample_bytree': 0.7, 'gamma': 0.2, 'subsample': 1.1},\n",
              "   {'colsample_bytree': 0.7, 'gamma': 0.3, 'subsample': 0.6},\n",
              "   {'colsample_bytree': 0.7, 'gamma': 0.3, 'subsample': 0.7},\n",
              "   {'colsample_bytree': 0.7, 'gamma': 0.3, 'subsample': 0.8},\n",
              "   {'colsample_bytree': 0.7, 'gamma': 0.3, 'subsample': 0.9},\n",
              "   {'colsample_bytree': 0.7, 'gamma': 0.3, 'subsample': 1.0},\n",
              "   {'colsample_bytree': 0.7, 'gamma': 0.3, 'subsample': 1.1},\n",
              "   {'colsample_bytree': 0.7, 'gamma': 0.4, 'subsample': 0.6},\n",
              "   {'colsample_bytree': 0.7, 'gamma': 0.4, 'subsample': 0.7},\n",
              "   {'colsample_bytree': 0.7, 'gamma': 0.4, 'subsample': 0.8},\n",
              "   {'colsample_bytree': 0.7, 'gamma': 0.4, 'subsample': 0.9},\n",
              "   {'colsample_bytree': 0.7, 'gamma': 0.4, 'subsample': 1.0},\n",
              "   {'colsample_bytree': 0.7, 'gamma': 0.4, 'subsample': 1.1},\n",
              "   {'colsample_bytree': 0.8, 'gamma': 0.0, 'subsample': 0.6},\n",
              "   {'colsample_bytree': 0.8, 'gamma': 0.0, 'subsample': 0.7},\n",
              "   {'colsample_bytree': 0.8, 'gamma': 0.0, 'subsample': 0.8},\n",
              "   {'colsample_bytree': 0.8, 'gamma': 0.0, 'subsample': 0.9},\n",
              "   {'colsample_bytree': 0.8, 'gamma': 0.0, 'subsample': 1.0},\n",
              "   {'colsample_bytree': 0.8, 'gamma': 0.0, 'subsample': 1.1},\n",
              "   {'colsample_bytree': 0.8, 'gamma': 0.1, 'subsample': 0.6},\n",
              "   {'colsample_bytree': 0.8, 'gamma': 0.1, 'subsample': 0.7},\n",
              "   {'colsample_bytree': 0.8, 'gamma': 0.1, 'subsample': 0.8},\n",
              "   {'colsample_bytree': 0.8, 'gamma': 0.1, 'subsample': 0.9},\n",
              "   {'colsample_bytree': 0.8, 'gamma': 0.1, 'subsample': 1.0},\n",
              "   {'colsample_bytree': 0.8, 'gamma': 0.1, 'subsample': 1.1},\n",
              "   {'colsample_bytree': 0.8, 'gamma': 0.2, 'subsample': 0.6},\n",
              "   {'colsample_bytree': 0.8, 'gamma': 0.2, 'subsample': 0.7},\n",
              "   {'colsample_bytree': 0.8, 'gamma': 0.2, 'subsample': 0.8},\n",
              "   {'colsample_bytree': 0.8, 'gamma': 0.2, 'subsample': 0.9},\n",
              "   {'colsample_bytree': 0.8, 'gamma': 0.2, 'subsample': 1.0},\n",
              "   {'colsample_bytree': 0.8, 'gamma': 0.2, 'subsample': 1.1},\n",
              "   {'colsample_bytree': 0.8, 'gamma': 0.3, 'subsample': 0.6},\n",
              "   {'colsample_bytree': 0.8, 'gamma': 0.3, 'subsample': 0.7},\n",
              "   {'colsample_bytree': 0.8, 'gamma': 0.3, 'subsample': 0.8},\n",
              "   {'colsample_bytree': 0.8, 'gamma': 0.3, 'subsample': 0.9},\n",
              "   {'colsample_bytree': 0.8, 'gamma': 0.3, 'subsample': 1.0},\n",
              "   {'colsample_bytree': 0.8, 'gamma': 0.3, 'subsample': 1.1},\n",
              "   {'colsample_bytree': 0.8, 'gamma': 0.4, 'subsample': 0.6},\n",
              "   {'colsample_bytree': 0.8, 'gamma': 0.4, 'subsample': 0.7},\n",
              "   {'colsample_bytree': 0.8, 'gamma': 0.4, 'subsample': 0.8},\n",
              "   {'colsample_bytree': 0.8, 'gamma': 0.4, 'subsample': 0.9},\n",
              "   {'colsample_bytree': 0.8, 'gamma': 0.4, 'subsample': 1.0},\n",
              "   {'colsample_bytree': 0.8, 'gamma': 0.4, 'subsample': 1.1},\n",
              "   {'colsample_bytree': 0.9, 'gamma': 0.0, 'subsample': 0.6},\n",
              "   {'colsample_bytree': 0.9, 'gamma': 0.0, 'subsample': 0.7},\n",
              "   {'colsample_bytree': 0.9, 'gamma': 0.0, 'subsample': 0.8},\n",
              "   {'colsample_bytree': 0.9, 'gamma': 0.0, 'subsample': 0.9},\n",
              "   {'colsample_bytree': 0.9, 'gamma': 0.0, 'subsample': 1.0},\n",
              "   {'colsample_bytree': 0.9, 'gamma': 0.0, 'subsample': 1.1},\n",
              "   {'colsample_bytree': 0.9, 'gamma': 0.1, 'subsample': 0.6},\n",
              "   {'colsample_bytree': 0.9, 'gamma': 0.1, 'subsample': 0.7},\n",
              "   {'colsample_bytree': 0.9, 'gamma': 0.1, 'subsample': 0.8},\n",
              "   {'colsample_bytree': 0.9, 'gamma': 0.1, 'subsample': 0.9},\n",
              "   {'colsample_bytree': 0.9, 'gamma': 0.1, 'subsample': 1.0},\n",
              "   {'colsample_bytree': 0.9, 'gamma': 0.1, 'subsample': 1.1},\n",
              "   {'colsample_bytree': 0.9, 'gamma': 0.2, 'subsample': 0.6},\n",
              "   {'colsample_bytree': 0.9, 'gamma': 0.2, 'subsample': 0.7},\n",
              "   {'colsample_bytree': 0.9, 'gamma': 0.2, 'subsample': 0.8},\n",
              "   {'colsample_bytree': 0.9, 'gamma': 0.2, 'subsample': 0.9},\n",
              "   {'colsample_bytree': 0.9, 'gamma': 0.2, 'subsample': 1.0},\n",
              "   {'colsample_bytree': 0.9, 'gamma': 0.2, 'subsample': 1.1},\n",
              "   {'colsample_bytree': 0.9, 'gamma': 0.3, 'subsample': 0.6},\n",
              "   {'colsample_bytree': 0.9, 'gamma': 0.3, 'subsample': 0.7},\n",
              "   {'colsample_bytree': 0.9, 'gamma': 0.3, 'subsample': 0.8},\n",
              "   {'colsample_bytree': 0.9, 'gamma': 0.3, 'subsample': 0.9},\n",
              "   {'colsample_bytree': 0.9, 'gamma': 0.3, 'subsample': 1.0},\n",
              "   {'colsample_bytree': 0.9, 'gamma': 0.3, 'subsample': 1.1},\n",
              "   {'colsample_bytree': 0.9, 'gamma': 0.4, 'subsample': 0.6},\n",
              "   {'colsample_bytree': 0.9, 'gamma': 0.4, 'subsample': 0.7},\n",
              "   {'colsample_bytree': 0.9, 'gamma': 0.4, 'subsample': 0.8},\n",
              "   {'colsample_bytree': 0.9, 'gamma': 0.4, 'subsample': 0.9},\n",
              "   {'colsample_bytree': 0.9, 'gamma': 0.4, 'subsample': 1.0},\n",
              "   {'colsample_bytree': 0.9, 'gamma': 0.4, 'subsample': 1.1},\n",
              "   {'colsample_bytree': 1.0, 'gamma': 0.0, 'subsample': 0.6},\n",
              "   {'colsample_bytree': 1.0, 'gamma': 0.0, 'subsample': 0.7},\n",
              "   {'colsample_bytree': 1.0, 'gamma': 0.0, 'subsample': 0.8},\n",
              "   {'colsample_bytree': 1.0, 'gamma': 0.0, 'subsample': 0.9},\n",
              "   {'colsample_bytree': 1.0, 'gamma': 0.0, 'subsample': 1.0},\n",
              "   {'colsample_bytree': 1.0, 'gamma': 0.0, 'subsample': 1.1},\n",
              "   {'colsample_bytree': 1.0, 'gamma': 0.1, 'subsample': 0.6},\n",
              "   {'colsample_bytree': 1.0, 'gamma': 0.1, 'subsample': 0.7},\n",
              "   {'colsample_bytree': 1.0, 'gamma': 0.1, 'subsample': 0.8},\n",
              "   {'colsample_bytree': 1.0, 'gamma': 0.1, 'subsample': 0.9},\n",
              "   {'colsample_bytree': 1.0, 'gamma': 0.1, 'subsample': 1.0},\n",
              "   {'colsample_bytree': 1.0, 'gamma': 0.1, 'subsample': 1.1},\n",
              "   {'colsample_bytree': 1.0, 'gamma': 0.2, 'subsample': 0.6},\n",
              "   {'colsample_bytree': 1.0, 'gamma': 0.2, 'subsample': 0.7},\n",
              "   {'colsample_bytree': 1.0, 'gamma': 0.2, 'subsample': 0.8},\n",
              "   {'colsample_bytree': 1.0, 'gamma': 0.2, 'subsample': 0.9},\n",
              "   {'colsample_bytree': 1.0, 'gamma': 0.2, 'subsample': 1.0},\n",
              "   {'colsample_bytree': 1.0, 'gamma': 0.2, 'subsample': 1.1},\n",
              "   {'colsample_bytree': 1.0, 'gamma': 0.3, 'subsample': 0.6},\n",
              "   {'colsample_bytree': 1.0, 'gamma': 0.3, 'subsample': 0.7},\n",
              "   {'colsample_bytree': 1.0, 'gamma': 0.3, 'subsample': 0.8},\n",
              "   {'colsample_bytree': 1.0, 'gamma': 0.3, 'subsample': 0.9},\n",
              "   {'colsample_bytree': 1.0, 'gamma': 0.3, 'subsample': 1.0},\n",
              "   {'colsample_bytree': 1.0, 'gamma': 0.3, 'subsample': 1.1},\n",
              "   {'colsample_bytree': 1.0, 'gamma': 0.4, 'subsample': 0.6},\n",
              "   {'colsample_bytree': 1.0, 'gamma': 0.4, 'subsample': 0.7},\n",
              "   {'colsample_bytree': 1.0, 'gamma': 0.4, 'subsample': 0.8},\n",
              "   {'colsample_bytree': 1.0, 'gamma': 0.4, 'subsample': 0.9},\n",
              "   {'colsample_bytree': 1.0, 'gamma': 0.4, 'subsample': 1.0},\n",
              "   {'colsample_bytree': 1.0, 'gamma': 0.4, 'subsample': 1.1},\n",
              "   {'colsample_bytree': 1.1, 'gamma': 0.0, 'subsample': 0.6},\n",
              "   {'colsample_bytree': 1.1, 'gamma': 0.0, 'subsample': 0.7},\n",
              "   {'colsample_bytree': 1.1, 'gamma': 0.0, 'subsample': 0.8},\n",
              "   {'colsample_bytree': 1.1, 'gamma': 0.0, 'subsample': 0.9},\n",
              "   {'colsample_bytree': 1.1, 'gamma': 0.0, 'subsample': 1.0},\n",
              "   {'colsample_bytree': 1.1, 'gamma': 0.0, 'subsample': 1.1},\n",
              "   {'colsample_bytree': 1.1, 'gamma': 0.1, 'subsample': 0.6},\n",
              "   {'colsample_bytree': 1.1, 'gamma': 0.1, 'subsample': 0.7},\n",
              "   {'colsample_bytree': 1.1, 'gamma': 0.1, 'subsample': 0.8},\n",
              "   {'colsample_bytree': 1.1, 'gamma': 0.1, 'subsample': 0.9},\n",
              "   {'colsample_bytree': 1.1, 'gamma': 0.1, 'subsample': 1.0},\n",
              "   {'colsample_bytree': 1.1, 'gamma': 0.1, 'subsample': 1.1},\n",
              "   {'colsample_bytree': 1.1, 'gamma': 0.2, 'subsample': 0.6},\n",
              "   {'colsample_bytree': 1.1, 'gamma': 0.2, 'subsample': 0.7},\n",
              "   {'colsample_bytree': 1.1, 'gamma': 0.2, 'subsample': 0.8},\n",
              "   {'colsample_bytree': 1.1, 'gamma': 0.2, 'subsample': 0.9},\n",
              "   {'colsample_bytree': 1.1, 'gamma': 0.2, 'subsample': 1.0},\n",
              "   {'colsample_bytree': 1.1, 'gamma': 0.2, 'subsample': 1.1},\n",
              "   {'colsample_bytree': 1.1, 'gamma': 0.3, 'subsample': 0.6},\n",
              "   {'colsample_bytree': 1.1, 'gamma': 0.3, 'subsample': 0.7},\n",
              "   {'colsample_bytree': 1.1, 'gamma': 0.3, 'subsample': 0.8},\n",
              "   {'colsample_bytree': 1.1, 'gamma': 0.3, 'subsample': 0.9},\n",
              "   {'colsample_bytree': 1.1, 'gamma': 0.3, 'subsample': 1.0},\n",
              "   {'colsample_bytree': 1.1, 'gamma': 0.3, 'subsample': 1.1},\n",
              "   {'colsample_bytree': 1.1, 'gamma': 0.4, 'subsample': 0.6},\n",
              "   {'colsample_bytree': 1.1, 'gamma': 0.4, 'subsample': 0.7},\n",
              "   {'colsample_bytree': 1.1, 'gamma': 0.4, 'subsample': 0.8},\n",
              "   {'colsample_bytree': 1.1, 'gamma': 0.4, 'subsample': 0.9},\n",
              "   {'colsample_bytree': 1.1, 'gamma': 0.4, 'subsample': 1.0},\n",
              "   {'colsample_bytree': 1.1, 'gamma': 0.4, 'subsample': 1.1}],\n",
              "  'rank_test_score': array([112, 108,  86,  96, 122, 154, 124, 102, 104,  71,  80, 155, 118,\n",
              "         106,  74,  88,  98, 156, 120, 116,  82,  60,  90, 157, 114, 110,\n",
              "          69,  84,  93, 158, 112, 108,  86,  96, 122, 159, 124, 102, 104,\n",
              "          71,  80, 160, 118, 106,  74,  88,  98, 161, 120, 116,  82,  60,\n",
              "          90, 162, 114, 110,  69,  84,  93, 163,  78,  73,  11,  55,  62,\n",
              "         164,  64,  95,  34,  59,  77, 165,  63,  65,  46,  37,  92, 166,\n",
              "          76,  39,  33,  36, 101, 167,  57,  51,  20,  56, 100, 152,  49,\n",
              "          67,  28,  27,  53, 169,  23,  44,  13,  35,  50, 170,  38,  52,\n",
              "          29,  45,  43, 171,  66,  54,  14,  31,   7, 172,  42,  17,  25,\n",
              "          32,  48, 173,   5,   1,  40,  22,  58, 174,   2,  12,  30,  24,\n",
              "          47, 175,  16,   6,  19,  15,  26, 176,   4,  10,   3,  41,  68,\n",
              "         177,   8,   9,  18,  21,  79, 178, 153, 179, 151, 141, 129, 132,\n",
              "         134, 147, 143, 136, 135, 127, 137, 138, 139, 140, 150, 144, 145,\n",
              "         146, 148, 149, 142, 126, 133, 128, 130, 131, 168, 180], dtype=int32),\n",
              "  'split0_test_score': array([0.94143541, 0.94121886, 0.9440145 , 0.94166735, 0.93434781,\n",
              "                nan, 0.94211583, 0.94233712, 0.94447541, 0.9410597 ,\n",
              "         0.93856345,        nan, 0.94407958, 0.94062246, 0.94395237,\n",
              "         0.94124845, 0.93964976,        nan, 0.94380209, 0.93974206,\n",
              "         0.94472864, 0.94261165, 0.9394054 ,        nan, 0.94246078,\n",
              "         0.9389575 , 0.94414467, 0.94128927, 0.93989944,        nan,\n",
              "         0.94143541, 0.94121886, 0.9440145 , 0.94166735, 0.93434781,\n",
              "                nan, 0.94211583, 0.94233712, 0.94447541, 0.9410597 ,\n",
              "         0.93856345,        nan, 0.94407958, 0.94062246, 0.94395237,\n",
              "         0.94124845, 0.93964976,        nan, 0.94380209, 0.93974206,\n",
              "         0.94472864, 0.94261165, 0.9394054 ,        nan, 0.94246078,\n",
              "         0.9389575 , 0.94414467, 0.94128927, 0.93989944,        nan,\n",
              "         0.94369145, 0.94415058, 0.94645454, 0.94440677, 0.9409319 ,\n",
              "                nan, 0.94312167, 0.94382457, 0.94601256, 0.94410739,\n",
              "         0.93782505,        nan, 0.94386007, 0.94417602, 0.94458191,\n",
              "         0.94422158, 0.94007753,        nan, 0.94432157, 0.94547415,\n",
              "         0.94483692, 0.94363287, 0.9413656 ,        nan, 0.94384114,\n",
              "         0.94304771, 0.94550669, 0.94482035, 0.94126087,        nan,\n",
              "         0.94385297, 0.94411804, 0.94657228, 0.94394231, 0.94207087,\n",
              "                nan, 0.94553568, 0.94477361, 0.9458682 , 0.94335005,\n",
              "         0.94167504,        nan, 0.9442985 , 0.94489076, 0.94603801,\n",
              "         0.9435098 , 0.9419265 ,        nan, 0.94242823, 0.94548243,\n",
              "         0.94556526, 0.94396657, 0.94167977,        nan, 0.94245841,\n",
              "         0.94498543, 0.94499726, 0.94374292, 0.93816348,        nan,\n",
              "         0.94473574, 0.94724442, 0.94460913, 0.94568656, 0.93925275,\n",
              "                nan, 0.94816092, 0.94422691, 0.94315835, 0.94395178,\n",
              "         0.94059169,        nan, 0.94565165, 0.94407544, 0.94306132,\n",
              "         0.94342934, 0.9437376 ,        nan, 0.94787041, 0.9455268 ,\n",
              "         0.94549012, 0.9439648 , 0.94044673,        nan, 0.94592026,\n",
              "         0.94583329, 0.94546764, 0.94546586, 0.94095557,        nan,\n",
              "                nan,        nan,        nan,        nan,        nan,\n",
              "                nan,        nan,        nan,        nan,        nan,\n",
              "                nan,        nan,        nan,        nan,        nan,\n",
              "                nan,        nan,        nan,        nan,        nan,\n",
              "                nan,        nan,        nan,        nan,        nan,\n",
              "                nan,        nan,        nan,        nan,        nan]),\n",
              "  'split1_test_score': array([0.91865911, 0.92071753, 0.92459829, 0.92112933, 0.92099384,\n",
              "                nan, 0.91972826, 0.92202393, 0.92283393, 0.9247042 ,\n",
              "         0.92499825,        nan, 0.91826092, 0.92343092, 0.92421903,\n",
              "         0.92405573, 0.92017793,        nan, 0.91851179, 0.92294575,\n",
              "         0.92399715, 0.92327117, 0.9213163 ,        nan, 0.91834494,\n",
              "         0.92254815, 0.92460479, 0.92395751, 0.92313982,        nan,\n",
              "         0.91865911, 0.92071753, 0.92459829, 0.92112933, 0.92099384,\n",
              "                nan, 0.91972826, 0.92202393, 0.92283393, 0.9247042 ,\n",
              "         0.92499825,        nan, 0.91826092, 0.92343092, 0.92421903,\n",
              "         0.92405573, 0.92017793,        nan, 0.91851179, 0.92294575,\n",
              "         0.92399715, 0.92327117, 0.9213163 ,        nan, 0.91834494,\n",
              "         0.92254815, 0.92460479, 0.92395751, 0.92313982,        nan,\n",
              "         0.92595143, 0.9213802 , 0.92460953, 0.92542485, 0.92656263,\n",
              "                nan, 0.92829799, 0.92051754, 0.92290315, 0.92467461,\n",
              "         0.92607628,        nan, 0.92484975, 0.92125713, 0.92306764,\n",
              "         0.9249166 , 0.92265584,        nan, 0.92502606, 0.92291913,\n",
              "         0.92404093, 0.92673658, 0.92464621,        nan, 0.92633247,\n",
              "         0.92388651, 0.92559762, 0.92665256, 0.92413323,        nan,\n",
              "         0.9254923 , 0.92381847, 0.92470183, 0.92531125, 0.92693775,\n",
              "                nan, 0.92796784, 0.92505683, 0.92587215, 0.92722589,\n",
              "         0.92553194,        nan, 0.92594433, 0.9247468 , 0.9242066 ,\n",
              "         0.92376877, 0.9254    ,        nan, 0.92651589, 0.92375397,\n",
              "         0.92624135, 0.92562542, 0.92614373,        nan, 0.92736789,\n",
              "         0.92538402, 0.92436103, 0.92715015, 0.92705135,        nan,\n",
              "         0.92706318, 0.92895652, 0.92689455, 0.92756136, 0.92835065,\n",
              "                nan, 0.92608042, 0.92833231, 0.92721642, 0.92727855,\n",
              "         0.92727973,        nan, 0.92682415, 0.92783294, 0.9258828 ,\n",
              "         0.92799328, 0.92759746,        nan, 0.92799388, 0.92702945,\n",
              "         0.92635377, 0.92721879, 0.9275945 ,        nan, 0.92542721,\n",
              "         0.92797198, 0.92596327, 0.92815126, 0.92731168,        nan,\n",
              "                nan,        nan,        nan,        nan,        nan,\n",
              "                nan,        nan,        nan,        nan,        nan,\n",
              "                nan,        nan,        nan,        nan,        nan,\n",
              "                nan,        nan,        nan,        nan,        nan,\n",
              "                nan,        nan,        nan,        nan,        nan,\n",
              "                nan,        nan,        nan,        nan,        nan]),\n",
              "  'split2_test_score': array([0.93124569, 0.93203142, 0.93384193, 0.93203438, 0.93040197,\n",
              "                nan, 0.9289512 , 0.93245861, 0.9324024 , 0.93357095,\n",
              "         0.93420522,        nan, 0.9301227 , 0.9338372 , 0.93633641,\n",
              "         0.93316388, 0.93381294,        nan, 0.92811694, 0.93242903,\n",
              "         0.93418273, 0.9333118 , 0.93134154,        nan, 0.93079779,\n",
              "         0.93538382, 0.93490516, 0.93462885, 0.92948606,        nan,\n",
              "         0.93124569, 0.93203142, 0.93384193, 0.93203438, 0.93040197,\n",
              "                nan, 0.9289512 , 0.93245861, 0.9324024 , 0.93357095,\n",
              "         0.93420522,        nan, 0.9301227 , 0.9338372 , 0.93633641,\n",
              "         0.93316388, 0.93381294,        nan, 0.92811694, 0.93242903,\n",
              "         0.93418273, 0.9333118 , 0.93134154,        nan, 0.93079779,\n",
              "         0.93538382, 0.93490516, 0.93462885, 0.92948606,        nan,\n",
              "         0.93406203, 0.93485132, 0.93696358, 0.93137822, 0.93122912,\n",
              "                nan, 0.93139834, 0.93283195, 0.93666064, 0.93422474,\n",
              "         0.9332195 ,        nan, 0.93335558, 0.93538145, 0.93817887,\n",
              "         0.93470695, 0.93326801,        nan, 0.93443478, 0.9381055 ,\n",
              "         0.93578675, 0.93438686, 0.92926892,        nan, 0.93267753,\n",
              "         0.93746295, 0.93615299, 0.93380052, 0.92848792,        nan,\n",
              "         0.93383187, 0.93326505, 0.93711623, 0.93732568, 0.93256807,\n",
              "                nan, 0.93674762, 0.93576959, 0.93603702, 0.93616246,\n",
              "         0.93287514,        nan, 0.93632576, 0.934249  , 0.9362021 ,\n",
              "         0.93792208, 0.93400227,        nan, 0.93342303, 0.9332408 ,\n",
              "         0.93572936, 0.93755998, 0.93715765,        nan, 0.93529744,\n",
              "         0.93418392, 0.9370902 , 0.93644883, 0.93352598,        nan,\n",
              "         0.93541696, 0.93587491, 0.93552346, 0.93488445, 0.93430935,\n",
              "                nan, 0.93521638, 0.93622044, 0.93501462, 0.93569918,\n",
              "         0.93411587,        nan, 0.9338585 , 0.93534477, 0.93716711,\n",
              "         0.93683223, 0.93465903,        nan, 0.9339934 , 0.93668194,\n",
              "         0.9383895 , 0.93446614, 0.93227283,        nan, 0.93414605,\n",
              "         0.93443123, 0.93678726, 0.93521697, 0.93226277,        nan,\n",
              "                nan,        nan,        nan,        nan,        nan,\n",
              "                nan,        nan,        nan,        nan,        nan,\n",
              "                nan,        nan,        nan,        nan,        nan,\n",
              "                nan,        nan,        nan,        nan,        nan,\n",
              "                nan,        nan,        nan,        nan,        nan,\n",
              "                nan,        nan,        nan,        nan,        nan]),\n",
              "  'split3_test_score': array([0.9125645 , 0.91185927, 0.90834024, 0.91255856, 0.91226293,\n",
              "                nan, 0.91133153, 0.91151437, 0.90863112, 0.91280314,\n",
              "         0.911772  ,        nan, 0.91067082, 0.90937671, 0.90842513,\n",
              "         0.91190438, 0.91096645,        nan, 0.9110923 , 0.90867386,\n",
              "         0.91032118, 0.91252888, 0.91326498,        nan, 0.9122665 ,\n",
              "         0.91033364, 0.90997568, 0.91342763, 0.91277049,        nan,\n",
              "         0.9125645 , 0.91185927, 0.90834024, 0.91255856, 0.91226293,\n",
              "                nan, 0.91133153, 0.91151437, 0.90863112, 0.91280314,\n",
              "         0.911772  ,        nan, 0.91067082, 0.90937671, 0.90842513,\n",
              "         0.91190438, 0.91096645,        nan, 0.9110923 , 0.90867386,\n",
              "         0.91032118, 0.91252888, 0.91326498,        nan, 0.9122665 ,\n",
              "         0.91033364, 0.90997568, 0.91342763, 0.91277049,        nan,\n",
              "         0.90865664, 0.91027903, 0.91239353, 0.91580037, 0.91192694,\n",
              "                nan, 0.91190794, 0.91084654, 0.9113998 , 0.91291593,\n",
              "         0.9113256 ,        nan, 0.91059484, 0.9123128 , 0.91168593,\n",
              "         0.91473777, 0.91297173,        nan, 0.90989317, 0.91054735,\n",
              "         0.91391322, 0.9154988 , 0.91194178,        nan, 0.91198927,\n",
              "         0.91154346, 0.9139334 , 0.91294264, 0.91046662,        nan,\n",
              "         0.91316584, 0.91038469, 0.91110714, 0.9150702 , 0.91242974,\n",
              "                nan, 0.91058534, 0.91159926, 0.91481672, 0.91315219,\n",
              "         0.91353805,        nan, 0.9135523 , 0.91152802, 0.91353033,\n",
              "         0.91283816, 0.91500965,        nan, 0.91100326, 0.91277227,\n",
              "         0.91314091, 0.91384852, 0.91564721,        nan, 0.913636  ,\n",
              "         0.91489864, 0.91310707, 0.91268026, 0.91560209,        nan,\n",
              "         0.91604435, 0.91555757, 0.91162419, 0.91328041, 0.91201005,\n",
              "                nan, 0.91597074, 0.91284113, 0.9139803 , 0.91517527,\n",
              "         0.91395478,        nan, 0.91432223, 0.91414889, 0.9143252 ,\n",
              "         0.91470037, 0.9152756 ,        nan, 0.91467663, 0.91139268,\n",
              "         0.91437031, 0.91247783, 0.91303584,        nan, 0.91741622,\n",
              "         0.91298954, 0.9133    , 0.91488202, 0.91172333,        nan,\n",
              "                nan,        nan,        nan,        nan,        nan,\n",
              "                nan,        nan,        nan,        nan,        nan,\n",
              "                nan,        nan,        nan,        nan,        nan,\n",
              "                nan,        nan,        nan,        nan,        nan,\n",
              "                nan,        nan,        nan,        nan,        nan,\n",
              "                nan,        nan,        nan,        nan,        nan]),\n",
              "  'split4_test_score': array([0.93781032, 0.93778301, 0.93915311, 0.93971943, 0.94116373,\n",
              "                nan, 0.9368059 , 0.93766785, 0.93700655, 0.93935969,\n",
              "         0.94103669,        nan, 0.93709084, 0.93778301, 0.93830244,\n",
              "         0.93855354, 0.94244774,        nan, 0.93838376, 0.93669252,\n",
              "         0.93732354, 0.94167128, 0.94358217,        nan, 0.9377747 ,\n",
              "         0.9360793 , 0.93859153, 0.93692581, 0.94273743,        nan,\n",
              "         0.93781032, 0.93778301, 0.93915311, 0.93971943, 0.94116373,\n",
              "                nan, 0.9368059 , 0.93766785, 0.93700655, 0.93935969,\n",
              "         0.94103669,        nan, 0.93709084, 0.93778301, 0.93830244,\n",
              "         0.93855354, 0.94244774,        nan, 0.93838376, 0.93669252,\n",
              "         0.93732354, 0.94167128, 0.94358217,        nan, 0.9377747 ,\n",
              "         0.9360793 , 0.93859153, 0.93692581, 0.94273743,        nan,\n",
              "         0.93831134, 0.94062649, 0.94194078, 0.93727368, 0.9426567 ,\n",
              "                nan, 0.93839089, 0.93944339, 0.94283301, 0.93776402,\n",
              "         0.94223166,        nan, 0.94049055, 0.93985359, 0.93975386,\n",
              "         0.94092331, 0.93992007,        nan, 0.93714189, 0.94191348,\n",
              "         0.94127473, 0.9392564 , 0.93929083,        nan, 0.93901657,\n",
              "         0.93956865, 0.94020502, 0.9359024 , 0.94247327,        nan,\n",
              "         0.93970518, 0.9408675 , 0.94117738, 0.93915192, 0.94062827,\n",
              "                nan, 0.94039973, 0.94046146, 0.93943745, 0.93978948,\n",
              "         0.94240619,        nan, 0.93914717, 0.93946535, 0.94065617,\n",
              "         0.93946179, 0.94169799,        nan, 0.93950453, 0.9391816 ,\n",
              "         0.94133469, 0.93918516, 0.94201024,        nan, 0.93931457,\n",
              "         0.94244299, 0.94165228, 0.94012903, 0.94220139,        nan,\n",
              "         0.94139465, 0.94165525, 0.94014268, 0.93995569, 0.93992957,\n",
              "                nan, 0.94074403, 0.94072147, 0.94090668, 0.93910918,\n",
              "         0.94086038,        nan, 0.94126286, 0.94190457, 0.94109902,\n",
              "         0.93897027, 0.93984112,        nan, 0.94056832, 0.94175617,\n",
              "         0.94095714, 0.94048521, 0.93889013,        nan, 0.93956568,\n",
              "         0.94121537, 0.94020976, 0.93765894, 0.93836477,        nan,\n",
              "                nan,        nan,        nan,        nan,        nan,\n",
              "                nan,        nan,        nan,        nan,        nan,\n",
              "                nan,        nan,        nan,        nan,        nan,\n",
              "                nan,        nan,        nan,        nan,        nan,\n",
              "                nan,        nan,        nan,        nan,        nan,\n",
              "                nan,        nan,        nan,        nan,        nan]),\n",
              "  'std_fit_time': array([0.0856062 , 0.15505193, 0.10712411, 0.07359843, 0.26107366,\n",
              "         0.01429353, 0.11343917, 0.14397242, 0.2262426 , 0.10962411,\n",
              "         0.17317546, 0.00640022, 0.14652205, 0.13504794, 0.19096913,\n",
              "         0.25500857, 0.24482164, 0.01378441, 0.14987006, 0.26966701,\n",
              "         0.21903117, 0.12716247, 0.27567044, 0.00933502, 0.2014118 ,\n",
              "         0.2452969 , 0.20962784, 0.22577033, 0.24297113, 0.01653347,\n",
              "         0.10809529, 0.11979515, 0.2106715 , 0.26072139, 0.27938417,\n",
              "         0.01998802, 0.42582628, 0.18805249, 0.38771942, 0.16511584,\n",
              "         0.28107911, 0.0098322 , 0.17485109, 0.15318236, 0.31186666,\n",
              "         1.18949957, 1.35231657, 0.01567491, 0.18334091, 0.08630573,\n",
              "         0.06461043, 0.22434906, 0.21214319, 0.00174482, 0.1438013 ,\n",
              "         0.2915911 , 0.24383779, 0.147335  , 0.18832446, 0.01599948,\n",
              "         0.23202084, 0.20268589, 0.19270403, 0.12821067, 0.11562888,\n",
              "         0.01146861, 0.1669927 , 0.2305411 , 0.0495814 , 0.31521191,\n",
              "         0.2469564 , 0.00368408, 0.35988474, 0.14856061, 0.15890321,\n",
              "         0.36457846, 0.10776105, 0.00246105, 0.15429182, 0.16609609,\n",
              "         0.39870815, 0.1012708 , 0.16259905, 0.00452187, 0.18669982,\n",
              "         0.1437796 , 0.07851401, 0.22918686, 0.14970815, 0.01658928,\n",
              "         0.10759746, 0.29675541, 0.31070393, 0.14226249, 0.25496071,\n",
              "         0.00303577, 0.33704369, 0.2732589 , 0.10209276, 0.34512469,\n",
              "         0.10211401, 0.0043816 , 0.23746554, 0.24358062, 0.16500349,\n",
              "         0.22111621, 0.28371627, 0.01316306, 0.16607938, 0.26578584,\n",
              "         0.25409616, 0.1746368 , 0.10438556, 0.00275614, 0.21904243,\n",
              "         0.3584915 , 0.39028212, 0.11238046, 0.16521511, 0.01170987,\n",
              "         1.50321847, 0.98137781, 0.08370292, 0.24209435, 0.22946022,\n",
              "         0.0192789 , 0.25815802, 0.28140279, 0.30206726, 0.07723635,\n",
              "         0.10587827, 0.01757313, 0.13863757, 0.21991556, 0.26787062,\n",
              "         0.34382212, 0.14197492, 0.01358255, 0.32530016, 0.13659154,\n",
              "         0.12981837, 0.38695649, 0.29902092, 0.0030281 , 0.45724669,\n",
              "         0.38966074, 0.35313156, 0.19234549, 0.73066704, 0.00378624,\n",
              "         0.01236172, 0.00403074, 0.00814598, 0.00866196, 0.0202082 ,\n",
              "         0.02933286, 0.02155244, 0.01648388, 0.01530917, 0.00260907,\n",
              "         0.01807424, 0.02218491, 0.01456361, 0.0127899 , 0.01184193,\n",
              "         0.00275497, 0.0066001 , 0.01634714, 0.00330533, 0.01619727,\n",
              "         0.01198347, 0.0101781 , 0.01018374, 0.01343458, 0.00927537,\n",
              "         0.01003235, 0.00880801, 0.00677424, 0.00725176, 0.00630634]),\n",
              "  'std_score_time': array([0.02892645, 0.01229107, 0.0159442 , 0.00850397, 0.01018494,\n",
              "         0.        , 0.02105976, 0.03023219, 0.00511118, 0.01039752,\n",
              "         0.00888475, 0.        , 0.01060809, 0.01001212, 0.01319408,\n",
              "         0.01841414, 0.01282109, 0.        , 0.01189046, 0.0213297 ,\n",
              "         0.00971792, 0.01689799, 0.01180576, 0.        , 0.02505211,\n",
              "         0.01408338, 0.01129238, 0.01096925, 0.0056802 , 0.        ,\n",
              "         0.01269929, 0.01484408, 0.01852486, 0.00949876, 0.01562122,\n",
              "         0.        , 0.01724996, 0.02429491, 0.03508445, 0.00834531,\n",
              "         0.02637215, 0.        , 0.01547299, 0.03083093, 0.01310953,\n",
              "         0.05046156, 0.06175243, 0.        , 0.00618971, 0.01778685,\n",
              "         0.01938044, 0.01189698, 0.01716653, 0.        , 0.00836437,\n",
              "         0.02002253, 0.01505131, 0.00931464, 0.01960375, 0.        ,\n",
              "         0.00751823, 0.02447528, 0.01316553, 0.01223748, 0.01232558,\n",
              "         0.        , 0.0106574 , 0.0080722 , 0.02204706, 0.01275768,\n",
              "         0.02267795, 0.        , 0.01227159, 0.0158376 , 0.01807146,\n",
              "         0.01634406, 0.01302887, 0.        , 0.01003959, 0.02682776,\n",
              "         0.02319342, 0.01216319, 0.01192077, 0.        , 0.00879397,\n",
              "         0.00591574, 0.02129639, 0.01843563, 0.01393449, 0.        ,\n",
              "         0.01117321, 0.0167238 , 0.01964481, 0.00597025, 0.02171615,\n",
              "         0.        , 0.01001459, 0.01275592, 0.01476838, 0.01416228,\n",
              "         0.01576695, 0.        , 0.01646207, 0.01673755, 0.01940309,\n",
              "         0.01011699, 0.00803783, 0.        , 0.01451887, 0.01909137,\n",
              "         0.01771008, 0.01521681, 0.01253891, 0.        , 0.01180613,\n",
              "         0.03206645, 0.01391209, 0.01943015, 0.01210951, 0.        ,\n",
              "         0.04874737, 0.01739858, 0.01002937, 0.01525215, 0.02625845,\n",
              "         0.        , 0.01658792, 0.01339883, 0.01283808, 0.01369913,\n",
              "         0.02120996, 0.        , 0.01629547, 0.00870977, 0.01835929,\n",
              "         0.00950611, 0.02132507, 0.        , 0.00892085, 0.020917  ,\n",
              "         0.01040927, 0.00962441, 0.01248006, 0.        , 0.01946859,\n",
              "         0.01928801, 0.00605904, 0.00802845, 0.0366908 , 0.        ,\n",
              "         0.        , 0.        , 0.        , 0.        , 0.        ,\n",
              "         0.        , 0.        , 0.        , 0.        , 0.        ,\n",
              "         0.        , 0.        , 0.        , 0.        , 0.        ,\n",
              "         0.        , 0.        , 0.        , 0.        , 0.        ,\n",
              "         0.        , 0.        , 0.        , 0.        , 0.        ,\n",
              "         0.        , 0.        , 0.        , 0.        , 0.        ]),\n",
              "  'std_test_score': array([0.01106531, 0.01093297, 0.01259579, 0.01109914, 0.01015826,\n",
              "                nan, 0.01116904, 0.0111282 , 0.012394  , 0.0104499 ,\n",
              "         0.01067742,        nan, 0.01217245, 0.01141673, 0.01266759,\n",
              "         0.01069818, 0.01199681,        nan, 0.01211146, 0.01124322,\n",
              "         0.01192721, 0.01144074, 0.01122467,        nan, 0.01142549,\n",
              "         0.01076573, 0.01205853, 0.01007954, 0.01098772,        nan,\n",
              "         0.01106531, 0.01093297, 0.01259579, 0.01109914, 0.01015826,\n",
              "                nan, 0.01116904, 0.0111282 , 0.012394  , 0.0104499 ,\n",
              "         0.01067742,        nan, 0.01217245, 0.01141673, 0.01266759,\n",
              "         0.01069818, 0.01199681,        nan, 0.01211146, 0.01124322,\n",
              "         0.01192721, 0.01144074, 0.01122467,        nan, 0.01142549,\n",
              "         0.01076573, 0.01205853, 0.01007954, 0.01098772,        nan,\n",
              "         0.01220552, 0.01264581, 0.01241215, 0.00981073, 0.01111281,\n",
              "                nan, 0.01070343, 0.01219674, 0.01298107, 0.01090554,\n",
              "         0.01081894,        nan, 0.01195419, 0.01195417, 0.01222752,\n",
              "         0.01081139, 0.01052899,        nan, 0.01187158, 0.01311159,\n",
              "         0.01145094, 0.00993601, 0.01066172,        nan, 0.0110897 ,\n",
              "         0.01174262, 0.01126058, 0.01065544, 0.01182056,        nan,\n",
              "         0.01092859, 0.01224622, 0.01274704, 0.01052008, 0.01076156,\n",
              "                nan, 0.01225439, 0.01193545, 0.01091724, 0.01081515,\n",
              "         0.01079057,        nan, 0.01093553, 0.01177649, 0.01175958,\n",
              "         0.01146215, 0.01027673,        nan, 0.01120604, 0.01154462,\n",
              "         0.0116024 , 0.01091644, 0.01020609,        nan, 0.01031218,\n",
              "         0.01111716, 0.01185757, 0.01114036, 0.00933143,        nan,\n",
              "         0.01036104, 0.01098173, 0.01165038, 0.01121325, 0.01025837,\n",
              "                nan, 0.01124577, 0.01116056, 0.01058775, 0.01012065,\n",
              "         0.01002663,        nan, 0.01108312, 0.01085306, 0.01078138,\n",
              "         0.0101701 , 0.01005153,        nan, 0.01131548, 0.01223361,\n",
              "         0.01130965, 0.0111788 , 0.00985799,        nan, 0.01010229,\n",
              "         0.01147715, 0.01146499, 0.01030691, 0.01035665,        nan,\n",
              "                nan,        nan,        nan,        nan,        nan,\n",
              "                nan,        nan,        nan,        nan,        nan,\n",
              "                nan,        nan,        nan,        nan,        nan,\n",
              "                nan,        nan,        nan,        nan,        nan,\n",
              "                nan,        nan,        nan,        nan,        nan,\n",
              "                nan,        nan,        nan,        nan,        nan])},\n",
              " {'colsample_bytree': 1.0, 'gamma': 0.0, 'subsample': 0.7},\n",
              " 0.9338577335421432)"
            ]
          },
          "metadata": {
            "tags": []
          },
          "execution_count": 61
        }
      ]
    },
    {
      "cell_type": "markdown",
      "metadata": {
        "id": "0eshhena-STs",
        "colab_type": "text"
      },
      "source": [
        "Random Forest Classifier"
      ]
    },
    {
      "cell_type": "code",
      "metadata": {
        "id": "hPAUcGhf474C",
        "colab_type": "code",
        "colab": {
          "base_uri": "https://localhost:8080/",
          "height": 153
        },
        "outputId": "4bb9d0e9-1a45-4b02-a570-0c647b282a44"
      },
      "source": [
        "forest_clf = RandomForestClassifier(random_state=rnd_state, n_estimators=200)\n",
        "forest_clf.fit (X_train, Y_train)"
      ],
      "execution_count": 64,
      "outputs": [
        {
          "output_type": "execute_result",
          "data": {
            "text/plain": [
              "RandomForestClassifier(bootstrap=True, ccp_alpha=0.0, class_weight=None,\n",
              "                       criterion='gini', max_depth=None, max_features='auto',\n",
              "                       max_leaf_nodes=None, max_samples=None,\n",
              "                       min_impurity_decrease=0.0, min_impurity_split=None,\n",
              "                       min_samples_leaf=1, min_samples_split=2,\n",
              "                       min_weight_fraction_leaf=0.0, n_estimators=200,\n",
              "                       n_jobs=None, oob_score=False, random_state=42, verbose=0,\n",
              "                       warm_start=False)"
            ]
          },
          "metadata": {
            "tags": []
          },
          "execution_count": 64
        }
      ]
    },
    {
      "cell_type": "code",
      "metadata": {
        "id": "LmXtu8IT9-Er",
        "colab_type": "code",
        "colab": {
          "base_uri": "https://localhost:8080/",
          "height": 214
        },
        "outputId": "7225daaf-78b5-402b-c8d7-791f1df9d976"
      },
      "source": [
        "param_grid = [\n",
        "    \n",
        "    {\n",
        "      'n_estimators': range(200,400, 20)\n",
        "    },\n",
        "   ]\n",
        "\n",
        "# train across 5 folds, that's a total of (12+6)*5=90 rounds of training \n",
        "grid_forest_clf = GridSearchCV(forest_clf, param_grid, cv=skfold,\n",
        "                           scoring='accuracy', return_train_score=True)\n",
        "\n",
        "grid_forest_clf.fit(X_train, Y_train)\n",
        "rfc_clf = grid_forest_clf.best_estimator_\n",
        "\n",
        "print(grid_forest_clf.best_score_)\n"
      ],
      "execution_count": 65,
      "outputs": [
        {
          "output_type": "stream",
          "text": [
            "0.9527748841417912\n"
          ],
          "name": "stdout"
        },
        {
          "output_type": "error",
          "ename": "NameError",
          "evalue": "ignored",
          "traceback": [
            "\u001b[0;31m---------------------------------------------------------------------------\u001b[0m",
            "\u001b[0;31mNameError\u001b[0m                                 Traceback (most recent call last)",
            "\u001b[0;32m<ipython-input-65-b6e18eb3940d>\u001b[0m in \u001b[0;36m<module>\u001b[0;34m()\u001b[0m\n\u001b[1;32m     14\u001b[0m \u001b[0;34m\u001b[0m\u001b[0m\n\u001b[1;32m     15\u001b[0m \u001b[0mprint\u001b[0m\u001b[0;34m(\u001b[0m\u001b[0mgrid_forest_clf\u001b[0m\u001b[0;34m.\u001b[0m\u001b[0mbest_score_\u001b[0m\u001b[0;34m)\u001b[0m\u001b[0;34m\u001b[0m\u001b[0;34m\u001b[0m\u001b[0m\n\u001b[0;32m---> 16\u001b[0;31m \u001b[0mRFC_best\u001b[0m\u001b[0;34m\u001b[0m\u001b[0;34m\u001b[0m\u001b[0m\n\u001b[0m",
            "\u001b[0;31mNameError\u001b[0m: name 'RFC_best' is not defined"
          ]
        }
      ]
    },
    {
      "cell_type": "code",
      "metadata": {
        "id": "xBycQVkRFQO2",
        "colab_type": "code",
        "colab": {
          "base_uri": "https://localhost:8080/",
          "height": 153
        },
        "outputId": "8d7e5aa5-86ca-4242-8c8e-dc3e594112cb"
      },
      "source": [
        "rfc_clf"
      ],
      "execution_count": 66,
      "outputs": [
        {
          "output_type": "execute_result",
          "data": {
            "text/plain": [
              "RandomForestClassifier(bootstrap=True, ccp_alpha=0.0, class_weight=None,\n",
              "                       criterion='gini', max_depth=None, max_features='auto',\n",
              "                       max_leaf_nodes=None, max_samples=None,\n",
              "                       min_impurity_decrease=0.0, min_impurity_split=None,\n",
              "                       min_samples_leaf=1, min_samples_split=2,\n",
              "                       min_weight_fraction_leaf=0.0, n_estimators=280,\n",
              "                       n_jobs=None, oob_score=False, random_state=42, verbose=0,\n",
              "                       warm_start=False)"
            ]
          },
          "metadata": {
            "tags": []
          },
          "execution_count": 66
        }
      ]
    },
    {
      "cell_type": "markdown",
      "metadata": {
        "id": "LIJ0bkHIFVlq",
        "colab_type": "text"
      },
      "source": [
        "Logistic Regression"
      ]
    },
    {
      "cell_type": "code",
      "metadata": {
        "id": "OZha3Yl8FU1S",
        "colab_type": "code",
        "colab": {
          "base_uri": "https://localhost:8080/",
          "height": 51
        },
        "outputId": "de2f4ba7-ef84-4919-fead-ea2fb36b4e97"
      },
      "source": [
        "from sklearn.linear_model import LogisticRegression\n",
        "from sklearn.metrics import roc_auc_score\n",
        "\n",
        "lr_c=LogisticRegression( C=1, class_weight={0:0.62, 1:0.38}, max_iter=5000,\n",
        "                     penalty='l2',\n",
        "                   random_state=None, solver='lbfgs', verbose=0,\n",
        "                   warm_start=True)\n",
        "lr_c.fit(X_train,Y_train.ravel())\n",
        "lr_pred=lr_c.predict(X_test)\n",
        "lr_ac=accuracy_score(Y_test.ravel(), lr_pred)\n",
        "print('LogisticRegression_accuracy test:',lr_ac)\n",
        "print(\"AUC\",roc_auc_score(Y_test.ravel(), lr_pred))"
      ],
      "execution_count": 69,
      "outputs": [
        {
          "output_type": "stream",
          "text": [
            "LogisticRegression_accuracy test: 0.9150174621653085\n",
            "AUC 0.5946658986175115\n"
          ],
          "name": "stdout"
        }
      ]
    },
    {
      "cell_type": "code",
      "metadata": {
        "id": "p8ggCHo1F0bM",
        "colab_type": "code",
        "colab": {
          "base_uri": "https://localhost:8080/",
          "height": 105
        },
        "outputId": "189d81c2-2db1-4da5-903b-15e48bd25667"
      },
      "source": [
        "from sklearn.model_selection import StratifiedShuffleSplit, cross_val_score\n",
        "\n",
        "from sklearn.preprocessing import StandardScaler\n",
        "scaler= StandardScaler()\n",
        "\n",
        "cv = StratifiedShuffleSplit(n_splits = 15, test_size = .25, random_state = 0 ) # run model 10x with 60/30 split intentionally leaving out 10%\n",
        "\n",
        "x = scaler.fit_transform(X)\n",
        "accuracies = cross_val_score(LogisticRegression(solver='liblinear',class_weight={0:0.9, 1:0.1}), X,y, cv  = cv)\n",
        "print (\"CV accuracy on 15 chunks: {}\".format(accuracies))\n",
        "print (\"Mean CV accuracy: {}\".format(round(accuracies.mean(),5)))"
      ],
      "execution_count": 71,
      "outputs": [
        {
          "output_type": "stream",
          "text": [
            "CV accuracy on 15 chunks: [0.78574755 0.77666511 0.77782953 0.80391244 0.77061015 0.7906381\n",
            " 0.76781556 0.78993945 0.78178854 0.78341872 0.78551467 0.79226828\n",
            " 0.77596646 0.7782953  0.77992548]\n",
            "Mean CV accuracy: 0.78269\n"
          ],
          "name": "stdout"
        }
      ]
    },
    {
      "cell_type": "markdown",
      "metadata": {
        "id": "BlB2T4R1GtaM",
        "colab_type": "text"
      },
      "source": [
        "Adaboost Classifier"
      ]
    },
    {
      "cell_type": "code",
      "metadata": {
        "id": "ykj4GdjoGsrV",
        "colab_type": "code",
        "colab": {
          "base_uri": "https://localhost:8080/",
          "height": 102
        },
        "outputId": "7b64bf77-ee15-42d4-fd9e-03c075ae1b36"
      },
      "source": [
        "ada_clf = AdaBoostClassifier(\n",
        "    DecisionTreeClassifier(random_state=rnd_state, max_depth=2),\n",
        "    random_state = rnd_state)\n",
        "\n",
        "param_grid = {\n",
        "              \"n_estimators\" :range(200,400, 20),\n",
        "              \"learning_rate\":  [0.05, 0.1, 0.5]}\n",
        "\n",
        "grid_ada_clf = GridSearchCV(ada_clf, param_grid, cv=skfold, scoring=\"accuracy\", n_jobs= -1, verbose = 1)\n",
        "grid_ada_clf.fit(X_train, Y_train)\n",
        "grid_ada_clf.best_params_\n",
        "\n",
        "ada_clf = grid_ada_clf.best_estimator_\n",
        "\n",
        "ada_pred = grid_ada_clf.predict(X_test).astype(int)\n",
        "grid_ada_scores = (grid_ada_clf.best_score_ + accuracy_score (ada_pred, Y_test))/2\n",
        "grid_ada_scores"
      ],
      "execution_count": 72,
      "outputs": [
        {
          "output_type": "stream",
          "text": [
            "Fitting 5 folds for each of 30 candidates, totalling 150 fits\n"
          ],
          "name": "stdout"
        },
        {
          "output_type": "stream",
          "text": [
            "[Parallel(n_jobs=-1)]: Using backend LokyBackend with 2 concurrent workers.\n",
            "[Parallel(n_jobs=-1)]: Done  46 tasks      | elapsed:  3.1min\n",
            "[Parallel(n_jobs=-1)]: Done 150 out of 150 | elapsed: 10.5min finished\n"
          ],
          "name": "stderr"
        },
        {
          "output_type": "execute_result",
          "data": {
            "text/plain": [
              "0.9482207542143051"
            ]
          },
          "metadata": {
            "tags": []
          },
          "execution_count": 72
        }
      ]
    },
    {
      "cell_type": "markdown",
      "metadata": {
        "id": "AWDAASZmHPPg",
        "colab_type": "text"
      },
      "source": [
        "Using voting Classifier"
      ]
    },
    {
      "cell_type": "code",
      "metadata": {
        "id": "-_ckAA4gHOc7",
        "colab_type": "code",
        "colab": {}
      },
      "source": [
        "from sklearn.ensemble import VotingClassifier\n",
        "\n",
        "voting_classifier = VotingClassifier(estimators=[\n",
        "    ('ada_classifier',ada_clf),\n",
        "    ('XGB_Classifier', xgb_clf),\n",
        "    ('random_forest_Classifier', rfc_clf)\n",
        "],voting='hard')\n",
        "\n",
        "voting_classifier = voting_classifier.fit(X_train,Y_train.ravel())"
      ],
      "execution_count": 73,
      "outputs": []
    },
    {
      "cell_type": "code",
      "metadata": {
        "id": "SdEnLo-JH9ni",
        "colab_type": "code",
        "colab": {
          "base_uri": "https://localhost:8080/",
          "height": 51
        },
        "outputId": "0d0f755d-959c-4119-bf66-727f145a5ae2"
      },
      "source": [
        "vote_pred = voting_classifier.predict(X_test)\n",
        "voting_accy = round(accuracy_score(vote_pred, Y_test.ravel()), 4)\n",
        "print('Voting accuracy of the combined classifiers: ',voting_accy)\n",
        "print('AUC: ',round(roc_auc_score(Y_test.ravel(), vote_pred), 4))"
      ],
      "execution_count": 74,
      "outputs": [
        {
          "output_type": "stream",
          "text": [
            "Voting accuracy of the combined classifiers:  0.9499\n",
            "AUC:  0.7732\n"
          ],
          "name": "stdout"
        }
      ]
    },
    {
      "cell_type": "code",
      "metadata": {
        "id": "l6SDcN30IGh3",
        "colab_type": "code",
        "colab": {
          "base_uri": "https://localhost:8080/",
          "height": 170
        },
        "outputId": "d827b081-fcfe-4c04-88fe-5f0273f9c039"
      },
      "source": [
        "from sklearn.metrics import classification_report\n",
        "\n",
        "print(classification_report(Y_test, vote_pred))"
      ],
      "execution_count": 75,
      "outputs": [
        {
          "output_type": "stream",
          "text": [
            "              precision    recall  f1-score   support\n",
            "\n",
            "           0       0.89      0.55      0.68       168\n",
            "           1       0.95      0.99      0.97      1550\n",
            "\n",
            "    accuracy                           0.95      1718\n",
            "   macro avg       0.92      0.77      0.83      1718\n",
            "weighted avg       0.95      0.95      0.94      1718\n",
            "\n"
          ],
          "name": "stdout"
        }
      ]
    },
    {
      "cell_type": "code",
      "metadata": {
        "id": "zBNr0lYQLdqm",
        "colab_type": "code",
        "colab": {}
      },
      "source": [
        "from sklearn.preprocessing import StandardScaler\n",
        "\n",
        "feature_scaler = StandardScaler()\n",
        "test_set = feature_scaler.fit_transform(test)"
      ],
      "execution_count": 105,
      "outputs": []
    },
    {
      "cell_type": "code",
      "metadata": {
        "id": "5MiXAkSgIQ0q",
        "colab_type": "code",
        "colab": {}
      },
      "source": [
        "final_pred = voting_classifier.predict(test_set)"
      ],
      "execution_count": 106,
      "outputs": []
    },
    {
      "cell_type": "code",
      "metadata": {
        "id": "VMEIViyXLpcQ",
        "colab_type": "code",
        "colab": {
          "base_uri": "https://localhost:8080/",
          "height": 34
        },
        "outputId": "b0b3a569-5ecb-4889-f488-26136b6b9398"
      },
      "source": [
        "final_pred"
      ],
      "execution_count": 107,
      "outputs": [
        {
          "output_type": "execute_result",
          "data": {
            "text/plain": [
              "array([1, 1, 1, ..., 1, 1, 1])"
            ]
          },
          "metadata": {
            "tags": []
          },
          "execution_count": 107
        }
      ]
    },
    {
      "cell_type": "code",
      "metadata": {
        "id": "_DOBLPJiL2RB",
        "colab_type": "code",
        "colab": {}
      },
      "source": [
        "test_csv_2 = pd.read_csv('/content/test.csv')\n",
        "summission = pd.concat([test_csv_2['tripid'], pd.DataFrame(final_pred)], axis=1)\n",
        "summission.columns = ['tripid', 'prediction']\n",
        "summission.to_csv('submission_emsemble.csv', encoding='utf-8', index = False)"
      ],
      "execution_count": 109,
      "outputs": []
    }
  ]
}